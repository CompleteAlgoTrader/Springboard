{
 "cells": [
  {
   "cell_type": "markdown",
   "id": "939be2c4",
   "metadata": {},
   "source": [
    "# 5 Modeling<a id='5_Modeling'></a>\n",
    "Justin Jimenez 1/20/2022\n",
    "\n",
    "The objective of this notebook was to develop various models and evaluate the best model for the application.\n",
    "\n",
    "# 5.1 Contents<a id='5.1_Contents'></a>\n",
    "* [5 Modeling](#5_Modeling)\n",
    "  * [5.1 Contents](#5.1_Contents)\n",
    "  * [5.2 Importing](#5.2_Importing)\n",
    "  * [5.3 Dummy Classifier](#5.3_Dummy_Classifier)\n",
    "  * [5.4 Logistic Regression](#5.4_Logistic_Regression)\n",
    "  * [5.5 Decision Tree](#5.5_Decision_Tree)\n",
    "      * [5.5.1 Gini Tree](#5.5.1_Gini_Tree)\n",
    "      * [5.5.2 Entropy Tree](#5.5.2_Entropy_Tree)\n",
    "  * [5.6 Random Forest](#5.6_Random_Forest)\n",
    "  * [5.7 Gradient Boost](#5.7_Gradient_Boost)\n",
    "  * [5.8 Model Comparison](#5.8_Model_Comparison)\n",
    "      * [5.8.1 Dummy Classifier](#5.8.1_Dummy_Classifier)\n",
    "      * [5.8.2 Logistic Regression](#5.8.2_Logistic_Regression)\n",
    "      * [5.8.3 Gini Decision_Tree](#5.8.3_Gini_Decision_Tree)\n",
    "      * [5.8.4 Entropy_Decision_Tree](#5.8.4_Entropy_Decision_Tree)\n",
    "      * [5.8.5 Random Forest](#5.8.5_Random_Forest)\n",
    "      * [5.8.6 Gradient Boosting Classifier](#5.8.6_Gradient_Boosting_Classifier)\n",
    "  * [5.9 Model Selection](#5.9_Model_Selection)\n",
    "  * [5.10 Data Quantity Assessment](#5.10_Data_Quantity_Assessment)\n",
    "  * [5.11 Retrain and Visualize](#5.11_Retrain)\n",
    "  * [5.12 Export](#5.12_Export)\n",
    "  \n",
    "      \n",
    "# 5.2 Importing<a id='5.2_Importing'></a>"
   ]
  },
  {
   "cell_type": "code",
   "execution_count": 70,
   "id": "206bdfdd",
   "metadata": {},
   "outputs": [],
   "source": [
    "import pandas as pd\n",
    "import numpy as np\n",
    "import bamboolib\n",
    "import seaborn as sns\n",
    "import matplotlib.pyplot as plt\n",
    "from sklearn.linear_model import LogisticRegression\n",
    "from sklearn.metrics import classification_report, confusion_matrix, plot_roc_curve, plot_precision_recall_curve\n",
    "from sklearn.model_selection import learning_curve, RandomizedSearchCV\n",
    "from sklearn.dummy import DummyClassifier\n",
    "from sklearn.ensemble import GradientBoostingClassifier, RandomForestClassifier\n",
    "import sklearn.tree\n",
    "import graphviz\n",
    "from sklearn import __version__ as sklearn_version\n",
    "import datetime\n",
    "# from library.sb_utils import save_file"
   ]
  },
  {
   "cell_type": "code",
   "execution_count": 71,
   "id": "5db21d37",
   "metadata": {},
   "outputs": [],
   "source": [
    "X_final = pd.read_csv(r'C:\\Users\\jjsun\\OneDrive\\Desktop\\pythonprojects\\LendingClub-Loan_Default-Prediction\\data\\processed\\X_final.csv')"
   ]
  },
  {
   "cell_type": "code",
   "execution_count": 72,
   "id": "073833db",
   "metadata": {},
   "outputs": [],
   "source": [
    "X_train = pd.read_csv(r'C:\\Users\\jjsun\\OneDrive\\Desktop\\pythonprojects\\LendingClub-Loan_Default-Prediction\\data\\processed\\X_train.csv')"
   ]
  },
  {
   "cell_type": "code",
   "execution_count": 73,
   "id": "14071414",
   "metadata": {},
   "outputs": [],
   "source": [
    "X_test = pd.read_csv(r'C:\\Users\\jjsun\\OneDrive\\Desktop\\pythonprojects\\LendingClub-Loan_Default-Prediction\\data\\processed\\X_test.csv')"
   ]
  },
  {
   "cell_type": "code",
   "execution_count": 74,
   "id": "bc718555",
   "metadata": {},
   "outputs": [],
   "source": [
    "y_final = pd.read_csv(r'C:\\Users\\jjsun\\OneDrive\\Desktop\\pythonprojects\\LendingClub-Loan_Default-Prediction\\data\\processed\\y_final.csv')"
   ]
  },
  {
   "cell_type": "code",
   "execution_count": 75,
   "id": "57a72643",
   "metadata": {},
   "outputs": [],
   "source": [
    "y_train = pd.read_csv(r'C:\\Users\\jjsun\\OneDrive\\Desktop\\pythonprojects\\LendingClub-Loan_Default-Prediction\\data\\processed\\y_train.csv')"
   ]
  },
  {
   "cell_type": "code",
   "execution_count": 76,
   "id": "bb335b4f",
   "metadata": {},
   "outputs": [],
   "source": [
    "y_test = pd.read_csv(r'C:\\Users\\jjsun\\OneDrive\\Desktop\\pythonprojects\\LendingClub-Loan_Default-Prediction\\data\\processed\\y_test.csv')"
   ]
  },
  {
   "cell_type": "markdown",
   "id": "5f477e46",
   "metadata": {},
   "source": [
    "# 5.3 Dummy Classifier<a id='5.3_Dummy_Classifier'></a>\n",
    "[Table of Contents](#5.1_Contents)\n",
    "\n",
    "First I created a dummy classifier to use as a baseline comparison for the advanced models. On an imbalanced dataset, using a dummy classifier with the 'most frequent' strategy would provide misleading accuracy and poor recall scores. The training set was balanced with SMOTEENN, so the results would not be as poor as that. Nonetheless I opted to use the 'stratified' strategy.\n",
    "\n",
    "From the sklearn documentation:\n",
    "\n",
    "“stratified”: the predict_proba method randomly samples one-hot vectors from a multinomial distribution parametrized by the empirical class prior probabilities. The predict method returns the class label which got probability one in the one-hot vector of predict_proba. Each sampled row of both methods is therefore independent and identically distributed."
   ]
  },
  {
   "cell_type": "code",
   "execution_count": 77,
   "id": "51e4bc56",
   "metadata": {},
   "outputs": [
    {
     "data": {
      "text/plain": [
       "DummyClassifier(random_state=42, strategy='stratified')"
      ]
     },
     "execution_count": 77,
     "metadata": {},
     "output_type": "execute_result"
    }
   ],
   "source": [
    "dummy_clf = DummyClassifier(strategy=\"stratified\", random_state=42)\n",
    "dummy_clf.fit(X_train, y_train)"
   ]
  },
  {
   "cell_type": "code",
   "execution_count": 78,
   "id": "94efcfbc",
   "metadata": {},
   "outputs": [],
   "source": [
    "y_pred = dummy_clf.predict(X_train)"
   ]
  },
  {
   "cell_type": "code",
   "execution_count": 79,
   "id": "498d6d31",
   "metadata": {
    "scrolled": true
   },
   "outputs": [
    {
     "name": "stdout",
     "output_type": "stream",
     "text": [
      "              precision    recall  f1-score   support\n",
      "\n",
      "           0       0.39      0.39      0.39    238799\n",
      "           1       0.61      0.61      0.61    376815\n",
      "\n",
      "    accuracy                           0.53    615614\n",
      "   macro avg       0.50      0.50      0.50    615614\n",
      "weighted avg       0.53      0.53      0.53    615614\n",
      "\n"
     ]
    }
   ],
   "source": [
    "print(classification_report(y_train, y_pred))"
   ]
  },
  {
   "cell_type": "code",
   "execution_count": 80,
   "id": "330e4cd5",
   "metadata": {},
   "outputs": [],
   "source": [
    "y_pred = dummy_clf.predict(X_test)"
   ]
  },
  {
   "cell_type": "code",
   "execution_count": 81,
   "id": "5640258e",
   "metadata": {
    "scrolled": true
   },
   "outputs": [
    {
     "name": "stdout",
     "output_type": "stream",
     "text": [
      "              precision    recall  f1-score   support\n",
      "\n",
      "           0       0.80      0.39      0.52    133050\n",
      "           1       0.20      0.61      0.31     34135\n",
      "\n",
      "    accuracy                           0.43    167185\n",
      "   macro avg       0.50      0.50      0.41    167185\n",
      "weighted avg       0.67      0.43      0.48    167185\n",
      "\n"
     ]
    }
   ],
   "source": [
    "print(classification_report(y_test, y_pred))"
   ]
  },
  {
   "cell_type": "markdown",
   "id": "2b883fac",
   "metadata": {},
   "source": [
    "# 5.4 Logistic Regression<a id='5.4_Logistic_Regression'></a>\n",
    "[Table of Contents](#5.1_Contents)"
   ]
  },
  {
   "cell_type": "code",
   "execution_count": 82,
   "id": "090823ce",
   "metadata": {},
   "outputs": [],
   "source": [
    "class_weight = []\n",
    "for i in np.linspace(0.5,5,1000):\n",
    "    class_weight.append({0: i, 1: 1})"
   ]
  },
  {
   "cell_type": "code",
   "execution_count": 83,
   "id": "161e280a",
   "metadata": {
    "scrolled": true
   },
   "outputs": [
    {
     "data": {
      "text/plain": [
       "RandomizedSearchCV(cv=5, estimator=LogisticRegression(random_state=42),\n",
       "                   param_distributions={'C': array([1.00000000e-10, 1.00100101e-02, 2.00200201e-02, 3.00300301e-02,\n",
       "       4.00400401e-02, 5.00500501e-02, 6.00600602e-02, 7.00700702e-02,\n",
       "       8.00800802e-02, 9.00900902e-02, 1.00100100e-01, 1.10110110e-01,\n",
       "       1.20120120e-01, 1.30130130e-01, 1.40140140e-01, 1.50150150e-01,\n",
       "       1.601601...\n",
       "                                                         {0: 0.5810810810810811,\n",
       "                                                          1: 1},\n",
       "                                                         {0: 0.5855855855855856,\n",
       "                                                          1: 1},\n",
       "                                                         {0: 0.5900900900900901,\n",
       "                                                          1: 1},\n",
       "                                                         {0: 0.5945945945945946,\n",
       "                                                          1: 1},\n",
       "                                                         {0: 0.5990990990990991,\n",
       "                                                          1: 1},\n",
       "                                                         {0: 0.6036036036036037,\n",
       "                                                          1: 1},\n",
       "                                                         {0: 0.6081081081081081,\n",
       "                                                          1: 1},\n",
       "                                                         {0: 0.6126126126126126,\n",
       "                                                          1: 1},\n",
       "                                                         {0: 0.6171171171171171,\n",
       "                                                          1: 1},\n",
       "                                                         {0: 0.6216216216216216,\n",
       "                                                          1: 1},\n",
       "                                                         {0: 0.6261261261261262,\n",
       "                                                          1: 1},\n",
       "                                                         {0: 0.6306306306306306,\n",
       "                                                          1: 1}, ...],\n",
       "                                        'penalty': ['l2', 'none']},\n",
       "                   scoring='f1')"
      ]
     },
     "execution_count": 83,
     "metadata": {},
     "output_type": "execute_result"
    }
   ],
   "source": [
    "param_grid=dict(C = np.linspace(0.0000000001,10,1000), penalty = ['l2', 'l1', 'elasticnet', 'none'], class_weight = class_weight)\n",
    "clf = LogisticRegression(random_state = 42)\n",
    "clf_cv = RandomizedSearchCV(clf, param_grid, scoring='f1', cv=5)\n",
    "clf_cv.fit(X_train, y_train)"
   ]
  },
  {
   "cell_type": "code",
   "execution_count": 84,
   "id": "2ee80350",
   "metadata": {},
   "outputs": [
    {
     "data": {
      "text/plain": [
       "{'penalty': 'none',\n",
       " 'class_weight': {0: 0.9864864864864864, 1: 1},\n",
       " 'C': 8.468468468483783}"
      ]
     },
     "execution_count": 84,
     "metadata": {},
     "output_type": "execute_result"
    }
   ],
   "source": [
    "clf_cv.best_params_"
   ]
  },
  {
   "cell_type": "code",
   "execution_count": 85,
   "id": "2c603be6",
   "metadata": {},
   "outputs": [],
   "source": [
    "y_pred = clf_cv.predict(X_train)"
   ]
  },
  {
   "cell_type": "code",
   "execution_count": 86,
   "id": "16d22255",
   "metadata": {
    "scrolled": false
   },
   "outputs": [
    {
     "name": "stdout",
     "output_type": "stream",
     "text": [
      "              precision    recall  f1-score   support\n",
      "\n",
      "           0       0.80      0.86      0.83    238799\n",
      "           1       0.91      0.86      0.88    376815\n",
      "\n",
      "    accuracy                           0.86    615614\n",
      "   macro avg       0.85      0.86      0.85    615614\n",
      "weighted avg       0.86      0.86      0.86    615614\n",
      "\n"
     ]
    }
   ],
   "source": [
    "print(classification_report(y_train, y_pred))"
   ]
  },
  {
   "cell_type": "code",
   "execution_count": 87,
   "id": "62435716",
   "metadata": {},
   "outputs": [],
   "source": [
    "y_pred = clf_cv.predict(X_test)"
   ]
  },
  {
   "cell_type": "code",
   "execution_count": 88,
   "id": "004b808c",
   "metadata": {
    "scrolled": true
   },
   "outputs": [
    {
     "name": "stdout",
     "output_type": "stream",
     "text": [
      "              precision    recall  f1-score   support\n",
      "\n",
      "           0       0.85      0.82      0.84    133050\n",
      "           1       0.38      0.43      0.40     34135\n",
      "\n",
      "    accuracy                           0.74    167185\n",
      "   macro avg       0.61      0.62      0.62    167185\n",
      "weighted avg       0.75      0.74      0.75    167185\n",
      "\n"
     ]
    }
   ],
   "source": [
    "print(classification_report(y_test, y_pred))"
   ]
  },
  {
   "cell_type": "markdown",
   "id": "84e4ea4e",
   "metadata": {},
   "source": [
    "### Finalized Logistic Regression Model"
   ]
  },
  {
   "cell_type": "code",
   "execution_count": 89,
   "id": "3ba950a8",
   "metadata": {},
   "outputs": [],
   "source": [
    "clf = LogisticRegression(random_state = 42, penalty = 'none', \n",
    "                         class_weight = {0: 0.9324324324324325, 1: 1}, C = 4.2842842843414415).fit(X_train, y_train)"
   ]
  },
  {
   "cell_type": "code",
   "execution_count": 90,
   "id": "6d52a59b",
   "metadata": {},
   "outputs": [],
   "source": [
    "y_pred = clf.predict(X_test)"
   ]
  },
  {
   "cell_type": "code",
   "execution_count": 91,
   "id": "d60112c9",
   "metadata": {
    "scrolled": false
   },
   "outputs": [
    {
     "name": "stdout",
     "output_type": "stream",
     "text": [
      "              precision    recall  f1-score   support\n",
      "\n",
      "           0       0.85      0.81      0.83    133050\n",
      "           1       0.38      0.44      0.41     34135\n",
      "\n",
      "    accuracy                           0.74    167185\n",
      "   macro avg       0.61      0.63      0.62    167185\n",
      "weighted avg       0.75      0.74      0.74    167185\n",
      "\n"
     ]
    }
   ],
   "source": [
    "print(classification_report(y_test, y_pred))"
   ]
  },
  {
   "cell_type": "code",
   "execution_count": 92,
   "id": "69012ce4",
   "metadata": {},
   "outputs": [],
   "source": [
    "logreg_features = pd.DataFrame()\n",
    "logreg_features['features'] = X_train.columns\n",
    "logreg_features['coef'] = clf.coef_[0]\n",
    "logreg_features = logreg_features.sort_values(by=['coef'], ascending=[False])"
   ]
  },
  {
   "cell_type": "markdown",
   "id": "5869696d",
   "metadata": {},
   "source": [
    "# 5.5 Decision Tree<a id='5.5_Decision_Tree'></a>\n",
    "[Table of Contents](#5.1_Contents)\n",
    "\n",
    "## 5.5.1 Gini Tree<a id='5.5.1_Gini_Tree'></a>"
   ]
  },
  {
   "cell_type": "code",
   "execution_count": 93,
   "id": "d0354154",
   "metadata": {},
   "outputs": [],
   "source": [
    "param_grid = dict(\n",
    "    class_weight = class_weight,\n",
    "    max_depth=list(range(2,11)),\n",
    "    min_samples_leaf=list(range(1,21)),\n",
    "    min_samples_split=list(range(5,51)),\n",
    ")\n",
    "gini_tree = sklearn.tree.DecisionTreeClassifier(random_state=42, criterion = 'gini')\n",
    "gini_tree_cv = RandomizedSearchCV(gini_tree, param_grid, scoring='f1', cv=5).fit(X_train, y_train)"
   ]
  },
  {
   "cell_type": "code",
   "execution_count": 94,
   "id": "9f3ae745",
   "metadata": {
    "scrolled": true
   },
   "outputs": [
    {
     "data": {
      "text/plain": [
       "{'min_samples_split': 32,\n",
       " 'min_samples_leaf': 3,\n",
       " 'max_depth': 4,\n",
       " 'class_weight': {0: 0.9684684684684685, 1: 1}}"
      ]
     },
     "execution_count": 94,
     "metadata": {},
     "output_type": "execute_result"
    }
   ],
   "source": [
    "gini_tree_cv.best_params_"
   ]
  },
  {
   "cell_type": "code",
   "execution_count": 95,
   "id": "1ae5d48a",
   "metadata": {},
   "outputs": [],
   "source": [
    "y_pred = gini_tree_cv.predict(X_train)"
   ]
  },
  {
   "cell_type": "code",
   "execution_count": 96,
   "id": "a18858cd",
   "metadata": {
    "scrolled": false
   },
   "outputs": [
    {
     "name": "stdout",
     "output_type": "stream",
     "text": [
      "              precision    recall  f1-score   support\n",
      "\n",
      "           0       0.73      0.59      0.65    238799\n",
      "           1       0.77      0.87      0.81    376815\n",
      "\n",
      "    accuracy                           0.76    615614\n",
      "   macro avg       0.75      0.73      0.73    615614\n",
      "weighted avg       0.75      0.76      0.75    615614\n",
      "\n"
     ]
    }
   ],
   "source": [
    "print(classification_report(y_train, y_pred))"
   ]
  },
  {
   "cell_type": "code",
   "execution_count": 97,
   "id": "fc165594",
   "metadata": {},
   "outputs": [],
   "source": [
    "y_pred = gini_tree_cv.predict(X_test)"
   ]
  },
  {
   "cell_type": "code",
   "execution_count": 98,
   "id": "0c0e6550",
   "metadata": {
    "scrolled": true
   },
   "outputs": [
    {
     "name": "stdout",
     "output_type": "stream",
     "text": [
      "              precision    recall  f1-score   support\n",
      "\n",
      "           0       0.87      0.54      0.67    133050\n",
      "           1       0.28      0.69      0.40     34135\n",
      "\n",
      "    accuracy                           0.57    167185\n",
      "   macro avg       0.57      0.61      0.53    167185\n",
      "weighted avg       0.75      0.57      0.61    167185\n",
      "\n"
     ]
    }
   ],
   "source": [
    "print(classification_report(y_test, y_pred))"
   ]
  },
  {
   "cell_type": "markdown",
   "id": "21ae1455",
   "metadata": {},
   "source": [
    "### Finalized Gini Decision Tree"
   ]
  },
  {
   "cell_type": "code",
   "execution_count": 99,
   "id": "8c778420",
   "metadata": {},
   "outputs": [],
   "source": [
    "gini_tree = sklearn.tree.DecisionTreeClassifier(random_state=42, criterion = 'gini', min_samples_split = 13,\n",
    "                                                  min_samples_leaf = 15, max_depth = 3, class_weight = {0: 1.5855855855855856, 1: 1}\n",
    "                                                  ).fit(X_train, y_train)"
   ]
  },
  {
   "cell_type": "code",
   "execution_count": 100,
   "id": "d1039c67",
   "metadata": {},
   "outputs": [
    {
     "data": {
      "text/plain": [
       "[(0.6397306047672607, 'int_rate'),\n",
       " (0.24030724544307863, 'last_credit_pull_d'),\n",
       " (0.06581756136304372, 'home_ownership_MORTGAGE'),\n",
       " (0.054144588426616735, 'loan_amnt'),\n",
       " (0.0, 'total_bal_ex_mort'),\n",
       " (0.0, 'tot_hi_cred_lim'),\n",
       " (0.0, 'tot_bal_tot_hi_cred_lim_ratio'),\n",
       " (0.0, 'tot_bal_income_ratio'),\n",
       " (0.0, 'tax_liens'),\n",
       " (0.0, 'purpose_vacation'),\n",
       " (0.0, 'purpose_other'),\n",
       " (0.0, 'purpose_moving'),\n",
       " (0.0, 'purpose_medical'),\n",
       " (0.0, 'purpose_major_purchase'),\n",
       " (0.0, 'purpose_house'),\n",
       " (0.0, 'purpose_energy'),\n",
       " (0.0, 'purpose_credit_card'),\n",
       " (0.0, 'purpose_consolidation'),\n",
       " (0.0, 'purpose_car'),\n",
       " (0.0, 'pub_rec_bankruptcies'),\n",
       " (0.0, 'mths_since_recent_inq'),\n",
       " (0.0, 'mths_since_last_delinq'),\n",
       " (0.0, 'installment'),\n",
       " (0.0, 'inq_last_12m'),\n",
       " (0.0, 'home_ownership_RENT'),\n",
       " (0.0, 'home_ownership_OWN'),\n",
       " (0.0, 'home_ownership_NONE'),\n",
       " (0.0, 'fico_avg'),\n",
       " (0.0, 'emp_length_No Employment'),\n",
       " (0.0, 'emp_length_< 1 year'),\n",
       " (0.0, 'emp_length_9 years'),\n",
       " (0.0, 'emp_length_8 years'),\n",
       " (0.0, 'emp_length_7 years'),\n",
       " (0.0, 'emp_length_6 years'),\n",
       " (0.0, 'emp_length_5 years'),\n",
       " (0.0, 'emp_length_4 years'),\n",
       " (0.0, 'emp_length_3 years'),\n",
       " (0.0, 'emp_length_2 years'),\n",
       " (0.0, 'emp_length_10+ years'),\n",
       " (0.0, 'earliest_cr_line'),\n",
       " (0.0, 'delinq_2yrs'),\n",
       " (0.0, 'chargeoff_within_12_mths'),\n",
       " (0.0, 'annual_inc'),\n",
       " (0.0, 'acc_now_delinq')]"
      ]
     },
     "execution_count": 100,
     "metadata": {},
     "output_type": "execute_result"
    }
   ],
   "source": [
    "sorted(list(zip(gini_tree.feature_importances_, X_train.columns)), reverse = True)"
   ]
  },
  {
   "cell_type": "code",
   "execution_count": 101,
   "id": "6a0c2dcd",
   "metadata": {
    "scrolled": false
   },
   "outputs": [],
   "source": [
    "## Visualize the decision tree\n",
    "# dot_data = sklearn.tree.export_graphviz(gini_tree, out_file=None, \n",
    "#                      feature_names=X_test.columns,  \n",
    "#                      class_names=str(gini_tree.classes_),  \n",
    "#                      filled=True, rounded=True,  \n",
    "#                      special_characters=True)  \n",
    "# graph = graphviz.Source(dot_data)\n",
    "# graph"
   ]
  },
  {
   "cell_type": "markdown",
   "id": "f385e9e0",
   "metadata": {},
   "source": [
    "## 5.5.2 Entropy Tree<a id='5.5.2_Entropy_Tree'></a>\n",
    "[Table of Contents](#5.1_Contents)"
   ]
  },
  {
   "cell_type": "code",
   "execution_count": 162,
   "id": "8f47c31a",
   "metadata": {},
   "outputs": [],
   "source": [
    "param_grid = dict(\n",
    "    class_weight = class_weight,\n",
    "    max_depth=list(range(2,11)),\n",
    "    min_samples_leaf=list(range(1,21)),\n",
    "    min_samples_split=list(range(5,51)),\n",
    ")\n",
    "entropy_tree = sklearn.tree.DecisionTreeClassifier(random_state=42, criterion = 'entropy')\n",
    "entropy_tree_cv = RandomizedSearchCV(entropy_tree, param_grid, scoring='f1', cv=5).fit(X_train, y_train)"
   ]
  },
  {
   "cell_type": "code",
   "execution_count": 163,
   "id": "2849a8fd",
   "metadata": {
    "scrolled": true
   },
   "outputs": [
    {
     "data": {
      "text/plain": [
       "{'min_samples_split': 22,\n",
       " 'min_samples_leaf': 20,\n",
       " 'max_depth': 4,\n",
       " 'class_weight': {0: 0.9684684684684685, 1: 1}}"
      ]
     },
     "execution_count": 163,
     "metadata": {},
     "output_type": "execute_result"
    }
   ],
   "source": [
    "entropy_tree_cv.best_params_"
   ]
  },
  {
   "cell_type": "code",
   "execution_count": 164,
   "id": "d737d652",
   "metadata": {},
   "outputs": [],
   "source": [
    "y_pred = entropy_tree_cv.predict(X_train)"
   ]
  },
  {
   "cell_type": "code",
   "execution_count": 165,
   "id": "484a1f45",
   "metadata": {
    "scrolled": true
   },
   "outputs": [
    {
     "name": "stdout",
     "output_type": "stream",
     "text": [
      "              precision    recall  f1-score   support\n",
      "\n",
      "           0       0.75      0.53      0.62    238799\n",
      "           1       0.75      0.89      0.81    376815\n",
      "\n",
      "    accuracy                           0.75    615614\n",
      "   macro avg       0.75      0.71      0.72    615614\n",
      "weighted avg       0.75      0.75      0.74    615614\n",
      "\n"
     ]
    }
   ],
   "source": [
    "print(classification_report(y_train, y_pred))"
   ]
  },
  {
   "cell_type": "code",
   "execution_count": 166,
   "id": "25fda02d",
   "metadata": {},
   "outputs": [],
   "source": [
    "y_pred = entropy_tree_cv.predict(X_test)"
   ]
  },
  {
   "cell_type": "code",
   "execution_count": 167,
   "id": "df49bc74",
   "metadata": {
    "scrolled": true
   },
   "outputs": [
    {
     "name": "stdout",
     "output_type": "stream",
     "text": [
      "              precision    recall  f1-score   support\n",
      "\n",
      "           0       0.90      0.48      0.62    133050\n",
      "           1       0.28      0.79      0.41     34135\n",
      "\n",
      "    accuracy                           0.54    167185\n",
      "   macro avg       0.59      0.63      0.52    167185\n",
      "weighted avg       0.77      0.54      0.58    167185\n",
      "\n"
     ]
    }
   ],
   "source": [
    "print(classification_report(y_test, y_pred))"
   ]
  },
  {
   "cell_type": "markdown",
   "id": "0bec2eac",
   "metadata": {},
   "source": [
    "### Finalized Entropy Decision Tree"
   ]
  },
  {
   "cell_type": "code",
   "execution_count": 192,
   "id": "2705be99",
   "metadata": {},
   "outputs": [],
   "source": [
    "entropy_tree = sklearn.tree.DecisionTreeClassifier(random_state=42, criterion = 'entropy', min_samples_split = 46,\n",
    "                                                  min_samples_leaf = 2, max_depth = 3, class_weight = {0: 0.7612612612612613, 1: 1}\n",
    "                                                  ).fit(X_train, y_train)"
   ]
  },
  {
   "cell_type": "code",
   "execution_count": 193,
   "id": "7abc8ba0",
   "metadata": {
    "scrolled": true
   },
   "outputs": [
    {
     "data": {
      "text/plain": [
       "[(0.6617593608502509, 'int_rate'),\n",
       " (0.22521955349859674, 'last_credit_pull_d'),\n",
       " (0.06088230360915024, 'home_ownership_MORTGAGE'),\n",
       " (0.05213878204200208, 'loan_amnt'),\n",
       " (0.0, 'total_bal_ex_mort'),\n",
       " (0.0, 'tot_hi_cred_lim'),\n",
       " (0.0, 'tot_bal_tot_hi_cred_lim_ratio'),\n",
       " (0.0, 'tot_bal_income_ratio'),\n",
       " (0.0, 'tax_liens'),\n",
       " (0.0, 'purpose_vacation'),\n",
       " (0.0, 'purpose_other'),\n",
       " (0.0, 'purpose_moving'),\n",
       " (0.0, 'purpose_medical'),\n",
       " (0.0, 'purpose_major_purchase'),\n",
       " (0.0, 'purpose_house'),\n",
       " (0.0, 'purpose_energy'),\n",
       " (0.0, 'purpose_credit_card'),\n",
       " (0.0, 'purpose_consolidation'),\n",
       " (0.0, 'purpose_car'),\n",
       " (0.0, 'pub_rec_bankruptcies'),\n",
       " (0.0, 'mths_since_recent_inq'),\n",
       " (0.0, 'mths_since_last_delinq'),\n",
       " (0.0, 'installment'),\n",
       " (0.0, 'inq_last_12m'),\n",
       " (0.0, 'home_ownership_RENT'),\n",
       " (0.0, 'home_ownership_OWN'),\n",
       " (0.0, 'home_ownership_NONE'),\n",
       " (0.0, 'fico_avg'),\n",
       " (0.0, 'emp_length_No Employment'),\n",
       " (0.0, 'emp_length_< 1 year'),\n",
       " (0.0, 'emp_length_9 years'),\n",
       " (0.0, 'emp_length_8 years'),\n",
       " (0.0, 'emp_length_7 years'),\n",
       " (0.0, 'emp_length_6 years'),\n",
       " (0.0, 'emp_length_5 years'),\n",
       " (0.0, 'emp_length_4 years'),\n",
       " (0.0, 'emp_length_3 years'),\n",
       " (0.0, 'emp_length_2 years'),\n",
       " (0.0, 'emp_length_10+ years'),\n",
       " (0.0, 'earliest_cr_line'),\n",
       " (0.0, 'delinq_2yrs'),\n",
       " (0.0, 'chargeoff_within_12_mths'),\n",
       " (0.0, 'annual_inc'),\n",
       " (0.0, 'acc_now_delinq')]"
      ]
     },
     "execution_count": 193,
     "metadata": {},
     "output_type": "execute_result"
    }
   ],
   "source": [
    "sorted(list(zip(entropy_tree.feature_importances_, X_train.columns)), reverse = True)"
   ]
  },
  {
   "cell_type": "code",
   "execution_count": 195,
   "id": "73b6742b",
   "metadata": {
    "scrolled": false
   },
   "outputs": [],
   "source": [
    "# # Visualize the decision tree\n",
    "# dot_data = sklearn.tree.export_graphviz(entropy_tree, out_file=None, \n",
    "#                      feature_names=X_test.columns,  \n",
    "#                      class_names=[str(entropy_tree.classes_[0]), str(entropy_tree.classes_[1])],  \n",
    "#                      filled=True, rounded=True,  \n",
    "#                      special_characters=True)  \n",
    "# graph = graphviz.Source(dot_data)\n",
    "# graph"
   ]
  },
  {
   "cell_type": "markdown",
   "id": "970446f6",
   "metadata": {},
   "source": [
    "# 5.6 Random Forest<a id='5.6_Random_Forest'></a>\n",
    "[Table of Contents](#5.1_Contents)"
   ]
  },
  {
   "cell_type": "code",
   "execution_count": 111,
   "id": "a7877266",
   "metadata": {
    "scrolled": true
   },
   "outputs": [
    {
     "data": {
      "text/plain": [
       "RandomizedSearchCV(cv=5,\n",
       "                   estimator=RandomForestClassifier(n_estimators=50, n_jobs=-1,\n",
       "                                                    random_state=42),\n",
       "                   param_distributions={'class_weight': [{0: 0.5, 1: 1},\n",
       "                                                         {0: 0.5045045045045045,\n",
       "                                                          1: 1},\n",
       "                                                         {0: 0.509009009009009,\n",
       "                                                          1: 1},\n",
       "                                                         {0: 0.5135135135135135,\n",
       "                                                          1: 1},\n",
       "                                                         {0: 0.5180180180180181,\n",
       "                                                          1: 1},\n",
       "                                                         {0: 0.5225225225225225,\n",
       "                                                          1: 1},\n",
       "                                                         {0: 0.527027027027027,\n",
       "                                                          1: 1},\n",
       "                                                         {0: 0.5315315315315315,\n",
       "                                                          1: 1},\n",
       "                                                         {0: 0.536036036...\n",
       "                                                         {0: 0.6126126126126126,\n",
       "                                                          1: 1},\n",
       "                                                         {0: 0.6171171171171171,\n",
       "                                                          1: 1},\n",
       "                                                         {0: 0.6216216216216216,\n",
       "                                                          1: 1},\n",
       "                                                         {0: 0.6261261261261262,\n",
       "                                                          1: 1},\n",
       "                                                         {0: 0.6306306306306306,\n",
       "                                                          1: 1}, ...],\n",
       "                                        'max_depth': [2, 3],\n",
       "                                        'min_samples_leaf': [1, 2, 3, 4, 5, 6,\n",
       "                                                             7, 8, 9, 10, 11,\n",
       "                                                             12, 13, 14, 15, 16,\n",
       "                                                             17, 18, 19, 20],\n",
       "                                        'min_samples_split': [5, 6, 7, 8, 9, 10,\n",
       "                                                              11, 12, 13, 14,\n",
       "                                                              15, 16, 17, 18,\n",
       "                                                              19, 20, 21, 22,\n",
       "                                                              23, 24, 25, 26,\n",
       "                                                              27, 28, 29, 30,\n",
       "                                                              31, 32, 33, 34, ...]},\n",
       "                   scoring='f1')"
      ]
     },
     "execution_count": 111,
     "metadata": {},
     "output_type": "execute_result"
    }
   ],
   "source": [
    "param_grid = dict(\n",
    "    max_depth=list(range(2,4)),\n",
    "    min_samples_leaf=list(range(1,21)),\n",
    "    min_samples_split=list(range(5,51)),\n",
    "    class_weight = class_weight\n",
    ")\n",
    "rf = RandomForestClassifier(n_estimators = 50, max_features = 'auto', \n",
    "                                random_state = 42, n_jobs = -1)\n",
    "rf_cv = RandomizedSearchCV(rf, param_grid, scoring='f1', cv=5)\n",
    "rf_cv.fit(X_train, y_train)"
   ]
  },
  {
   "cell_type": "code",
   "execution_count": 112,
   "id": "28e9e716",
   "metadata": {
    "scrolled": true
   },
   "outputs": [
    {
     "data": {
      "text/plain": [
       "{'min_samples_split': 24,\n",
       " 'min_samples_leaf': 4,\n",
       " 'max_depth': 3,\n",
       " 'class_weight': {0: 1.2522522522522523, 1: 1}}"
      ]
     },
     "execution_count": 112,
     "metadata": {},
     "output_type": "execute_result"
    }
   ],
   "source": [
    "rf_cv.best_params_"
   ]
  },
  {
   "cell_type": "code",
   "execution_count": 113,
   "id": "3922ab37",
   "metadata": {},
   "outputs": [],
   "source": [
    "y_pred = rf_cv.predict(X_train)"
   ]
  },
  {
   "cell_type": "code",
   "execution_count": 114,
   "id": "bfd80569",
   "metadata": {
    "scrolled": true
   },
   "outputs": [
    {
     "name": "stdout",
     "output_type": "stream",
     "text": [
      "              precision    recall  f1-score   support\n",
      "\n",
      "           0       0.75      0.63      0.68    238799\n",
      "           1       0.79      0.87      0.83    376815\n",
      "\n",
      "    accuracy                           0.78    615614\n",
      "   macro avg       0.77      0.75      0.75    615614\n",
      "weighted avg       0.77      0.78      0.77    615614\n",
      "\n"
     ]
    }
   ],
   "source": [
    "print(classification_report(y_train, y_pred))"
   ]
  },
  {
   "cell_type": "code",
   "execution_count": 115,
   "id": "c24d1a92",
   "metadata": {},
   "outputs": [],
   "source": [
    "y_pred = rf_cv.predict(X_test)"
   ]
  },
  {
   "cell_type": "code",
   "execution_count": 116,
   "id": "34e3415a",
   "metadata": {
    "scrolled": false
   },
   "outputs": [
    {
     "name": "stdout",
     "output_type": "stream",
     "text": [
      "              precision    recall  f1-score   support\n",
      "\n",
      "           0       0.89      0.56      0.69    133050\n",
      "           1       0.30      0.72      0.42     34135\n",
      "\n",
      "    accuracy                           0.60    167185\n",
      "   macro avg       0.59      0.64      0.56    167185\n",
      "weighted avg       0.77      0.60      0.64    167185\n",
      "\n"
     ]
    }
   ],
   "source": [
    "print(classification_report(y_test, y_pred))"
   ]
  },
  {
   "cell_type": "markdown",
   "id": "c5da47e0",
   "metadata": {},
   "source": [
    "### Finalized Random Forest Classifier"
   ]
  },
  {
   "cell_type": "code",
   "execution_count": 181,
   "id": "3d660d8e",
   "metadata": {},
   "outputs": [],
   "source": [
    "rf = RandomForestClassifier(n_estimators=50, max_features='auto', class_weight={0: 1.2522522522522523, 1: 1}, n_jobs = -1, \n",
    "                            random_state = 42, min_samples_split = 24, min_samples_leaf = 4, \n",
    "                            max_depth = 3).fit(X_train, y_train)"
   ]
  },
  {
   "cell_type": "code",
   "execution_count": 182,
   "id": "ccf17430",
   "metadata": {
    "scrolled": true
   },
   "outputs": [
    {
     "data": {
      "text/plain": [
       "[(0.2744726762075758, 'int_rate'),\n",
       " (0.14358790966112872, 'last_credit_pull_d'),\n",
       " (0.10294936203125006, 'home_ownership_MORTGAGE'),\n",
       " (0.09424292254249486, 'emp_length_10+ years'),\n",
       " (0.07444289772819053, 'loan_amnt'),\n",
       " (0.05929329141041225, 'installment'),\n",
       " (0.05901856543747831, 'tot_bal_tot_hi_cred_lim_ratio'),\n",
       " (0.03883700771243196, 'fico_avg'),\n",
       " (0.0352153834164352, 'purpose_credit_card'),\n",
       " (0.03226204027165512, 'home_ownership_OWN'),\n",
       " (0.012758236881163358, 'emp_length_2 years'),\n",
       " (0.01180395027293359, 'annual_inc'),\n",
       " (0.010876088746417809, 'tot_hi_cred_lim'),\n",
       " (0.00856762719492486, 'purpose_house'),\n",
       " (0.00847287763965954, 'purpose_other'),\n",
       " (0.00784800329952842, 'home_ownership_RENT'),\n",
       " (0.006790020373288101, 'emp_length_3 years'),\n",
       " (0.0067079482143713055, 'emp_length_5 years'),\n",
       " (0.00646435439543068, 'purpose_consolidation'),\n",
       " (0.003514718329637801, 'mths_since_last_delinq'),\n",
       " (0.0011518369959882162, 'emp_length_4 years'),\n",
       " (0.0003612967325122992, 'emp_length_< 1 year'),\n",
       " (0.00029459284785614596, 'pub_rec_bankruptcies'),\n",
       " (2.535143973800251e-05, 'total_bal_ex_mort'),\n",
       " (1.9590509010723135e-05, 'earliest_cr_line'),\n",
       " (1.8100290660443565e-05, 'inq_last_12m'),\n",
       " (2.0963987569318604e-06, 'emp_length_6 years'),\n",
       " (8.265535987144112e-07, 'purpose_medical'),\n",
       " (4.264654703857821e-07, 'chargeoff_within_12_mths'),\n",
       " (0.0, 'tot_bal_income_ratio'),\n",
       " (0.0, 'tax_liens'),\n",
       " (0.0, 'purpose_vacation'),\n",
       " (0.0, 'purpose_moving'),\n",
       " (0.0, 'purpose_major_purchase'),\n",
       " (0.0, 'purpose_energy'),\n",
       " (0.0, 'purpose_car'),\n",
       " (0.0, 'mths_since_recent_inq'),\n",
       " (0.0, 'home_ownership_NONE'),\n",
       " (0.0, 'emp_length_No Employment'),\n",
       " (0.0, 'emp_length_9 years'),\n",
       " (0.0, 'emp_length_8 years'),\n",
       " (0.0, 'emp_length_7 years'),\n",
       " (0.0, 'delinq_2yrs'),\n",
       " (0.0, 'acc_now_delinq')]"
      ]
     },
     "execution_count": 182,
     "metadata": {},
     "output_type": "execute_result"
    }
   ],
   "source": [
    "sorted(list(zip(rf.feature_importances_, X_train.columns)), reverse = True)"
   ]
  },
  {
   "cell_type": "markdown",
   "id": "b2bd9b42",
   "metadata": {},
   "source": [
    "# 5.7 Gradient Boosting Trees<a id='5.7_Gradient_Boost'></a>\n",
    "[Table of Contents](#5.1_Contents)"
   ]
  },
  {
   "cell_type": "code",
   "execution_count": 121,
   "id": "1853b1f2",
   "metadata": {
    "scrolled": true
   },
   "outputs": [
    {
     "data": {
      "text/plain": [
       "RandomizedSearchCV(cv=5,\n",
       "                   estimator=GradientBoostingClassifier(max_features=2,\n",
       "                                                        n_estimators=50,\n",
       "                                                        random_state=42),\n",
       "                   param_distributions={'learning_rate': [0.001, 0.05, 0.1, 0.2,\n",
       "                                                          0.5],\n",
       "                                        'max_depth': [2, 3],\n",
       "                                        'min_samples_leaf': [1, 2, 3, 4, 5, 6,\n",
       "                                                             7, 8, 9, 10, 11,\n",
       "                                                             12, 13, 14, 15, 16,\n",
       "                                                             17, 18, 19, 20],\n",
       "                                        'min_samples_split': [5, 6, 7, 8, 9, 10,\n",
       "                                                              11, 12, 13, 14,\n",
       "                                                              15, 16, 17, 18,\n",
       "                                                              19, 20, 21, 22,\n",
       "                                                              23, 24, 25, 26,\n",
       "                                                              27, 28, 29, 30,\n",
       "                                                              31, 32, 33, 34, ...]},\n",
       "                   scoring='f1')"
      ]
     },
     "execution_count": 121,
     "metadata": {},
     "output_type": "execute_result"
    }
   ],
   "source": [
    "param_grid = dict(\n",
    "    learning_rate=[0.001, 0.05, 0.1, 0.2, 0.5],\n",
    "    max_depth=list(range(2,4)),\n",
    "    min_samples_leaf=list(range(1,21)),\n",
    "    min_samples_split=list(range(5,51)),\n",
    ")\n",
    "gb = GradientBoostingClassifier(n_estimators=50, max_features=2, \n",
    "                                random_state = 42)\n",
    "gb_cv = RandomizedSearchCV(gb, param_grid, scoring='f1', cv=5)\n",
    "gb_cv.fit(X_train, y_train)"
   ]
  },
  {
   "cell_type": "code",
   "execution_count": 122,
   "id": "ba11bc74",
   "metadata": {
    "scrolled": true
   },
   "outputs": [
    {
     "data": {
      "text/plain": [
       "{'min_samples_split': 23,\n",
       " 'min_samples_leaf': 20,\n",
       " 'max_depth': 2,\n",
       " 'learning_rate': 0.1}"
      ]
     },
     "execution_count": 122,
     "metadata": {},
     "output_type": "execute_result"
    }
   ],
   "source": [
    "gb_cv.best_params_"
   ]
  },
  {
   "cell_type": "code",
   "execution_count": 123,
   "id": "0536291a",
   "metadata": {},
   "outputs": [],
   "source": [
    "y_pred = gb_cv.predict(X_train)"
   ]
  },
  {
   "cell_type": "code",
   "execution_count": 124,
   "id": "670a544d",
   "metadata": {
    "scrolled": true
   },
   "outputs": [
    {
     "name": "stdout",
     "output_type": "stream",
     "text": [
      "              precision    recall  f1-score   support\n",
      "\n",
      "           0       0.84      0.57      0.68    238799\n",
      "           1       0.77      0.93      0.84    376815\n",
      "\n",
      "    accuracy                           0.79    615614\n",
      "   macro avg       0.81      0.75      0.76    615614\n",
      "weighted avg       0.80      0.79      0.78    615614\n",
      "\n"
     ]
    }
   ],
   "source": [
    "print(classification_report(y_train, y_pred))"
   ]
  },
  {
   "cell_type": "code",
   "execution_count": 125,
   "id": "aec9a87a",
   "metadata": {},
   "outputs": [],
   "source": [
    "y_pred = gb_cv.predict(X_test)"
   ]
  },
  {
   "cell_type": "code",
   "execution_count": 126,
   "id": "c0a21075",
   "metadata": {
    "scrolled": true
   },
   "outputs": [
    {
     "name": "stdout",
     "output_type": "stream",
     "text": [
      "              precision    recall  f1-score   support\n",
      "\n",
      "           0       0.88      0.50      0.64    133050\n",
      "           1       0.28      0.74      0.40     34135\n",
      "\n",
      "    accuracy                           0.55    167185\n",
      "   macro avg       0.58      0.62      0.52    167185\n",
      "weighted avg       0.76      0.55      0.59    167185\n",
      "\n"
     ]
    }
   ],
   "source": [
    "print(classification_report(y_test, y_pred))"
   ]
  },
  {
   "cell_type": "markdown",
   "id": "d43f0edf",
   "metadata": {},
   "source": [
    "### Finalized Gradient Boosting Classifier"
   ]
  },
  {
   "cell_type": "code",
   "execution_count": 127,
   "id": "f603717e",
   "metadata": {},
   "outputs": [],
   "source": [
    "gb = GradientBoostingClassifier(n_estimators=50, max_features=2, learning_rate = 0.2,\n",
    "                                random_state = 42, min_samples_split = 43, min_samples_leaf = 2, max_depth = 2).fit(X_train, y_train)"
   ]
  },
  {
   "cell_type": "code",
   "execution_count": 128,
   "id": "5ee17f70",
   "metadata": {
    "scrolled": true
   },
   "outputs": [
    {
     "data": {
      "text/plain": [
       "[(0.1251562819620649, 'int_rate'),\n",
       " (0.11921671524725098, 'last_credit_pull_d'),\n",
       " (0.09192311368256305, 'emp_length_10+ years'),\n",
       " (0.06813547175074905, 'purpose_credit_card'),\n",
       " (0.0600316308026645, 'home_ownership_MORTGAGE'),\n",
       " (0.05552225227281386, 'fico_avg'),\n",
       " (0.05134535281612374, 'loan_amnt'),\n",
       " (0.04558523491736634, 'installment'),\n",
       " (0.038232227559465246, 'purpose_house'),\n",
       " (0.036109319231432395, 'emp_length_2 years'),\n",
       " (0.02647582484102676, 'home_ownership_OWN'),\n",
       " (0.02579248850945864, 'purpose_consolidation'),\n",
       " (0.024172713951850035, 'emp_length_4 years'),\n",
       " (0.024057670619290896, 'tot_hi_cred_lim'),\n",
       " (0.02357482253674353, 'emp_length_3 years'),\n",
       " (0.022486616023071934, 'purpose_other'),\n",
       " (0.02123085470771254, 'emp_length_5 years'),\n",
       " (0.018019276505823585, 'annual_inc'),\n",
       " (0.017852552245756718, 'emp_length_8 years'),\n",
       " (0.016041424444637922, 'pub_rec_bankruptcies'),\n",
       " (0.013656286058682628, 'emp_length_6 years'),\n",
       " (0.011608648351651336, 'emp_length_< 1 year'),\n",
       " (0.01062790270003077, 'emp_length_7 years'),\n",
       " (0.008695141109071701, 'emp_length_9 years'),\n",
       " (0.008076913405974172, 'mths_since_recent_inq'),\n",
       " (0.007147563963922954, 'delinq_2yrs'),\n",
       " (0.0070780568726681965, 'tot_bal_income_ratio'),\n",
       " (0.006864119311174331, 'mths_since_last_delinq'),\n",
       " (0.00536917114014389, 'purpose_major_purchase'),\n",
       " (0.0038051147220316286, 'emp_length_No Employment'),\n",
       " (0.0021722589675477865, 'purpose_medical'),\n",
       " (0.0016286258315676234, 'purpose_vacation'),\n",
       " (0.0012367221691123433, 'purpose_moving'),\n",
       " (0.0006707004085554434, 'home_ownership_RENT'),\n",
       " (0.00018015031716439285, 'inq_last_12m'),\n",
       " (0.00010025535062712889, 'total_bal_ex_mort'),\n",
       " (7.784854701343675e-05, 'purpose_car'),\n",
       " (4.267614519348328e-05, 'earliest_cr_line'),\n",
       " (0.0, 'tot_bal_tot_hi_cred_lim_ratio'),\n",
       " (0.0, 'tax_liens'),\n",
       " (0.0, 'purpose_energy'),\n",
       " (0.0, 'home_ownership_NONE'),\n",
       " (0.0, 'chargeoff_within_12_mths'),\n",
       " (0.0, 'acc_now_delinq')]"
      ]
     },
     "execution_count": 128,
     "metadata": {},
     "output_type": "execute_result"
    }
   ],
   "source": [
    "sorted(list(zip(gb.feature_importances_, X_train.columns)), reverse = True)"
   ]
  },
  {
   "cell_type": "markdown",
   "id": "fa8fea09",
   "metadata": {},
   "source": [
    "# 5.8 Model Comparison<a id='5.8_Model_Comparison'></a>\n",
    "[Table of Contents](#5.1_Contents)\n",
    "\n",
    "It is important to note that all of these models were optimized for recall score. For this application, the priority is to identify and not accept applicants that are likely to default - accepting these applicants could increase the financial risk of the company. Therefore the recall score is the most important evaluation metric."
   ]
  },
  {
   "cell_type": "code",
   "execution_count": 129,
   "id": "0620c649",
   "metadata": {},
   "outputs": [],
   "source": [
    "def plot_confusion_matrix(test, pred, title, normalize = False):\n",
    "\n",
    "    cm = confusion_matrix(test, pred)\n",
    "    if normalize:\n",
    "        cm = cm.astype('float') / cm.sum(axis=1)[:, np.newaxis]\n",
    "        print(\"Normalized confusion matrix\")\n",
    "    else:\n",
    "        print('Confusion matrix, without normalization')\n",
    "              \n",
    "    df_cm = pd.DataFrame(cm.round(2))\n",
    "    plt.figure(figsize=(10, 5))\n",
    "    sns.heatmap(df_cm, annot=True, cmap='Blues', fmt='')\n",
    "    plt.xlabel(\"Predicted labels\")\n",
    "    plt.ylabel(\"True labels\")\n",
    "    plt.title(f'{title} Confusion Matrix')\n",
    "\n",
    "    return None"
   ]
  },
  {
   "cell_type": "markdown",
   "id": "2f77d550",
   "metadata": {},
   "source": [
    "# 5.8.1 Dummy Classifier<a id='5.8.1_Dummy_Classifier'></a>\n",
    "[Table of Contents](#5.1_Contents)\n",
    "\n",
    "The dummy classifier performed surprisingly well, correctly catching 61% of defaulted loans in the test set. However, this classifier performs poorly in f1 score and overall accuracy."
   ]
  },
  {
   "cell_type": "code",
   "execution_count": 130,
   "id": "125f8fb4",
   "metadata": {},
   "outputs": [],
   "source": [
    "dummy_y_pred = dummy_clf.predict(X_test)"
   ]
  },
  {
   "cell_type": "markdown",
   "id": "7e8a9f2a",
   "metadata": {},
   "source": [
    "### Testing Classification Report"
   ]
  },
  {
   "cell_type": "code",
   "execution_count": 131,
   "id": "83e5b594",
   "metadata": {
    "scrolled": false
   },
   "outputs": [
    {
     "name": "stdout",
     "output_type": "stream",
     "text": [
      "              precision    recall  f1-score   support\n",
      "\n",
      "           0       0.80      0.39      0.52    133050\n",
      "           1       0.20      0.61      0.31     34135\n",
      "\n",
      "    accuracy                           0.43    167185\n",
      "   macro avg       0.50      0.50      0.41    167185\n",
      "weighted avg       0.67      0.43      0.48    167185\n",
      "\n"
     ]
    }
   ],
   "source": [
    "print(classification_report(y_test, dummy_y_pred))"
   ]
  },
  {
   "cell_type": "markdown",
   "id": "440e6372",
   "metadata": {},
   "source": [
    "### Testing Confusion Matrix"
   ]
  },
  {
   "cell_type": "code",
   "execution_count": 132,
   "id": "70c2cb67",
   "metadata": {
    "scrolled": false
   },
   "outputs": [
    {
     "name": "stdout",
     "output_type": "stream",
     "text": [
      "Normalized confusion matrix\n"
     ]
    },
    {
     "data": {
      "image/png": "[encoded data removed]",
      "text/plain": [
       "<Figure size 720x360 with 2 Axes>"
      ]
     },
     "metadata": {
      "needs_background": "light"
     },
     "output_type": "display_data"
    }
   ],
   "source": [
    "plot_confusion_matrix(y_test, dummy_y_pred, 'Dummy Classifier', normalize = True)"
   ]
  },
  {
   "cell_type": "markdown",
   "id": "6ea2a129",
   "metadata": {},
   "source": [
    "### Testing ROC curve"
   ]
  },
  {
   "cell_type": "code",
   "execution_count": 133,
   "id": "fe81c51b",
   "metadata": {
    "scrolled": false
   },
   "outputs": [
    {
     "data": {
      "text/plain": [
       "<sklearn.metrics._plot.roc_curve.RocCurveDisplay at 0x1e2ab7856d0>"
      ]
     },
     "execution_count": 133,
     "metadata": {},
     "output_type": "execute_result"
    },
    {
     "data": {
      "image/png": "[encoded data removed]",
      "text/plain": [
       "<Figure size 432x288 with 1 Axes>"
      ]
     },
     "metadata": {
      "needs_background": "light"
     },
     "output_type": "display_data"
    }
   ],
   "source": [
    "plot_roc_curve(dummy_clf, X_test, y_test)"
   ]
  },
  {
   "cell_type": "markdown",
   "id": "40b0d96e",
   "metadata": {},
   "source": [
    "### Testing Precision - Recall Curve"
   ]
  },
  {
   "cell_type": "code",
   "execution_count": 134,
   "id": "d8cde672",
   "metadata": {
    "scrolled": true
   },
   "outputs": [
    {
     "data": {
      "text/plain": [
       "<sklearn.metrics._plot.precision_recall_curve.PrecisionRecallDisplay at 0x1e2ab137340>"
      ]
     },
     "execution_count": 134,
     "metadata": {},
     "output_type": "execute_result"
    },
    {
     "data": {
      "image/png": "[encoded data removed]",
      "text/plain": [
       "<Figure size 432x288 with 1 Axes>"
      ]
     },
     "metadata": {
      "needs_background": "light"
     },
     "output_type": "display_data"
    }
   ],
   "source": [
    "plot_precision_recall_curve(dummy_clf, X_test, y_test)"
   ]
  },
  {
   "cell_type": "markdown",
   "id": "2926beff",
   "metadata": {},
   "source": [
    "# 5.8.2 Logistic Regression<a id='5.8.2_Logistic_Regression'></a>\n",
    "[Table of Contents](#5.1_Contents)\n",
    "\n",
    "This model is the most interpretable of all of the advanced models and it performs decently well, catching 64% of defaulted loans on the test set. The overall accuracy and f1 score are also significantly better than the dummy classifier."
   ]
  },
  {
   "cell_type": "code",
   "execution_count": 135,
   "id": "3c256630",
   "metadata": {},
   "outputs": [],
   "source": [
    "clf_y_pred = clf.predict(X_test)"
   ]
  },
  {
   "cell_type": "markdown",
   "id": "362d1ecb",
   "metadata": {},
   "source": [
    "### Testing Classification Report"
   ]
  },
  {
   "cell_type": "code",
   "execution_count": 136,
   "id": "836c615a",
   "metadata": {
    "scrolled": false
   },
   "outputs": [
    {
     "name": "stdout",
     "output_type": "stream",
     "text": [
      "              precision    recall  f1-score   support\n",
      "\n",
      "           0       0.85      0.81      0.83    133050\n",
      "           1       0.38      0.44      0.41     34135\n",
      "\n",
      "    accuracy                           0.74    167185\n",
      "   macro avg       0.61      0.63      0.62    167185\n",
      "weighted avg       0.75      0.74      0.74    167185\n",
      "\n"
     ]
    }
   ],
   "source": [
    "print(classification_report(y_test, clf_y_pred))"
   ]
  },
  {
   "cell_type": "markdown",
   "id": "d8e8d71d",
   "metadata": {},
   "source": [
    "### Testing Confusion Matrix"
   ]
  },
  {
   "cell_type": "code",
   "execution_count": 137,
   "id": "45243813",
   "metadata": {
    "scrolled": false
   },
   "outputs": [
    {
     "name": "stdout",
     "output_type": "stream",
     "text": [
      "Normalized confusion matrix\n"
     ]
    },
    {
     "data": {
      "image/png": "[encoded data removed]",
      "text/plain": [
       "<Figure size 720x360 with 2 Axes>"
      ]
     },
     "metadata": {
      "needs_background": "light"
     },
     "output_type": "display_data"
    }
   ],
   "source": [
    "plot_confusion_matrix(y_test, clf_y_pred, 'Logistic Regression', normalize = True)"
   ]
  },
  {
   "cell_type": "markdown",
   "id": "41c16898",
   "metadata": {},
   "source": [
    "### Testing ROC curve"
   ]
  },
  {
   "cell_type": "code",
   "execution_count": 138,
   "id": "9251639e",
   "metadata": {
    "scrolled": true
   },
   "outputs": [
    {
     "data": {
      "text/plain": [
       "<sklearn.metrics._plot.roc_curve.RocCurveDisplay at 0x1e2ab90ef40>"
      ]
     },
     "execution_count": 138,
     "metadata": {},
     "output_type": "execute_result"
    },
    {
     "data": {
      "image/png": "[encoded data removed]",
      "text/plain": [
       "<Figure size 432x288 with 1 Axes>"
      ]
     },
     "metadata": {
      "needs_background": "light"
     },
     "output_type": "display_data"
    }
   ],
   "source": [
    "plot_roc_curve(clf, X_test, y_test)"
   ]
  },
  {
   "cell_type": "markdown",
   "id": "e956390d",
   "metadata": {},
   "source": [
    "### Testing Precision - Recall Curve"
   ]
  },
  {
   "cell_type": "code",
   "execution_count": 139,
   "id": "c0d28c85",
   "metadata": {
    "scrolled": true
   },
   "outputs": [
    {
     "data": {
      "text/plain": [
       "<sklearn.metrics._plot.precision_recall_curve.PrecisionRecallDisplay at 0x1e2ab9251c0>"
      ]
     },
     "execution_count": 139,
     "metadata": {},
     "output_type": "execute_result"
    },
    {
     "data": {
      "image/png": "[encoded data removed]",
      "text/plain": [
       "<Figure size 432x288 with 1 Axes>"
      ]
     },
     "metadata": {
      "needs_background": "light"
     },
     "output_type": "display_data"
    }
   ],
   "source": [
    "plot_precision_recall_curve(clf, X_test, y_test)"
   ]
  },
  {
   "cell_type": "markdown",
   "id": "a71479c4",
   "metadata": {},
   "source": [
    "# 5.8.3 Gini Decision Tree<a id='5.8.3_Gini_Decision_Tree'></a>\n",
    "[Table of Contents](#5.1_Contents)\n",
    "\n",
    "This model ranks above the dummy classifier and below the logistic regression. At a depth of 10 levels, it is interpretable but more complex than the logistic regression. It identifed 55% of defaulted loans, but also performs well with the non-defaulted class - a trade off."
   ]
  },
  {
   "cell_type": "code",
   "execution_count": 140,
   "id": "bd8e76ac",
   "metadata": {},
   "outputs": [],
   "source": [
    "gini_y_pred = gini_tree.predict(X_test)"
   ]
  },
  {
   "cell_type": "markdown",
   "id": "8bfdbc42",
   "metadata": {},
   "source": [
    "### Testing Classification Report"
   ]
  },
  {
   "cell_type": "code",
   "execution_count": 141,
   "id": "713e9aa6",
   "metadata": {
    "scrolled": false
   },
   "outputs": [
    {
     "name": "stdout",
     "output_type": "stream",
     "text": [
      "              precision    recall  f1-score   support\n",
      "\n",
      "           0       0.89      0.59      0.71    133050\n",
      "           1       0.31      0.71      0.43     34135\n",
      "\n",
      "    accuracy                           0.62    167185\n",
      "   macro avg       0.60      0.65      0.57    167185\n",
      "weighted avg       0.77      0.62      0.65    167185\n",
      "\n"
     ]
    }
   ],
   "source": [
    "print(classification_report(y_test, gini_y_pred))"
   ]
  },
  {
   "cell_type": "markdown",
   "id": "8a1d1fd3",
   "metadata": {},
   "source": [
    "### Testing Confusion Matrix"
   ]
  },
  {
   "cell_type": "code",
   "execution_count": 142,
   "id": "874f99e6",
   "metadata": {
    "scrolled": false
   },
   "outputs": [
    {
     "name": "stdout",
     "output_type": "stream",
     "text": [
      "Normalized confusion matrix\n"
     ]
    },
    {
     "data": {
      "image/png": "[encoded data removed]",
      "text/plain": [
       "<Figure size 720x360 with 2 Axes>"
      ]
     },
     "metadata": {
      "needs_background": "light"
     },
     "output_type": "display_data"
    }
   ],
   "source": [
    "plot_confusion_matrix(y_test, gini_y_pred, 'Gini Decision Tree', normalize = True)"
   ]
  },
  {
   "cell_type": "markdown",
   "id": "678cfc8f",
   "metadata": {},
   "source": [
    "### Testing ROC curve"
   ]
  },
  {
   "cell_type": "code",
   "execution_count": 143,
   "id": "6201988d",
   "metadata": {
    "scrolled": true
   },
   "outputs": [
    {
     "data": {
      "text/plain": [
       "<sklearn.metrics._plot.roc_curve.RocCurveDisplay at 0x1e2abbb0250>"
      ]
     },
     "execution_count": 143,
     "metadata": {},
     "output_type": "execute_result"
    },
    {
     "data": {
      "image/png": "[encoded data removed]",
      "text/plain": [
       "<Figure size 432x288 with 1 Axes>"
      ]
     },
     "metadata": {
      "needs_background": "light"
     },
     "output_type": "display_data"
    }
   ],
   "source": [
    "plot_roc_curve(gini_tree, X_test, y_test)"
   ]
  },
  {
   "cell_type": "markdown",
   "id": "7c9f651b",
   "metadata": {},
   "source": [
    "### Testing Precision - Recall Curve"
   ]
  },
  {
   "cell_type": "code",
   "execution_count": 144,
   "id": "da231950",
   "metadata": {
    "scrolled": false
   },
   "outputs": [
    {
     "data": {
      "text/plain": [
       "<sklearn.metrics._plot.precision_recall_curve.PrecisionRecallDisplay at 0x1e2ab162df0>"
      ]
     },
     "execution_count": 144,
     "metadata": {},
     "output_type": "execute_result"
    },
    {
     "data": {
      "image/png": "[encoded data removed]",
      "text/plain": [
       "<Figure size 432x288 with 1 Axes>"
      ]
     },
     "metadata": {
      "needs_background": "light"
     },
     "output_type": "display_data"
    }
   ],
   "source": [
    "plot_precision_recall_curve(gini_tree, X_test, y_test)"
   ]
  },
  {
   "cell_type": "markdown",
   "id": "00b560e6",
   "metadata": {},
   "source": [
    "# 5.8.4 Entropy Decision Tree<a id='5.8.4_Entropy_Decision_Tree'></a>\n",
    "[Table of Contents](#5.1_Contents)\n",
    "\n",
    "This decision tree was better than the Gini tree, but still more complicated than the logistic regression since this model also has 10 levels. However, it produces the highest recall score, identifying 71% of defaulted loans."
   ]
  },
  {
   "cell_type": "code",
   "execution_count": 196,
   "id": "7b06797b",
   "metadata": {},
   "outputs": [],
   "source": [
    "entropy_y_pred = entropy_tree.predict(X_test)"
   ]
  },
  {
   "cell_type": "markdown",
   "id": "a33fe94e",
   "metadata": {},
   "source": [
    "### Testing Classification Report"
   ]
  },
  {
   "cell_type": "code",
   "execution_count": 197,
   "id": "9e697aee",
   "metadata": {
    "scrolled": true
   },
   "outputs": [
    {
     "name": "stdout",
     "output_type": "stream",
     "text": [
      "              precision    recall  f1-score   support\n",
      "\n",
      "           0       0.91      0.42      0.57    133050\n",
      "           1       0.27      0.83      0.41     34135\n",
      "\n",
      "    accuracy                           0.50    167185\n",
      "   macro avg       0.59      0.62      0.49    167185\n",
      "weighted avg       0.78      0.50      0.54    167185\n",
      "\n"
     ]
    }
   ],
   "source": [
    "print(classification_report(y_test, entropy_y_pred))"
   ]
  },
  {
   "cell_type": "markdown",
   "id": "2672280d",
   "metadata": {},
   "source": [
    "### Testing Confusion Matrix"
   ]
  },
  {
   "cell_type": "code",
   "execution_count": 198,
   "id": "fe86aa6f",
   "metadata": {
    "scrolled": true
   },
   "outputs": [
    {
     "name": "stdout",
     "output_type": "stream",
     "text": [
      "Normalized confusion matrix\n"
     ]
    },
    {
     "data": {
      "image/png": "[encoded data removed]",
      "text/plain": [
       "<Figure size 720x360 with 2 Axes>"
      ]
     },
     "metadata": {
      "needs_background": "light"
     },
     "output_type": "display_data"
    }
   ],
   "source": [
    "plot_confusion_matrix(y_test, entropy_y_pred, 'Entropy Decision Tree', normalize = True)"
   ]
  },
  {
   "cell_type": "markdown",
   "id": "935ac2e3",
   "metadata": {},
   "source": [
    "### Testing ROC curve"
   ]
  },
  {
   "cell_type": "code",
   "execution_count": 199,
   "id": "55b81be2",
   "metadata": {
    "scrolled": false
   },
   "outputs": [
    {
     "data": {
      "text/plain": [
       "<sklearn.metrics._plot.roc_curve.RocCurveDisplay at 0x1e2ab2c4f70>"
      ]
     },
     "execution_count": 199,
     "metadata": {},
     "output_type": "execute_result"
    },
    {
     "data": {
      "image/png": "[encoded data removed]",
      "text/plain": [
       "<Figure size 432x288 with 1 Axes>"
      ]
     },
     "metadata": {
      "needs_background": "light"
     },
     "output_type": "display_data"
    }
   ],
   "source": [
    "plot_roc_curve(entropy_tree, X_test, y_test)"
   ]
  },
  {
   "cell_type": "markdown",
   "id": "90d1e632",
   "metadata": {},
   "source": [
    "### Testing Precision - Recall Curve"
   ]
  },
  {
   "cell_type": "code",
   "execution_count": 200,
   "id": "38e3f8dd",
   "metadata": {
    "scrolled": true
   },
   "outputs": [
    {
     "data": {
      "text/plain": [
       "<sklearn.metrics._plot.precision_recall_curve.PrecisionRecallDisplay at 0x1e2ac8cf2b0>"
      ]
     },
     "execution_count": 200,
     "metadata": {},
     "output_type": "execute_result"
    },
    {
     "data": {
      "image/png": "[encoded data removed]",
      "text/plain": [
       "<Figure size 432x288 with 1 Axes>"
      ]
     },
     "metadata": {
      "needs_background": "light"
     },
     "output_type": "display_data"
    }
   ],
   "source": [
    "plot_precision_recall_curve(entropy_tree, X_test, y_test)"
   ]
  },
  {
   "cell_type": "markdown",
   "id": "5ff46e8a",
   "metadata": {},
   "source": [
    "# 5.8.5 Random Forest<a id='5.8.5_Random_Forest'></a>\n",
    "[Table of Contents](#5.1_Contents)\n",
    "\n",
    "This model had similar performance to the gini decision tree, but less interpretability."
   ]
  },
  {
   "cell_type": "code",
   "execution_count": 184,
   "id": "924c874c",
   "metadata": {},
   "outputs": [],
   "source": [
    "rf_y_pred = rf.predict(X_test)"
   ]
  },
  {
   "cell_type": "markdown",
   "id": "cb4db172",
   "metadata": {},
   "source": [
    "### Testing Classification Report"
   ]
  },
  {
   "cell_type": "code",
   "execution_count": 185,
   "id": "0774fc1f",
   "metadata": {
    "scrolled": false
   },
   "outputs": [
    {
     "name": "stdout",
     "output_type": "stream",
     "text": [
      "              precision    recall  f1-score   support\n",
      "\n",
      "           0       0.89      0.56      0.69    133050\n",
      "           1       0.30      0.72      0.42     34135\n",
      "\n",
      "    accuracy                           0.60    167185\n",
      "   macro avg       0.59      0.64      0.56    167185\n",
      "weighted avg       0.77      0.60      0.64    167185\n",
      "\n"
     ]
    }
   ],
   "source": [
    "print(classification_report(y_test, rf_y_pred))"
   ]
  },
  {
   "cell_type": "markdown",
   "id": "e3ba577d",
   "metadata": {},
   "source": [
    "### Testing Confusion Matrix"
   ]
  },
  {
   "cell_type": "code",
   "execution_count": 186,
   "id": "7f4c25e5",
   "metadata": {
    "scrolled": false
   },
   "outputs": [
    {
     "name": "stdout",
     "output_type": "stream",
     "text": [
      "Normalized confusion matrix\n"
     ]
    },
    {
     "data": {
      "image/png": "[encoded data removed]",
      "text/plain": [
       "<Figure size 720x360 with 2 Axes>"
      ]
     },
     "metadata": {
      "needs_background": "light"
     },
     "output_type": "display_data"
    }
   ],
   "source": [
    "plot_confusion_matrix(y_test, rf_y_pred, 'Gradient Boost Classifier', normalize = True)"
   ]
  },
  {
   "cell_type": "markdown",
   "id": "4af759ba",
   "metadata": {},
   "source": [
    "### Testing ROC curve"
   ]
  },
  {
   "cell_type": "code",
   "execution_count": 187,
   "id": "7739511c",
   "metadata": {
    "scrolled": true
   },
   "outputs": [
    {
     "data": {
      "text/plain": [
       "<sklearn.metrics._plot.roc_curve.RocCurveDisplay at 0x1e2abc29b20>"
      ]
     },
     "execution_count": 187,
     "metadata": {},
     "output_type": "execute_result"
    },
    {
     "data": {
      "image/png": "[encoded data removed]",
      "text/plain": [
       "<Figure size 432x288 with 1 Axes>"
      ]
     },
     "metadata": {
      "needs_background": "light"
     },
     "output_type": "display_data"
    }
   ],
   "source": [
    "plot_roc_curve(rf, X_test, y_test)"
   ]
  },
  {
   "cell_type": "markdown",
   "id": "875c5dbc",
   "metadata": {},
   "source": [
    "### Testing Precision - Recall Curve"
   ]
  },
  {
   "cell_type": "code",
   "execution_count": 188,
   "id": "6e1f9910",
   "metadata": {
    "scrolled": false
   },
   "outputs": [
    {
     "data": {
      "text/plain": [
       "<sklearn.metrics._plot.precision_recall_curve.PrecisionRecallDisplay at 0x1e2ac7f8250>"
      ]
     },
     "execution_count": 188,
     "metadata": {},
     "output_type": "execute_result"
    },
    {
     "data": {
      "image/png": "[encoded data removed]",
      "text/plain": [
       "<Figure size 432x288 with 1 Axes>"
      ]
     },
     "metadata": {
      "needs_background": "light"
     },
     "output_type": "display_data"
    }
   ],
   "source": [
    "plot_precision_recall_curve(rf, X_test, y_test)"
   ]
  },
  {
   "cell_type": "markdown",
   "id": "274500b4",
   "metadata": {},
   "source": [
    "# 5.8.6 Gradient Boosting Classifier<a id='5.8.6_Gradient_Boosting_Classifier'></a>\n",
    "[Table of Contents](#5.1_Contents)\n",
    "\n",
    "This model had the greatest overall accuracy, but the lowest recall score among the advanced models, identifying 50% of defaulted loans."
   ]
  },
  {
   "cell_type": "code",
   "execution_count": 150,
   "id": "d62af1ed",
   "metadata": {},
   "outputs": [],
   "source": [
    "gb_y_pred = gb.predict(X_test)"
   ]
  },
  {
   "cell_type": "markdown",
   "id": "764224af",
   "metadata": {},
   "source": [
    "### Testing Classification Report"
   ]
  },
  {
   "cell_type": "code",
   "execution_count": 151,
   "id": "1061a2c4",
   "metadata": {
    "scrolled": true
   },
   "outputs": [
    {
     "name": "stdout",
     "output_type": "stream",
     "text": [
      "              precision    recall  f1-score   support\n",
      "\n",
      "           0       0.87      0.62      0.73    133050\n",
      "           1       0.30      0.64      0.41     34135\n",
      "\n",
      "    accuracy                           0.63    167185\n",
      "   macro avg       0.59      0.63      0.57    167185\n",
      "weighted avg       0.75      0.63      0.66    167185\n",
      "\n"
     ]
    }
   ],
   "source": [
    "print(classification_report(y_test, gb_y_pred))"
   ]
  },
  {
   "cell_type": "markdown",
   "id": "6261f051",
   "metadata": {},
   "source": [
    "### Testing Confusion Matrix"
   ]
  },
  {
   "cell_type": "code",
   "execution_count": 152,
   "id": "24d3e232",
   "metadata": {
    "scrolled": true
   },
   "outputs": [
    {
     "name": "stdout",
     "output_type": "stream",
     "text": [
      "Normalized confusion matrix\n"
     ]
    },
    {
     "data": {
      "image/png": "[encoded data removed]",
      "text/plain": [
       "<Figure size 720x360 with 2 Axes>"
      ]
     },
     "metadata": {
      "needs_background": "light"
     },
     "output_type": "display_data"
    }
   ],
   "source": [
    "plot_confusion_matrix(y_test, gb_y_pred, 'Gradient Boost Classifier', normalize = True)"
   ]
  },
  {
   "cell_type": "markdown",
   "id": "a99d2d81",
   "metadata": {},
   "source": [
    "### Testing ROC curve"
   ]
  },
  {
   "cell_type": "code",
   "execution_count": 153,
   "id": "50f9dc4f",
   "metadata": {
    "scrolled": false
   },
   "outputs": [
    {
     "data": {
      "text/plain": [
       "<sklearn.metrics._plot.roc_curve.RocCurveDisplay at 0x1e2ad11aeb0>"
      ]
     },
     "execution_count": 153,
     "metadata": {},
     "output_type": "execute_result"
    },
    {
     "data": {
      "image/png": "[encoded data removed]",
      "text/plain": [
       "<Figure size 432x288 with 1 Axes>"
      ]
     },
     "metadata": {
      "needs_background": "light"
     },
     "output_type": "display_data"
    }
   ],
   "source": [
    "plot_roc_curve(gb, X_test, y_test)"
   ]
  },
  {
   "cell_type": "markdown",
   "id": "a9fe32f4",
   "metadata": {},
   "source": [
    "### Testing Precision - Recall Curve"
   ]
  },
  {
   "cell_type": "code",
   "execution_count": 154,
   "id": "2b8190df",
   "metadata": {
    "scrolled": false
   },
   "outputs": [
    {
     "data": {
      "text/plain": [
       "<sklearn.metrics._plot.precision_recall_curve.PrecisionRecallDisplay at 0x1e2ad1dbc70>"
      ]
     },
     "execution_count": 154,
     "metadata": {},
     "output_type": "execute_result"
    },
    {
     "data": {
      "image/png": "[encoded data removed]",
      "text/plain": [
       "<Figure size 432x288 with 1 Axes>"
      ]
     },
     "metadata": {
      "needs_background": "light"
     },
     "output_type": "display_data"
    }
   ],
   "source": [
    "plot_precision_recall_curve(gb, X_test, y_test)"
   ]
  },
  {
   "cell_type": "markdown",
   "id": "25e3b219",
   "metadata": {},
   "source": [
    "# 5.9 Model Selection<a id='5.9_Model_Selection'></a>\n",
    "[Table of Contents](#5.1_Contents)\n",
    "\n",
    "With this application, there are two primary considerations with selecting a model:\n",
    "\n",
    "1) The model must be interpretable for compliance with regulation and audits.\n",
    "2) The model should identify as many applicants that are likely to default as possible (recall score).\n",
    "\n",
    "With these two considerations in mind, I believe that the entropy decision tree model is the best choice. It can be simply since the maximum depth is only three branches, and the top-contributing features are easily explained. It achieved the highest testing recall score among all the tested models as 83% (total percentage of correctly classified defaulted loans). Among all the advanced classifiers, the ROC and precision-recall curves showed similar performance. The entropy decision tree model was optimized with Randomized Search cross validation and has the following hyperparameter:\n",
    "\n",
    "* Max Depth of 3 Branches\n",
    "* 0.76:1 Class Weight (Non-Default:Default)\n",
    "* Min Samples Split = 46\n",
    "* Min Samples Leaf = 2\n",
    "\n",
    "Naturally, there is room for improvement in the performance of the model. However, there is a limit to the predictive power of the selected features - more powerful features would need to be obtained from hard credit checks of applicants. The top positive features contributing to the entropy decision tree are:\n",
    "\n",
    "1. Interest Rate\n",
    "2. Time Since Last Credit Pull (Months)\n",
    "3. Mortgage or No Mortgage\n",
    "4. Loan Amount"
   ]
  },
  {
   "cell_type": "markdown",
   "id": "17f4bced",
   "metadata": {},
   "source": [
    "# 5.10 Data Quantity Assessment<a id='5.10_Data_Quantity_Assessment'></a>\n",
    "[Table of Contents](#5.1_Contents)\n",
    "\n",
    "The plot below does seem to suggest that increasing the quantity of the training set would only marginally improve the training recall scores. It might be more efficient to allocate resources towards feature engineering instead."
   ]
  },
  {
   "cell_type": "code",
   "execution_count": 155,
   "id": "14ab9e5a",
   "metadata": {},
   "outputs": [],
   "source": [
    "fractions = [.05, .1, .25, .5, .6, .7, .8, .9, .95, .97, 1.0]\n",
    "train_size, train_scores, test_scores = learning_curve(entropy_tree, X_train, y_train, train_sizes=fractions, scoring = 'recall',\n",
    "                                                      random_state = 42)\n",
    "train_scores_mean = np.mean(train_scores, axis=1)\n",
    "train_scores_std = np.std(train_scores, axis=1)\n",
    "test_scores_mean = np.mean(test_scores, axis=1)\n",
    "test_scores_std = np.std(test_scores, axis=1)"
   ]
  },
  {
   "cell_type": "code",
   "execution_count": 156,
   "id": "b684c3c0",
   "metadata": {
    "scrolled": false
   },
   "outputs": [
    {
     "data": {
      "image/png": "[encoded data removed]",
      "text/plain": [
       "<Figure size 1080x360 with 1 Axes>"
      ]
     },
     "metadata": {
      "needs_background": "light"
     },
     "output_type": "display_data"
    }
   ],
   "source": [
    "plt.subplots(figsize=(15, 5))\n",
    "plt.errorbar(train_size, test_scores_mean, yerr=test_scores_std)\n",
    "plt.xlabel('Training set size')\n",
    "plt.ylabel('CV scores')\n",
    "plt.title('Cross-validation score as training set size increases');"
   ]
  },
  {
   "cell_type": "markdown",
   "id": "f89a2011",
   "metadata": {},
   "source": [
    "# 5.11 Retrain And Visualize<a id='5.11_Retrain'></a>\n",
    "[Table of Contents](#5.1_Contents)"
   ]
  },
  {
   "cell_type": "code",
   "execution_count": 157,
   "id": "ae8b40aa",
   "metadata": {},
   "outputs": [],
   "source": [
    "entropy_tree = sklearn.tree.DecisionTreeClassifier(random_state=42, criterion = 'entropy', min_samples_split = 46,\n",
    "                                                  min_samples_leaf = 2, max_depth = 3, class_weight = {0: 0.7612612612612613, 1: 1}\n",
    "                                                  ).fit(X_final, y_final)"
   ]
  },
  {
   "cell_type": "code",
   "execution_count": 158,
   "id": "b0d24436",
   "metadata": {
    "scrolled": false
   },
   "outputs": [
    {
     "data": {
      "text/plain": [
       "[(0.6329591441896658, 'int_rate'),\n",
       " (0.3670408558103342, 'last_credit_pull_d'),\n",
       " (0.0, 'total_bal_ex_mort'),\n",
       " (0.0, 'tot_hi_cred_lim'),\n",
       " (0.0, 'tot_bal_tot_hi_cred_lim_ratio'),\n",
       " (0.0, 'tot_bal_income_ratio'),\n",
       " (0.0, 'tax_liens'),\n",
       " (0.0, 'purpose_vacation'),\n",
       " (0.0, 'purpose_other'),\n",
       " (0.0, 'purpose_moving'),\n",
       " (0.0, 'purpose_medical'),\n",
       " (0.0, 'purpose_major_purchase'),\n",
       " (0.0, 'purpose_house'),\n",
       " (0.0, 'purpose_energy'),\n",
       " (0.0, 'purpose_credit_card'),\n",
       " (0.0, 'purpose_consolidation'),\n",
       " (0.0, 'purpose_car'),\n",
       " (0.0, 'pub_rec_bankruptcies'),\n",
       " (0.0, 'mths_since_recent_inq'),\n",
       " (0.0, 'mths_since_last_delinq'),\n",
       " (0.0, 'loan_amnt'),\n",
       " (0.0, 'installment'),\n",
       " (0.0, 'inq_last_12m'),\n",
       " (0.0, 'home_ownership_RENT'),\n",
       " (0.0, 'home_ownership_OWN'),\n",
       " (0.0, 'home_ownership_NONE'),\n",
       " (0.0, 'home_ownership_MORTGAGE'),\n",
       " (0.0, 'fico_avg'),\n",
       " (0.0, 'emp_length_No Employment'),\n",
       " (0.0, 'emp_length_< 1 year'),\n",
       " (0.0, 'emp_length_9 years'),\n",
       " (0.0, 'emp_length_8 years'),\n",
       " (0.0, 'emp_length_7 years'),\n",
       " (0.0, 'emp_length_6 years'),\n",
       " (0.0, 'emp_length_5 years'),\n",
       " (0.0, 'emp_length_4 years'),\n",
       " (0.0, 'emp_length_3 years'),\n",
       " (0.0, 'emp_length_2 years'),\n",
       " (0.0, 'emp_length_10+ years'),\n",
       " (0.0, 'earliest_cr_line'),\n",
       " (0.0, 'delinq_2yrs'),\n",
       " (0.0, 'chargeoff_within_12_mths'),\n",
       " (0.0, 'annual_inc'),\n",
       " (0.0, 'acc_now_delinq')]"
      ]
     },
     "execution_count": 158,
     "metadata": {},
     "output_type": "execute_result"
    }
   ],
   "source": [
    "sorted(list(zip(entropy_tree.feature_importances_, X_train.columns)), reverse = True)"
   ]
  },
  {
   "cell_type": "code",
   "execution_count": 159,
   "id": "c9d42ee4",
   "metadata": {
    "scrolled": false
   },
   "outputs": [
    {
     "data": {
      "text/plain": [
       "'entropy_tree_fully_trained.pdf'"
      ]
     },
     "execution_count": 159,
     "metadata": {},
     "output_type": "execute_result"
    }
   ],
   "source": [
    "# Visualize the decision tree\n",
    "dot_data = sklearn.tree.export_graphviz(entropy_tree, out_file=None, \n",
    "                     feature_names=X_test.columns,  \n",
    "                     class_names=[str(entropy_tree.classes_[0]), str(entropy_tree.classes_[1])],  \n",
    "                     filled=True, rounded=True,  \n",
    "                     special_characters=True)  \n",
    "graph = graphviz.Source(dot_data)\n",
    "graph.render('entropy_tree_fully_trained')"
   ]
  },
  {
   "cell_type": "markdown",
   "id": "2c703841",
   "metadata": {},
   "source": [
    "# 5.12 Export<a id='5.12_Export'></a>\n",
    "[Table of Contents](#5.1_Contents)"
   ]
  },
  {
   "cell_type": "code",
   "execution_count": 160,
   "id": "98a5bc87",
   "metadata": {},
   "outputs": [],
   "source": [
    "best_model = entropy_tree\n",
    "best_model.version = '1.0'\n",
    "best_model.pandas_version = pd.__version__\n",
    "best_model.numpy_version = np.__version__\n",
    "best_model.sklearn_version = sklearn_version\n",
    "best_model.X_columns = [col for col in X_train.columns]\n",
    "best_model.build_datetime = datetime.datetime.now()"
   ]
  },
  {
   "cell_type": "code",
   "execution_count": 161,
   "id": "72e46a4a",
   "metadata": {},
   "outputs": [],
   "source": [
    "# save the model\n",
    "\n",
    "# modelpath = \n",
    "# save_file(best_model, 'loan_default_logreg_model.pkl', modelpath)"
   ]
  }
 ],
 "metadata": {
  "kernelspec": {
   "display_name": "Python 3",
   "language": "python",
   "name": "python3"
  },
  "language_info": {
   "codemirror_mode": {
    "name": "ipython",
    "version": 3
   },
   "file_extension": ".py",
   "mimetype": "text/x-python",
   "name": "python",
   "nbconvert_exporter": "python",
   "pygments_lexer": "ipython3",
   "version": "3.8.8"
  }
 },
 "nbformat": 4,
 "nbformat_minor": 5
}
