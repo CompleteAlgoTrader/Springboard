{
 "cells": [
  {
   "cell_type": "markdown",
   "id": "91f58a44",
   "metadata": {},
   "source": [
    "# 2 Data Wrangling<a id='2_Data_Wrangling'></a>\n",
    "Justin Jimenez 11/20/2021\n",
    "\n",
    "The objective of this notebook is to collect and clean the data in preparation for EDA."
   ]
  },
  {
   "cell_type": "markdown",
   "id": "e46a4cb7",
   "metadata": {},
   "source": [
    "## 2.1 Contents<a id='2.1_Contents'></a>\n",
    "* [2 Data wrangling](#2_Data_wrangling)\n",
    "  * [2.1 Contents](#2.1_Contents)\n",
    "  * [2.2 Data Wrangling Preparation](#2.2_Data_Wrangling_Preparation)\n",
    "      * [2.2.1 Imports](#2.2.1_Imports)\n",
    "      * [2.2.2 Load Loan Data](#2.2.2_Load_Loan_Data)\n",
    "      * [2.2.3 Target Response Feature](#2.2.3_Target_Response_Feature)\n",
    "  * [2.3 Cleaning Data](#2.3_Cleaning_Data)\n",
    "      * [2.3.1 Missing Values](#2.3.1_Missing_Values)\n",
    "      * [2.3.2 Removing Outliers With IQR](#2.3.2_Removing_Outliers_With_IQR)\n",
    "      * [2.3.3 Drop Useless Features](#2.3.3_Drop_Useless_Features)\n",
    "      * [2.3.4 Checking For Duplicates](#2.3.4_Checking_For_Duplicates)\n",
    "      * [2.3.5 Imputing With Median Values](#2.3.5_Imputing_With_Median_Values)      \n",
    "      * [2.3.6 Changing Data Types](#2.3.6_Changing_Data_Types)\n",
    "          * [2.3.6.1 Loan Terms](#2.3.6.1_Loan_Terms)\n",
    "          * [2.3.6.2 Interest Rate](#2.3.6.2_Interest_Rate)\n",
    "          * [2.3.6.3 Categories, Strings, and Datetime](#2.3.6.3_Categories_Strings_And_Datetime)\n",
    "          * [2.3.6.4 Integers](#2.3.6.4_Integers)"
   ]
  },
  {
   "cell_type": "markdown",
   "id": "93c8b8e7",
   "metadata": {},
   "source": [
    "## 2.2 Data Wrangling Preparation<a id='2.2_Data_Wrangling_Preparation'></a>\n",
    "### 2.2.1 Imports<a id='2.2.1_Imports'></a>\n",
    "\n",
    "I imported pandas, matplotlib, bamboolib, and missingno. Pandas was for importing and organizing the data. Matplotlib and missingno were for visualizing the data. Bamboolib was used to make it easy to manipulate the data."
   ]
  },
  {
   "cell_type": "code",
   "execution_count": 1,
   "id": "2e9563e2",
   "metadata": {},
   "outputs": [
    {
     "data": {
      "text/plain": [
       "'C:\\\\Users\\\\jjsun\\\\anaconda3\\\\python.exe'"
      ]
     },
     "execution_count": 1,
     "metadata": {},
     "output_type": "execute_result"
    }
   ],
   "source": [
    "import sys\n",
    "sys.executable"
   ]
  },
  {
   "cell_type": "code",
   "execution_count": 2,
   "id": "7f1e3d97",
   "metadata": {},
   "outputs": [
    {
     "name": "stdout",
     "output_type": "stream",
     "text": [
      "{\n",
      "  \"kernelspecs\": {\n",
      "    \"python3\": {\n",
      "      \"resource_dir\": \"C:\\\\Users\\\\jjsun\\\\anaconda3\\\\share\\\\jupyter\\\\kernels\\\\python3\",\n",
      "      \"spec\": {\n",
      "        \"argv\": [\n",
      "          \"C:/Users/jjsun/anaconda3\\\\python.exe\",\n",
      "          \"-m\",\n",
      "          \"ipykernel_launcher\",\n",
      "          \"-f\",\n",
      "          \"{connection_file}\"\n",
      "        ],\n",
      "        \"env\": {},\n",
      "        \"display_name\": \"Python 3\",\n",
      "        \"language\": \"python\",\n",
      "        \"interrupt_mode\": \"signal\",\n",
      "        \"metadata\": {}\n",
      "      }\n",
      "    }\n",
      "  }\n",
      "}\n"
     ]
    }
   ],
   "source": [
    "!jupyter kernelspec list --json"
   ]
  },
  {
   "cell_type": "code",
   "execution_count": 3,
   "id": "0b10cbad",
   "metadata": {},
   "outputs": [],
   "source": [
    "import pandas as pd\n",
    "import matplotlib.pyplot as plt\n",
    "import bamboolib as bam\n",
    "import missingno as msno"
   ]
  },
  {
   "cell_type": "markdown",
   "id": "a59ef9d2",
   "metadata": {},
   "source": [
    "### 2.2.2 Load the Loan Data<a id='2.2.2_Load_Loan_Data'></a>\n",
    "After importing the necessary libraries, I extracted the data from a gzip file downloaded from https://www.kaggle.com/faressayah/lending-club-loan-defaulters-prediction/data."
   ]
  },
  {
   "cell_type": "code",
   "execution_count": 4,
   "id": "bb2ab64a",
   "metadata": {},
   "outputs": [],
   "source": [
    "loan_data = pd.read_csv(r'C:\\Users\\jjsun\\OneDrive\\Desktop\\pythonprojects\\LendingClub-Loan_Default-Prediction\\data\\raw\\Loan_status_2007-2020Q3.gzip')\n",
    "loan_data_dict = pd.read_excel(r'C:\\Users\\jjsun\\OneDrive\\Desktop\\pythonprojects\\LendingClub-Loan_Default-Prediction\\data\\raw\\LCDataDictionary.xlsx')"
   ]
  },
  {
   "cell_type": "markdown",
   "id": "5c396621",
   "metadata": {},
   "source": [
    "The following DataFrame can be used to understand the feature names in loan_data."
   ]
  },
  {
   "cell_type": "code",
   "execution_count": 5,
   "id": "38fab3bc",
   "metadata": {},
   "outputs": [],
   "source": [
    "# loan_data_dict"
   ]
  },
  {
   "cell_type": "code",
   "execution_count": 6,
   "id": "2b2147ab",
   "metadata": {
    "scrolled": true
   },
   "outputs": [
    {
     "name": "stdout",
     "output_type": "stream",
     "text": [
      "<class 'pandas.core.frame.DataFrame'>\n",
      "RangeIndex: 2925493 entries, 0 to 2925492\n",
      "Columns: 142 entries, Unnamed: 0 to debt_settlement_flag\n",
      "dtypes: float64(106), int64(1), object(35)\n",
      "memory usage: 3.1+ GB\n"
     ]
    }
   ],
   "source": [
    "# print([column for column in df_scan.columns])\n",
    "# features = [feature for feature in df_scan.columns if feature not in ['Unnamed: 0', 'id']]\n",
    "loan_data.info()"
   ]
  },
  {
   "cell_type": "markdown",
   "id": "36b2aea7",
   "metadata": {},
   "source": [
    "Loading in the loan data showed that there were almost three million observations and 142 features. Thirty-five of the columns were categorical (object type) and 107 columns were numerical (float64 and int 64).\n",
    "\n",
    "I took a preliminary inspection of the features using the bamboolib UI. Run the cell below, startup the bamboolib UI, and select \"Explore DataFrame\"."
   ]
  },
  {
   "cell_type": "code",
   "execution_count": 7,
   "id": "c2e2b729",
   "metadata": {
    "scrolled": false
   },
   "outputs": [],
   "source": [
    "# loan_data"
   ]
  },
  {
   "cell_type": "markdown",
   "id": "927da662",
   "metadata": {},
   "source": [
    "### 2.2.3 Target Response Feature<a id='2.2.3_Target_Response_Feature'></a>\n",
    "\n",
    "Looking at the primary target response feature - loan status - I saw that nearly 400,000 P2P loans have been charged off across thirteen years and 3 million loans. An inspection of missingness for this feature in bamboolib revealed only 1 observation that is missing a loan status."
   ]
  },
  {
   "cell_type": "code",
   "execution_count": 8,
   "id": "d48ed9fc",
   "metadata": {
    "scrolled": true
   },
   "outputs": [
    {
     "data": {
      "text/plain": [
       "<AxesSubplot:>"
      ]
     },
     "execution_count": 8,
     "metadata": {},
     "output_type": "execute_result"
    },
    {
     "data": {
      "image/png": "[encoded data removed]",
      "text/plain": [
       "<Figure size 432x288 with 1 Axes>"
      ]
     },
     "metadata": {
      "needs_background": "light"
     },
     "output_type": "display_data"
    }
   ],
   "source": [
    "loan_data['loan_status'].hist(xrot = 90)"
   ]
  },
  {
   "cell_type": "markdown",
   "id": "56b51fe1",
   "metadata": {},
   "source": [
    "I am also interested in the credit scores of debtors to identify any relationship between credit scores and interest rates. Looking at the distribution of FICO scores reveals that most debtors have a score between 650-750."
   ]
  },
  {
   "cell_type": "code",
   "execution_count": 9,
   "id": "d0cff0f2",
   "metadata": {
    "scrolled": true
   },
   "outputs": [
    {
     "data": {
      "text/plain": [
       "<AxesSubplot:>"
      ]
     },
     "execution_count": 9,
     "metadata": {},
     "output_type": "execute_result"
    },
    {
     "data": {
      "image/png": "[encoded data removed]",
      "text/plain": [
       "<Figure size 432x288 with 1 Axes>"
      ]
     },
     "metadata": {
      "needs_background": "light"
     },
     "output_type": "display_data"
    }
   ],
   "source": [
    "loan_data['fico_range_high'].hist(xrot = 90)"
   ]
  },
  {
   "cell_type": "markdown",
   "id": "21cb1aa5",
   "metadata": {},
   "source": [
    "I held off on looking at the distribution of interest rates for now since that feature is incorrectly formatted as text instead of float data."
   ]
  },
  {
   "cell_type": "markdown",
   "id": "2cdddcbe",
   "metadata": {},
   "source": [
    "## 2.3 Cleaning Data<a id='2.3_Cleaning_Data'></a>\n",
    "### 2.3.1 Missing Values<a id='2.3.1_Missing_Values'></a>\n",
    "\n",
    "Since the dataset is quite large, I identified features that have high missingness to narrow the focus of the project.\n",
    "\n",
    "Inspecting the missingness percentage of each feature revealed several features that were missing data for nearly all of the observations."
   ]
  },
  {
   "cell_type": "code",
   "execution_count": 10,
   "id": "98031017",
   "metadata": {
    "scrolled": false
   },
   "outputs": [
    {
     "name": "stdout",
     "output_type": "stream",
     "text": [
      "                        count          %\n",
      "hardship_loan_status  2782082  95.097886\n",
      "hardship_reason       2781861  95.090332\n",
      "hardship_status       2781858  95.090229\n",
      "hardship_dpd          2781856  95.090161\n",
      "hardship_type         2781855  95.090127\n",
      "...                       ...        ...\n",
      "last_fico_range_low         1   0.000034\n",
      "policy_code                 1   0.000034\n",
      "funded_amnt                 1   0.000034\n",
      "id                          0   0.000000\n",
      "Unnamed: 0                  0   0.000000\n",
      "\n",
      "[142 rows x 2 columns]\n"
     ]
    }
   ],
   "source": [
    "missing = pd.concat([loan_data.isnull().sum().sort_values(ascending = False), 100 * loan_data.isnull().mean().sort_values(ascending = False)], axis=1)\n",
    "missing.columns=['count', '%']\n",
    "print(missing)"
   ]
  },
  {
   "cell_type": "markdown",
   "id": "803bbd45",
   "metadata": {},
   "source": [
    "I arbitrarily choose 60% missingness as the cutoff point and dropped any irrelevant features over that threshold."
   ]
  },
  {
   "cell_type": "code",
   "execution_count": 11,
   "id": "1214a66b",
   "metadata": {},
   "outputs": [],
   "source": [
    "missing_over60 = missing[missing['%'] > 60].index\n",
    "loan_data = loan_data.drop(columns=missing_over60)"
   ]
  },
  {
   "cell_type": "markdown",
   "id": "c6a1e88c",
   "metadata": {},
   "source": [
    "Once that was done, I used missingno's matrix to visualize patterns across all features for all observations."
   ]
  },
  {
   "cell_type": "code",
   "execution_count": 12,
   "id": "68e02643",
   "metadata": {
    "scrolled": true
   },
   "outputs": [
    {
     "data": {
      "text/plain": [
       "<AxesSubplot:>"
      ]
     },
     "execution_count": 12,
     "metadata": {},
     "output_type": "execute_result"
    },
    {
     "data": {
      "image/png": "[encoded data removed]",
      "text/plain": [
       "<Figure size 1800x720 with 2 Axes>"
      ]
     },
     "metadata": {
      "needs_background": "light"
     },
     "output_type": "display_data"
    }
   ],
   "source": [
    "msno.matrix(loan_data)"
   ]
  },
  {
   "cell_type": "markdown",
   "id": "c0597b4c",
   "metadata": {},
   "source": [
    "This reveals several observations (29.6% according to bamboolib) that are missing data at random for several features. I dropped these observations by subsetting on one of the features that these observations were missing data on. I also filled some missing data for categorical features with categories that imply missingness. This produced a dramatic improvement in the missingness of the data."
   ]
  },
  {
   "cell_type": "code",
   "execution_count": 13,
   "id": "aef24397",
   "metadata": {
    "scrolled": true
   },
   "outputs": [
    {
     "data": {
      "text/plain": [
       "<AxesSubplot:>"
      ]
     },
     "execution_count": 13,
     "metadata": {},
     "output_type": "execute_result"
    },
    {
     "data": {
      "image/png": "[encoded data removed]",
      "text/plain": [
       "<Figure size 1800x720 with 2 Axes>"
      ]
     },
     "metadata": {
      "needs_background": "light"
     },
     "output_type": "display_data"
    }
   ],
   "source": [
    "# Drop NA by subsetting on a feature that is frequently missing.\n",
    "loan_data = loan_data.dropna(subset=['inq_fi'])\n",
    "\n",
    "# Fill missing categorical data\n",
    "loan_data[['emp_title']] = loan_data[['emp_title']].fillna('No Employment')\n",
    "loan_data[['emp_length']] = loan_data[['emp_length']].fillna('No Employment')\n",
    "loan_data[['title']] = loan_data[['title']].fillna('No Title')\n",
    "loan_data[['zip_code']] = loan_data[['zip_code']].fillna(loan_data[['zip_code']].mode().iloc[0])\n",
    "loan_data[['hardship_flag']] = loan_data[['hardship_flag']].fillna(loan_data[['hardship_flag']].mode().iloc[0])\n",
    "\n",
    "#Visualize remaining missingness\n",
    "msno.matrix(loan_data)"
   ]
  },
  {
   "cell_type": "markdown",
   "id": "366e87ba",
   "metadata": {},
   "source": [
    "Below you will find a list of the remaining features with missing data. Some of these observations were dropped since they represented a relatively small fraction of the total observations. Observations that were missing data on the \"Months Since Recent Inquiry\" (11.53% missing) were also dropped."
   ]
  },
  {
   "cell_type": "code",
   "execution_count": 14,
   "id": "7d7d5408",
   "metadata": {
    "scrolled": true
   },
   "outputs": [
    {
     "name": "stdout",
     "output_type": "stream",
     "text": [
      "                          count          %\n",
      "mths_since_last_delinq  1092416  53.046306\n",
      "il_util                  291019  14.131506\n",
      "mths_since_recent_inq    237439  11.529730\n",
      "num_tl_120dpd_2m          64961   3.154422\n",
      "mths_since_rcnt_il        60400   2.932946\n",
      "mo_sin_old_il_acct        60400   2.932946\n",
      "bc_util                   25874   1.256408\n",
      "percent_bc_gt_75          25008   1.214356\n",
      "bc_open_to_buy            24904   1.209306\n",
      "mths_since_recent_bc      23492   1.140741\n",
      "last_pymnt_d               4268   0.207249\n",
      "dti                        3107   0.150872\n",
      "revol_util                 2169   0.105324\n",
      "all_util                    356   0.017287\n",
      "avg_cur_bal                 100   0.004856\n",
      "last_credit_pull_d           28   0.001360\n",
      "pct_tl_nvr_dlq                2   0.000097\n",
      "inq_last_12m                  1   0.000049\n",
      "total_cu_tl                   1   0.000049\n",
      "inq_last_6mths                1   0.000049\n",
      "open_acc_6m                   1   0.000049\n"
     ]
    }
   ],
   "source": [
    "missing = pd.concat([loan_data.isnull().sum().sort_values(ascending = False), 100 * loan_data.isnull().mean().sort_values(ascending = False)], axis=1)\n",
    "missing.columns=['count', '%']\n",
    "print(missing[missing['count']>0])"
   ]
  },
  {
   "cell_type": "code",
   "execution_count": 15,
   "id": "01a75f5c",
   "metadata": {},
   "outputs": [],
   "source": [
    "# Drop observations by feature for features with missingness less than 4%\n",
    "loan_data = loan_data.dropna(subset=['num_tl_120dpd_2m', 'dti', 'all_util', 'mo_sin_old_il_acct', 'total_cu_tl', \n",
    "                                     'last_credit_pull_d', 'last_pymnt_d', 'percent_bc_gt_75', 'revol_util'])\n",
    "# Drop observations that are missing data for the \"Months Since Recent Inquiry\" feature\n",
    "loan_data = loan_data.dropna(subset=['mths_since_recent_inq'])"
   ]
  },
  {
   "cell_type": "markdown",
   "id": "7228dd64",
   "metadata": {},
   "source": [
    "Before I imputed the remaining missing values, I checked for outliers and duplicates to remove.\n",
    "\n",
    "### 2.3.2 Removing Outliers with IQR<a id='2.3.2_Removing_Outliers_With_IQR'></a>\n",
    "I opted to filter outliers with an interquartile range approach. The function below was sourced from this question on stackoverflow: https://stackoverflow.com/questions/46245035/pandas-dataframe-remove-outliers"
   ]
  },
  {
   "cell_type": "code",
   "execution_count": 16,
   "id": "0705ff6f",
   "metadata": {},
   "outputs": [],
   "source": [
    "# Sourced from https://stackoverflow.com/questions/46245035/pandas-dataframe-remove-outliers\n",
    "def Remove_Outlier_Indices(df):\n",
    "    Q1 = df.quantile(0.25)\n",
    "    Q3 = df.quantile(0.75)\n",
    "    IQR = Q3 - Q1\n",
    "    trueList = ~((df < (Q1 - 1.5 * IQR)) |(df > (Q3 + 1.5 * IQR)))\n",
    "    return trueList"
   ]
  },
  {
   "cell_type": "code",
   "execution_count": 17,
   "id": "27a709af",
   "metadata": {},
   "outputs": [],
   "source": [
    "outliers = Remove_Outlier_Indices(loan_data.select_dtypes(include = 'float'))\n",
    "for column in outliers.columns:\n",
    "    outliers.drop(index = outliers[~outliers[column]].index)"
   ]
  },
  {
   "cell_type": "code",
   "execution_count": 18,
   "id": "3b89b0d0",
   "metadata": {},
   "outputs": [],
   "source": [
    "loan_data = loan_data[loan_data.index == outliers.index]"
   ]
  },
  {
   "cell_type": "markdown",
   "id": "de7811fc",
   "metadata": {},
   "source": [
    "### 2.3.3 Drop Useless Features<a id='2.3.3_Drop_Useless_Features'></a>\n",
    "There are some features that were unnecessary and irrelevant, so I dropped them."
   ]
  },
  {
   "cell_type": "code",
   "execution_count": 19,
   "id": "7368ed30",
   "metadata": {},
   "outputs": [],
   "source": [
    "loan_data = loan_data.drop(columns=['id', 'Unnamed: 0', 'issue_d', 'pymnt_plan', 'url', 'title'])"
   ]
  },
  {
   "cell_type": "markdown",
   "id": "f4e046fc",
   "metadata": {},
   "source": [
    "### 2.3.4 Checking For Duplicates<a id='2.3.4_Checking_For_Duplicates'></a>\n",
    "Lastly I checked for duplicates to see if any observations still needed to be removed. There were no duplicate observations."
   ]
  },
  {
   "cell_type": "code",
   "execution_count": 20,
   "id": "b1b6a80f",
   "metadata": {
    "scrolled": true
   },
   "outputs": [
    {
     "name": "stdout",
     "output_type": "stream",
     "text": [
      "Empty DataFrame\n",
      "Columns: [loan_amnt, funded_amnt, funded_amnt_inv, term, int_rate, installment, grade, sub_grade, emp_title, emp_length, home_ownership, annual_inc, verification_status, loan_status, purpose, zip_code, addr_state, dti, delinq_2yrs, earliest_cr_line, fico_range_low, fico_range_high, inq_last_6mths, mths_since_last_delinq, open_acc, pub_rec, revol_bal, revol_util, total_acc, initial_list_status, out_prncp, out_prncp_inv, total_pymnt, total_pymnt_inv, total_rec_prncp, total_rec_int, total_rec_late_fee, recoveries, collection_recovery_fee, last_pymnt_d, last_pymnt_amnt, last_credit_pull_d, last_fico_range_high, last_fico_range_low, collections_12_mths_ex_med, policy_code, application_type, acc_now_delinq, tot_coll_amt, tot_cur_bal, open_acc_6m, open_act_il, open_il_12m, open_il_24m, mths_since_rcnt_il, total_bal_il, il_util, open_rv_12m, open_rv_24m, max_bal_bc, all_util, total_rev_hi_lim, inq_fi, total_cu_tl, inq_last_12m, acc_open_past_24mths, avg_cur_bal, bc_open_to_buy, bc_util, chargeoff_within_12_mths, delinq_amnt, mo_sin_old_il_acct, mo_sin_old_rev_tl_op, mo_sin_rcnt_rev_tl_op, mo_sin_rcnt_tl, mort_acc, mths_since_recent_bc, mths_since_recent_inq, num_accts_ever_120_pd, num_actv_bc_tl, num_actv_rev_tl, num_bc_sats, num_bc_tl, num_il_tl, num_op_rev_tl, num_rev_accts, num_rev_tl_bal_gt_0, num_sats, num_tl_120dpd_2m, num_tl_30dpd, num_tl_90g_dpd_24m, num_tl_op_past_12m, pct_tl_nvr_dlq, percent_bc_gt_75, pub_rec_bankruptcies, tax_liens, tot_hi_cred_lim, total_bal_ex_mort, total_bc_limit, total_il_high_credit_limit, ...]\n",
      "Index: []\n",
      "\n",
      "[0 rows x 102 columns]\n"
     ]
    }
   ],
   "source": [
    "print(loan_data[loan_data.duplicated() == True])"
   ]
  },
  {
   "cell_type": "markdown",
   "id": "e128d747",
   "metadata": {},
   "source": [
    "### 2.3.5 Imputing with Median Values<a id='2.3.5_Imputing_With_Median_Values'></a>\n",
    "Once the data was clear of outliers and duplicates, I used median imputation to fill the remaining missing values. These features exhibited a low count of zero-value observations, so it made sense to use median imputing rather than imputing 0."
   ]
  },
  {
   "cell_type": "code",
   "execution_count": 21,
   "id": "a2281c97",
   "metadata": {},
   "outputs": [],
   "source": [
    "# Show the missingness before imputation\n",
    "missing = pd.concat([loan_data.isnull().sum().sort_values(ascending = False), 100 * loan_data.isnull().mean().sort_values(ascending = False)], axis=1)\n",
    "missing.columns=['count', '%']\n",
    "missing = missing[missing['count']>0]\n",
    "\n",
    "# Impute with median values \n",
    "for index in missing.index:\n",
    "    loan_data[[index]] = loan_data[[index]].fillna(loan_data[[index]].median())"
   ]
  },
  {
   "cell_type": "code",
   "execution_count": 22,
   "id": "12081f23",
   "metadata": {},
   "outputs": [
    {
     "data": {
      "application/vnd.jupyter.widget-view+json": {
       "model_id": "6f5b35bc72b941e0b1b91f88b99f62bb"
      },
      "text/html": [
       "<div>\n",
       "<style scoped>\n",
       "    .dataframe tbody tr th:only-of-type {\n",
       "        vertical-align: middle;\n",
       "    }\n",
       "\n",
       "    .dataframe tbody tr th {\n",
       "        vertical-align: top;\n",
       "    }\n",
       "\n",
       "    .dataframe thead th {\n",
       "        text-align: right;\n",
       "    }\n",
       "</style>\n",
       "<table border=\"1\" class=\"dataframe\">\n",
       "  <thead>\n",
       "    <tr style=\"text-align: right;\">\n",
       "      <th></th>\n",
       "      <th>loan_amnt</th>\n",
       "      <th>funded_amnt</th>\n",
       "      <th>funded_amnt_inv</th>\n",
       "      <th>term</th>\n",
       "      <th>int_rate</th>\n",
       "      <th>installment</th>\n",
       "      <th>grade</th>\n",
       "      <th>sub_grade</th>\n",
       "      <th>emp_title</th>\n",
       "      <th>emp_length</th>\n",
       "      <th>...</th>\n",
       "      <th>pct_tl_nvr_dlq</th>\n",
       "      <th>percent_bc_gt_75</th>\n",
       "      <th>pub_rec_bankruptcies</th>\n",
       "      <th>tax_liens</th>\n",
       "      <th>tot_hi_cred_lim</th>\n",
       "      <th>total_bal_ex_mort</th>\n",
       "      <th>total_bc_limit</th>\n",
       "      <th>total_il_high_credit_limit</th>\n",
       "      <th>hardship_flag</th>\n",
       "      <th>debt_settlement_flag</th>\n",
       "    </tr>\n",
       "  </thead>\n",
       "  <tbody>\n",
       "    <tr>\n",
       "      <th>230717</th>\n",
       "      <td>12000.0</td>\n",
       "      <td>12000.0</td>\n",
       "      <td>12000.0</td>\n",
       "      <td>36 months</td>\n",
       "      <td>7.97%</td>\n",
       "      <td>375.88</td>\n",
       "      <td>A</td>\n",
       "      <td>A5</td>\n",
       "      <td>associate</td>\n",
       "      <td>10+ years</td>\n",
       "      <td>...</td>\n",
       "      <td>100.0</td>\n",
       "      <td>0.0</td>\n",
       "      <td>1.0</td>\n",
       "      <td>0.0</td>\n",
       "      <td>57180.0</td>\n",
       "      <td>30502.0</td>\n",
       "      <td>15500.0</td>\n",
       "      <td>26180.0</td>\n",
       "      <td>N</td>\n",
       "      <td>N</td>\n",
       "    </tr>\n",
       "    <tr>\n",
       "      <th>230718</th>\n",
       "      <td>32000.0</td>\n",
       "      <td>32000.0</td>\n",
       "      <td>32000.0</td>\n",
       "      <td>36 months</td>\n",
       "      <td>11.99%</td>\n",
       "      <td>1062.71</td>\n",
       "      <td>B</td>\n",
       "      <td>B5</td>\n",
       "      <td>Nurse</td>\n",
       "      <td>10+ years</td>\n",
       "      <td>...</td>\n",
       "      <td>94.9</td>\n",
       "      <td>0.0</td>\n",
       "      <td>0.0</td>\n",
       "      <td>0.0</td>\n",
       "      <td>527034.0</td>\n",
       "      <td>63891.0</td>\n",
       "      <td>124200.0</td>\n",
       "      <td>20034.0</td>\n",
       "      <td>Y</td>\n",
       "      <td>N</td>\n",
       "    </tr>\n",
       "    <tr>\n",
       "      <th>230719</th>\n",
       "      <td>40000.0</td>\n",
       "      <td>40000.0</td>\n",
       "      <td>40000.0</td>\n",
       "      <td>60 months</td>\n",
       "      <td>15.05%</td>\n",
       "      <td>952.65</td>\n",
       "      <td>C</td>\n",
       "      <td>C4</td>\n",
       "      <td>Driver</td>\n",
       "      <td>9 years</td>\n",
       "      <td>...</td>\n",
       "      <td>100.0</td>\n",
       "      <td>0.0</td>\n",
       "      <td>0.0</td>\n",
       "      <td>0.0</td>\n",
       "      <td>367745.0</td>\n",
       "      <td>154261.0</td>\n",
       "      <td>64600.0</td>\n",
       "      <td>168145.0</td>\n",
       "      <td>N</td>\n",
       "      <td>N</td>\n",
       "    </tr>\n",
       "    <tr>\n",
       "      <th>230721</th>\n",
       "      <td>33000.0</td>\n",
       "      <td>33000.0</td>\n",
       "      <td>33000.0</td>\n",
       "      <td>36 months</td>\n",
       "      <td>7.21%</td>\n",
       "      <td>1022.12</td>\n",
       "      <td>A</td>\n",
       "      <td>A3</td>\n",
       "      <td>Registered Nurse</td>\n",
       "      <td>&lt; 1 year</td>\n",
       "      <td>...</td>\n",
       "      <td>100.0</td>\n",
       "      <td>0.0</td>\n",
       "      <td>0.0</td>\n",
       "      <td>0.0</td>\n",
       "      <td>404510.0</td>\n",
       "      <td>48219.0</td>\n",
       "      <td>81700.0</td>\n",
       "      <td>73015.0</td>\n",
       "      <td>Y</td>\n",
       "      <td>N</td>\n",
       "    </tr>\n",
       "    <tr>\n",
       "      <th>230722</th>\n",
       "      <td>7000.0</td>\n",
       "      <td>7000.0</td>\n",
       "      <td>7000.0</td>\n",
       "      <td>36 months</td>\n",
       "      <td>7.97%</td>\n",
       "      <td>219.26</td>\n",
       "      <td>A</td>\n",
       "      <td>A5</td>\n",
       "      <td>CSM</td>\n",
       "      <td>10+ years</td>\n",
       "      <td>...</td>\n",
       "      <td>100.0</td>\n",
       "      <td>0.0</td>\n",
       "      <td>1.0</td>\n",
       "      <td>0.0</td>\n",
       "      <td>33900.0</td>\n",
       "      <td>7736.0</td>\n",
       "      <td>18000.0</td>\n",
       "      <td>0.0</td>\n",
       "      <td>N</td>\n",
       "      <td>N</td>\n",
       "    </tr>\n",
       "    <tr>\n",
       "      <th>...</th>\n",
       "      <td>...</td>\n",
       "      <td>...</td>\n",
       "      <td>...</td>\n",
       "      <td>...</td>\n",
       "      <td>...</td>\n",
       "      <td>...</td>\n",
       "      <td>...</td>\n",
       "      <td>...</td>\n",
       "      <td>...</td>\n",
       "      <td>...</td>\n",
       "      <td>...</td>\n",
       "      <td>...</td>\n",
       "      <td>...</td>\n",
       "      <td>...</td>\n",
       "      <td>...</td>\n",
       "      <td>...</td>\n",
       "      <td>...</td>\n",
       "      <td>...</td>\n",
       "      <td>...</td>\n",
       "      <td>...</td>\n",
       "      <td>...</td>\n",
       "    </tr>\n",
       "    <tr>\n",
       "      <th>2925488</th>\n",
       "      <td>24000.0</td>\n",
       "      <td>24000.0</td>\n",
       "      <td>24000.0</td>\n",
       "      <td>60 months</td>\n",
       "      <td>23.99%</td>\n",
       "      <td>690.30</td>\n",
       "      <td>E</td>\n",
       "      <td>E2</td>\n",
       "      <td>Senior Escrow Officer</td>\n",
       "      <td>&lt; 1 year</td>\n",
       "      <td>...</td>\n",
       "      <td>87.5</td>\n",
       "      <td>0.0</td>\n",
       "      <td>1.0</td>\n",
       "      <td>1.0</td>\n",
       "      <td>103322.0</td>\n",
       "      <td>60812.0</td>\n",
       "      <td>28200.0</td>\n",
       "      <td>64422.0</td>\n",
       "      <td>N</td>\n",
       "      <td>N</td>\n",
       "    </tr>\n",
       "    <tr>\n",
       "      <th>2925489</th>\n",
       "      <td>10000.0</td>\n",
       "      <td>10000.0</td>\n",
       "      <td>10000.0</td>\n",
       "      <td>36 months</td>\n",
       "      <td>7.99%</td>\n",
       "      <td>313.32</td>\n",
       "      <td>A</td>\n",
       "      <td>A5</td>\n",
       "      <td>Rn</td>\n",
       "      <td>10+ years</td>\n",
       "      <td>...</td>\n",
       "      <td>92.6</td>\n",
       "      <td>14.3</td>\n",
       "      <td>0.0</td>\n",
       "      <td>0.0</td>\n",
       "      <td>132303.0</td>\n",
       "      <td>55863.0</td>\n",
       "      <td>34800.0</td>\n",
       "      <td>70203.0</td>\n",
       "      <td>N</td>\n",
       "      <td>N</td>\n",
       "    </tr>\n",
       "    <tr>\n",
       "      <th>2925490</th>\n",
       "      <td>10050.0</td>\n",
       "      <td>10050.0</td>\n",
       "      <td>10050.0</td>\n",
       "      <td>36 months</td>\n",
       "      <td>16.99%</td>\n",
       "      <td>358.26</td>\n",
       "      <td>D</td>\n",
       "      <td>D1</td>\n",
       "      <td>Sales Associate</td>\n",
       "      <td>8 years</td>\n",
       "      <td>...</td>\n",
       "      <td>95.2</td>\n",
       "      <td>0.0</td>\n",
       "      <td>0.0</td>\n",
       "      <td>0.0</td>\n",
       "      <td>30400.0</td>\n",
       "      <td>14300.0</td>\n",
       "      <td>9000.0</td>\n",
       "      <td>0.0</td>\n",
       "      <td>N</td>\n",
       "      <td>N</td>\n",
       "    </tr>\n",
       "    <tr>\n",
       "      <th>2925491</th>\n",
       "      <td>6000.0</td>\n",
       "      <td>6000.0</td>\n",
       "      <td>6000.0</td>\n",
       "      <td>36 months</td>\n",
       "      <td>11.44%</td>\n",
       "      <td>197.69</td>\n",
       "      <td>B</td>\n",
       "      <td>B4</td>\n",
       "      <td>Contact input</td>\n",
       "      <td>5 years</td>\n",
       "      <td>...</td>\n",
       "      <td>94.4</td>\n",
       "      <td>0.0</td>\n",
       "      <td>0.0</td>\n",
       "      <td>0.0</td>\n",
       "      <td>47476.0</td>\n",
       "      <td>26201.0</td>\n",
       "      <td>8100.0</td>\n",
       "      <td>34076.0</td>\n",
       "      <td>N</td>\n",
       "      <td>N</td>\n",
       "    </tr>\n",
       "    <tr>\n",
       "      <th>2925492</th>\n",
       "      <td>30000.0</td>\n",
       "      <td>30000.0</td>\n",
       "      <td>30000.0</td>\n",
       "      <td>60 months</td>\n",
       "      <td>25.49%</td>\n",
       "      <td>889.18</td>\n",
       "      <td>E</td>\n",
       "      <td>E4</td>\n",
       "      <td>Assistant Manager</td>\n",
       "      <td>4 years</td>\n",
       "      <td>...</td>\n",
       "      <td>91.3</td>\n",
       "      <td>66.7</td>\n",
       "      <td>0.0</td>\n",
       "      <td>0.0</td>\n",
       "      <td>275706.0</td>\n",
       "      <td>75819.0</td>\n",
       "      <td>16000.0</td>\n",
       "      <td>89732.0</td>\n",
       "      <td>N</td>\n",
       "      <td>N</td>\n",
       "    </tr>\n",
       "  </tbody>\n",
       "</table>\n",
       "<p>1691061 rows × 102 columns</p>\n",
       "</div>"
      ],
      "text/plain": [
       "         loan_amnt  funded_amnt  funded_amnt_inv        term int_rate  \\\n",
       "230717     12000.0      12000.0          12000.0   36 months    7.97%   \n",
       "230718     32000.0      32000.0          32000.0   36 months   11.99%   \n",
       "230719     40000.0      40000.0          40000.0   60 months   15.05%   \n",
       "230721     33000.0      33000.0          33000.0   36 months    7.21%   \n",
       "230722      7000.0       7000.0           7000.0   36 months    7.97%   \n",
       "...            ...          ...              ...         ...      ...   \n",
       "2925488    24000.0      24000.0          24000.0   60 months   23.99%   \n",
       "2925489    10000.0      10000.0          10000.0   36 months    7.99%   \n",
       "2925490    10050.0      10050.0          10050.0   36 months   16.99%   \n",
       "2925491     6000.0       6000.0           6000.0   36 months   11.44%   \n",
       "2925492    30000.0      30000.0          30000.0   60 months   25.49%   \n",
       "\n",
       "         installment grade sub_grade              emp_title emp_length  ...  \\\n",
       "230717        375.88     A        A5              associate  10+ years  ...   \n",
       "230718       1062.71     B        B5                  Nurse  10+ years  ...   \n",
       "230719        952.65     C        C4                 Driver    9 years  ...   \n",
       "230721       1022.12     A        A3       Registered Nurse   < 1 year  ...   \n",
       "230722        219.26     A        A5                    CSM  10+ years  ...   \n",
       "...              ...   ...       ...                    ...        ...  ...   \n",
       "2925488       690.30     E        E2  Senior Escrow Officer   < 1 year  ...   \n",
       "2925489       313.32     A        A5                     Rn  10+ years  ...   \n",
       "2925490       358.26     D        D1        Sales Associate    8 years  ...   \n",
       "2925491       197.69     B        B4          Contact input    5 years  ...   \n",
       "2925492       889.18     E        E4      Assistant Manager    4 years  ...   \n",
       "\n",
       "        pct_tl_nvr_dlq  percent_bc_gt_75 pub_rec_bankruptcies tax_liens  \\\n",
       "230717           100.0               0.0                  1.0       0.0   \n",
       "230718            94.9               0.0                  0.0       0.0   \n",
       "230719           100.0               0.0                  0.0       0.0   \n",
       "230721           100.0               0.0                  0.0       0.0   \n",
       "230722           100.0               0.0                  1.0       0.0   \n",
       "...                ...               ...                  ...       ...   \n",
       "2925488           87.5               0.0                  1.0       1.0   \n",
       "2925489           92.6              14.3                  0.0       0.0   \n",
       "2925490           95.2               0.0                  0.0       0.0   \n",
       "2925491           94.4               0.0                  0.0       0.0   \n",
       "2925492           91.3              66.7                  0.0       0.0   \n",
       "\n",
       "        tot_hi_cred_lim total_bal_ex_mort total_bc_limit  \\\n",
       "230717          57180.0           30502.0        15500.0   \n",
       "230718         527034.0           63891.0       124200.0   \n",
       "230719         367745.0          154261.0        64600.0   \n",
       "230721         404510.0           48219.0        81700.0   \n",
       "230722          33900.0            7736.0        18000.0   \n",
       "...                 ...               ...            ...   \n",
       "2925488        103322.0           60812.0        28200.0   \n",
       "2925489        132303.0           55863.0        34800.0   \n",
       "2925490         30400.0           14300.0         9000.0   \n",
       "2925491         47476.0           26201.0         8100.0   \n",
       "2925492        275706.0           75819.0        16000.0   \n",
       "\n",
       "         total_il_high_credit_limit  hardship_flag debt_settlement_flag  \n",
       "230717                      26180.0              N                    N  \n",
       "230718                      20034.0              Y                    N  \n",
       "230719                     168145.0              N                    N  \n",
       "230721                      73015.0              Y                    N  \n",
       "230722                          0.0              N                    N  \n",
       "...                             ...            ...                  ...  \n",
       "2925488                     64422.0              N                    N  \n",
       "2925489                     70203.0              N                    N  \n",
       "2925490                         0.0              N                    N  \n",
       "2925491                     34076.0              N                    N  \n",
       "2925492                     89732.0              N                    N  \n",
       "\n",
       "[1691061 rows x 102 columns]"
      ]
     },
     "metadata": {},
     "output_type": "display_data"
    }
   ],
   "source": [
    "loan_data"
   ]
  },
  {
   "cell_type": "markdown",
   "id": "81df9c3a",
   "metadata": {},
   "source": [
    "### 2.3.6 Changing Data Types<a id='2.3.6_Changing_Data_Types'></a>\n",
    "#### 2.3.6.1 Loan Terms<a id='2.3.6.1_Loan_Terms'></a>\n",
    "The loan duration ('term' feature) is text data. It would be better to have this as a numeric feature, so I changed that. I extracted the digits for the loan term to save the data as an integer."
   ]
  },
  {
   "cell_type": "code",
   "execution_count": 23,
   "id": "cc23dc2e",
   "metadata": {},
   "outputs": [],
   "source": [
    "# Extract the loan term length and convert to int64\n",
    "loan_data['term'] = loan_data['term'].str[1:3].astype('int64')"
   ]
  },
  {
   "cell_type": "markdown",
   "id": "c24054e2",
   "metadata": {},
   "source": [
    "#### 2.3.6.2 Interest Rate<a id='2.3.6.2_Interest_Rate'></a>\n",
    "The interest rate and revolving utility percentage were also string data that were converted into numeric float data."
   ]
  },
  {
   "cell_type": "code",
   "execution_count": 24,
   "id": "47153fa0",
   "metadata": {},
   "outputs": [],
   "source": [
    "# Extract the loan term length and convert to int64\n",
    "loan_data['int_rate'] = loan_data['int_rate'].str.strip('%').astype('float')/100\n",
    "loan_data['revol_util'] = loan_data['revol_util'].str.strip('%').astype('float')/100"
   ]
  },
  {
   "cell_type": "markdown",
   "id": "cc2e44eb",
   "metadata": {},
   "source": [
    "#### 2.3.6.3 Categories, Strings, and Datetime<a id='2.3.6.3_Categories_Strings_And_Datetime'></a>\n",
    "To keep things tidy, I converted several features into either category, string, or datetime dtypes."
   ]
  },
  {
   "cell_type": "code",
   "execution_count": 25,
   "id": "7dea78a4",
   "metadata": {},
   "outputs": [],
   "source": [
    "convert_to_category = ['grade', 'sub_grade', 'emp_length', 'home_ownership', 'verification_status', 'loan_status', \n",
    "                       'pymnt_plan', 'purpose', 'zip_code', 'addr_state', 'initial_list_status', 'application_type',\n",
    "                      'verification_status_joint', 'hardship_flag', 'debt_settlement_flag']\n",
    "\n",
    "convert_to_string = ['emp_title', 'url', 'title']\n",
    "\n",
    "convert_to_datetime = ['issue_d', 'earliest_cr_line', 'last_pymnt_d', 'last_credit_pull_d']\n",
    "\n",
    "\n",
    "for column_name in convert_to_category :\n",
    "    if column_name in loan_data.columns:\n",
    "        loan_data[column_name] = loan_data[column_name].astype('category')\n",
    "    \n",
    "for column_name in convert_to_string: \n",
    "    if column_name in loan_data.columns:\n",
    "        loan_data[column_name] = loan_data[column_name].astype('string')\n",
    "    \n",
    "for column_name in convert_to_datetime: \n",
    "    if column_name in loan_data.columns:\n",
    "        loan_data[column_name] = pd.to_datetime(loan_data[column_name], infer_datetime_format=True)  "
   ]
  },
  {
   "cell_type": "markdown",
   "id": "00f9937a",
   "metadata": {},
   "source": [
    "#### 2.3.6.4 Integers<a id='2.3.6.4_Integers'></a>\n",
    "Lastly, I converted most of the remaining features to integers (if it was logical to do so, which it was)."
   ]
  },
  {
   "cell_type": "code",
   "execution_count": 26,
   "id": "5c35ebcf",
   "metadata": {},
   "outputs": [],
   "source": [
    "convert_to_int = loan_data.select_dtypes(include = 'float').columns\n",
    "\n",
    "for column_name in convert_to_int:\n",
    "    loan_data[column_name] = loan_data[column_name].astype('int')"
   ]
  },
  {
   "cell_type": "markdown",
   "id": "99b249ad",
   "metadata": {},
   "source": [
    "The resultant DataFrame is down to 102 features and 1.7 million observations with zero missing data."
   ]
  },
  {
   "cell_type": "code",
   "execution_count": 27,
   "id": "abe85e19",
   "metadata": {
    "scrolled": false
   },
   "outputs": [
    {
     "name": "stdout",
     "output_type": "stream",
     "text": [
      "<class 'pandas.core.frame.DataFrame'>\n",
      "Int64Index: 1691061 entries, 230717 to 2925492\n",
      "Columns: 102 entries, loan_amnt to debt_settlement_flag\n",
      "dtypes: category(13), datetime64[ns](3), int32(84), int64(1), string(1)\n",
      "memory usage: 641.9 MB\n"
     ]
    }
   ],
   "source": [
    "loan_data.info()"
   ]
  },
  {
   "cell_type": "markdown",
   "id": "30228f70",
   "metadata": {},
   "source": [
    "# "
   ]
  },
  {
   "cell_type": "code",
   "execution_count": 28,
   "id": "f9eec945",
   "metadata": {},
   "outputs": [],
   "source": [
    "# save the data to a new csv file\n",
    "datapath = r'C:\\Users\\jjsun\\OneDrive\\Desktop\\pythonprojects\\LendingClub-Loan_Default-Prediction\\data\\processed\\loan_data_cleaned.csv'\n",
    "\n",
    "loan_data.to_csv(datapath, index = False)"
   ]
  }
 ],
 "metadata": {
  "kernelspec": {
   "display_name": "Python 3",
   "language": "python",
   "name": "python3"
  },
  "language_info": {
   "codemirror_mode": {
    "name": "ipython",
    "version": 3
   },
   "file_extension": ".py",
   "mimetype": "text/x-python",
   "name": "python",
   "nbconvert_exporter": "python",
   "pygments_lexer": "ipython3",
   "version": "3.8.8"
  }
 },
 "nbformat": 4,
 "nbformat_minor": 5
}
