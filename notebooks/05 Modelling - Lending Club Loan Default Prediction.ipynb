{
 "cells": [
  {
   "cell_type": "markdown",
   "id": "939be2c4",
   "metadata": {},
   "source": [
    "# 5 Modelling<a id='5_Modelling'></a>\n",
    "Justin Jimenez 1/20/2022\n",
    "\n",
    "The objective of this notebook was to develop various models and evaluate the best model for the application.\n",
    "\n",
    "# 5.1 Contents<a id='5.1_Contents'></a>\n",
    "* [5 Modelling](#5_Modelling)\n",
    "  * [5.1 Contents](#5.1_Contents)\n",
    "  * [5.2 Importing](#5.2_Importing)\n",
    "  * [5.3 Dummy Classifier](#5.3_Dummy_Classifier)\n",
    "  * [5.4 Logistic Regression](#5.4_Logistic_Regression)\n",
    "  * [5.5 Decision Tree](#5.5_Decision_Tree)\n",
    "      * [5.5.1 Gini Tree](#5.5.1_Gini_Tree)\n",
    "      * [5.5.2 Entropy Tree](#5.5.2_Entropy_Tree)\n",
    "  * [5.6 Gradient Boost](#5.5_Gradient_Boost)\n",
    "  * [5.7 Model Comparison](#5.7_Model_Comparison)\n",
    "      * [5.7.1 Dummy Classifier](#5.7.1_Dummy_Classifier)\n",
    "      * [5.7.2 Logistic Regression](#5.7.2_Logistic_Regression)\n",
    "      * [5.7.3 Gini Decision_Tree](#5.7.3_Gini_Decision_Tree)\n",
    "      * [5.7.4 Entropy_Decision_Tree](#5.7.4_Entropy_Decision_Tree)\n",
    "      * [5.7.5 Gradient Boosting Classifier](#5.7.5_Gradient_Boosting_Classifier)\n",
    "  * [5.8 Model Selection](#5.8_Model_Selection)\n",
    "  * [5.9 Data Quantity Assessment](#5.9_Data_Quantity_Assessment)\n",
    "  * [5.10 Export](#5.10_Export)\n",
    "  \n",
    "      \n",
    "# 5.2 Importing<a id='5.2_Importing'></a>"
   ]
  },
  {
   "cell_type": "code",
   "execution_count": 519,
   "id": "206bdfdd",
   "metadata": {},
   "outputs": [],
   "source": [
    "import pandas as pd\n",
    "import numpy as np\n",
    "import bamboolib\n",
    "import seaborn as sns\n",
    "import matplotlib.pyplot as plt\n",
    "from sklearn.linear_model import LogisticRegression\n",
    "from sklearn.metrics import classification_report, confusion_matrix, plot_roc_curve, plot_precision_recall_curve\n",
    "from sklearn.model_selection import RandomizedSearchCV, learning_curve\n",
    "from scipy.stats import uniform\n",
    "from sklearn.dummy import DummyClassifier\n",
    "from sklearn.ensemble import GradientBoostingClassifier\n",
    "import sklearn.tree\n",
    "import graphviz\n",
    "from sklearn import __version__ as sklearn_version\n",
    "import datetime\n",
    "# from library.sb_utils import save_file"
   ]
  },
  {
   "cell_type": "code",
   "execution_count": 520,
   "id": "073833db",
   "metadata": {},
   "outputs": [],
   "source": [
    "X_train = pd.read_csv(r'C:\\Users\\jjsun\\OneDrive\\Desktop\\pythonprojects\\LendingClub-Loan_Default-Prediction\\data\\processed\\X_train.csv')"
   ]
  },
  {
   "cell_type": "code",
   "execution_count": 521,
   "id": "14071414",
   "metadata": {},
   "outputs": [],
   "source": [
    "X_test = pd.read_csv(r'C:\\Users\\jjsun\\OneDrive\\Desktop\\pythonprojects\\LendingClub-Loan_Default-Prediction\\data\\processed\\X_test.csv')"
   ]
  },
  {
   "cell_type": "code",
   "execution_count": 522,
   "id": "57a72643",
   "metadata": {},
   "outputs": [],
   "source": [
    "y_train = pd.read_csv(r'C:\\Users\\jjsun\\OneDrive\\Desktop\\pythonprojects\\LendingClub-Loan_Default-Prediction\\data\\processed\\y_train.csv')"
   ]
  },
  {
   "cell_type": "code",
   "execution_count": 523,
   "id": "bb335b4f",
   "metadata": {},
   "outputs": [],
   "source": [
    "y_test = pd.read_csv(r'C:\\Users\\jjsun\\OneDrive\\Desktop\\pythonprojects\\LendingClub-Loan_Default-Prediction\\data\\processed\\y_test.csv')"
   ]
  },
  {
   "cell_type": "markdown",
   "id": "5f477e46",
   "metadata": {},
   "source": [
    "# 5.3 Dummy Classifier<a id='5.3_Dummy_Classifier'></a>\n",
    "[Table of Contents](#5.1_Contents)\n",
    "\n",
    "First I created a dummy classifier to use as a baseline comparison for the advanced models. On an imbalanced dataset, using a dummy classifier with the 'most frequent' strategy would provide misleading accuracy and poor recall scores. The training set was balanced with SMOTEENN, so the results would not be as poor as that. Nonetheless I opted to use the 'stratified' strategy.\n",
    "\n",
    "From the sklearn documentation:\n",
    "\n",
    "“stratified”: the predict_proba method randomly samples one-hot vectors from a multinomial distribution parametrized by the empirical class prior probabilities. The predict method returns the class label which got probability one in the one-hot vector of predict_proba. Each sampled row of both methods is therefore independent and identically distributed."
   ]
  },
  {
   "cell_type": "code",
   "execution_count": 524,
   "id": "51e4bc56",
   "metadata": {},
   "outputs": [
    {
     "data": {
      "text/plain": [
       "DummyClassifier(random_state=42, strategy='stratified')"
      ]
     },
     "execution_count": 524,
     "metadata": {},
     "output_type": "execute_result"
    }
   ],
   "source": [
    "dummy_clf = DummyClassifier(strategy=\"stratified\", random_state=42)\n",
    "dummy_clf.fit(X_train, y_train)"
   ]
  },
  {
   "cell_type": "code",
   "execution_count": 525,
   "id": "94efcfbc",
   "metadata": {},
   "outputs": [],
   "source": [
    "y_pred = dummy_clf.predict(X_train)"
   ]
  },
  {
   "cell_type": "code",
   "execution_count": 526,
   "id": "498d6d31",
   "metadata": {
    "scrolled": true
   },
   "outputs": [
    {
     "name": "stdout",
     "output_type": "stream",
     "text": [
      "              precision    recall  f1-score   support\n",
      "\n",
      "           0       0.61      0.61      0.61    236823\n",
      "           1       0.39      0.39      0.39    149550\n",
      "\n",
      "    accuracy                           0.53    386373\n",
      "   macro avg       0.50      0.50      0.50    386373\n",
      "weighted avg       0.53      0.53      0.53    386373\n",
      "\n"
     ]
    }
   ],
   "source": [
    "print(classification_report(y_train, y_pred))"
   ]
  },
  {
   "cell_type": "code",
   "execution_count": 527,
   "id": "330e4cd5",
   "metadata": {},
   "outputs": [],
   "source": [
    "y_pred = dummy_clf.predict(X_test)"
   ]
  },
  {
   "cell_type": "code",
   "execution_count": 528,
   "id": "5640258e",
   "metadata": {
    "scrolled": true
   },
   "outputs": [
    {
     "name": "stdout",
     "output_type": "stream",
     "text": [
      "              precision    recall  f1-score   support\n",
      "\n",
      "           0       0.20      0.61      0.31     85512\n",
      "           1       0.79      0.39      0.52    332449\n",
      "\n",
      "    accuracy                           0.43    417961\n",
      "   macro avg       0.50      0.50      0.41    417961\n",
      "weighted avg       0.67      0.43      0.48    417961\n",
      "\n"
     ]
    }
   ],
   "source": [
    "print(classification_report(y_test, y_pred))"
   ]
  },
  {
   "cell_type": "markdown",
   "id": "2b883fac",
   "metadata": {},
   "source": [
    "# 5.4 Logistic Regression<a id='5.4_Logistic_Regression'></a>\n",
    "[Table of Contents](#5.1_Contents)"
   ]
  },
  {
   "cell_type": "code",
   "execution_count": 529,
   "id": "090823ce",
   "metadata": {},
   "outputs": [],
   "source": [
    "class_weight = []\n",
    "for i in np.linspace(0.5,5,1000):\n",
    "    class_weight.append({0: i, 1: 1}) "
   ]
  },
  {
   "cell_type": "code",
   "execution_count": 530,
   "id": "161e280a",
   "metadata": {},
   "outputs": [
    {
     "data": {
      "text/plain": [
       "RandomizedSearchCV(cv=5, estimator=LogisticRegression(random_state=42),\n",
       "                   param_distributions={'C': array([1.00000000e-10, 1.00100101e-02, 2.00200201e-02, 3.00300301e-02,\n",
       "       4.00400401e-02, 5.00500501e-02, 6.00600602e-02, 7.00700702e-02,\n",
       "       8.00800802e-02, 9.00900902e-02, 1.00100100e-01, 1.10110110e-01,\n",
       "       1.20120120e-01, 1.30130130e-01, 1.40140140e-01, 1.50150150e-01,\n",
       "       1.601601...\n",
       "                                                         {0: 0.5855855855855856,\n",
       "                                                          1: 1},\n",
       "                                                         {0: 0.5900900900900901,\n",
       "                                                          1: 1},\n",
       "                                                         {0: 0.5945945945945946,\n",
       "                                                          1: 1},\n",
       "                                                         {0: 0.5990990990990991,\n",
       "                                                          1: 1},\n",
       "                                                         {0: 0.6036036036036037,\n",
       "                                                          1: 1},\n",
       "                                                         {0: 0.6081081081081081,\n",
       "                                                          1: 1},\n",
       "                                                         {0: 0.6126126126126126,\n",
       "                                                          1: 1},\n",
       "                                                         {0: 0.6171171171171171,\n",
       "                                                          1: 1},\n",
       "                                                         {0: 0.6216216216216216,\n",
       "                                                          1: 1},\n",
       "                                                         {0: 0.6261261261261262,\n",
       "                                                          1: 1},\n",
       "                                                         {0: 0.6306306306306306,\n",
       "                                                          1: 1}, ...],\n",
       "                                        'penalty': ['l2', 'l1', 'none',\n",
       "                                                    'elasticnet']},\n",
       "                   scoring='recall')"
      ]
     },
     "execution_count": 530,
     "metadata": {},
     "output_type": "execute_result"
    }
   ],
   "source": [
    "param_grid=dict(C = np.linspace(0.0000000001,10,1000), penalty = ['l2', 'l1', 'none', 'elasticnet'], \n",
    "                class_weight = class_weight)\n",
    "clf = LogisticRegression(random_state = 42)\n",
    "clf_cv = RandomizedSearchCV(clf, param_grid, scoring='recall', cv=5)\n",
    "clf_cv.fit(X_train, y_train)"
   ]
  },
  {
   "cell_type": "code",
   "execution_count": 531,
   "id": "2ee80350",
   "metadata": {},
   "outputs": [
    {
     "data": {
      "text/plain": [
       "{'penalty': 'l2',\n",
       " 'class_weight': {0: 0.6531531531531531, 1: 1},\n",
       " 'C': 8.328328328345044}"
      ]
     },
     "execution_count": 531,
     "metadata": {},
     "output_type": "execute_result"
    }
   ],
   "source": [
    "clf_cv.best_params_"
   ]
  },
  {
   "cell_type": "code",
   "execution_count": 532,
   "id": "2c603be6",
   "metadata": {},
   "outputs": [],
   "source": [
    "y_pred = clf_cv.predict(X_train)"
   ]
  },
  {
   "cell_type": "code",
   "execution_count": 533,
   "id": "16d22255",
   "metadata": {
    "scrolled": false
   },
   "outputs": [
    {
     "name": "stdout",
     "output_type": "stream",
     "text": [
      "              precision    recall  f1-score   support\n",
      "\n",
      "           0       0.93      0.82      0.88    236823\n",
      "           1       0.77      0.91      0.83    149550\n",
      "\n",
      "    accuracy                           0.86    386373\n",
      "   macro avg       0.85      0.87      0.85    386373\n",
      "weighted avg       0.87      0.86      0.86    386373\n",
      "\n"
     ]
    }
   ],
   "source": [
    "print(classification_report(y_train, y_pred))"
   ]
  },
  {
   "cell_type": "code",
   "execution_count": 534,
   "id": "62435716",
   "metadata": {},
   "outputs": [],
   "source": [
    "y_pred = clf_cv.predict(X_test)"
   ]
  },
  {
   "cell_type": "code",
   "execution_count": 535,
   "id": "004b808c",
   "metadata": {
    "scrolled": true
   },
   "outputs": [
    {
     "name": "stdout",
     "output_type": "stream",
     "text": [
      "              precision    recall  f1-score   support\n",
      "\n",
      "           0       0.40      0.31      0.35     85512\n",
      "           1       0.83      0.88      0.86    332449\n",
      "\n",
      "    accuracy                           0.76    417961\n",
      "   macro avg       0.62      0.60      0.60    417961\n",
      "weighted avg       0.74      0.76      0.75    417961\n",
      "\n"
     ]
    }
   ],
   "source": [
    "print(classification_report(y_test, y_pred))"
   ]
  },
  {
   "cell_type": "markdown",
   "id": "84e4ea4e",
   "metadata": {},
   "source": [
    "### Finalized Logistic Regression Model"
   ]
  },
  {
   "cell_type": "code",
   "execution_count": 536,
   "id": "3ba950a8",
   "metadata": {},
   "outputs": [],
   "source": [
    "clf = LogisticRegression(random_state = 42, penalty = 'none', \n",
    "                         class_weight = {0: 2.0315315, 1: 1}, C = 3.5235235).fit(X_train, y_train)"
   ]
  },
  {
   "cell_type": "code",
   "execution_count": 537,
   "id": "6d52a59b",
   "metadata": {},
   "outputs": [],
   "source": [
    "y_pred = clf.predict(X_test)"
   ]
  },
  {
   "cell_type": "code",
   "execution_count": 538,
   "id": "d60112c9",
   "metadata": {
    "scrolled": false
   },
   "outputs": [
    {
     "name": "stdout",
     "output_type": "stream",
     "text": [
      "              precision    recall  f1-score   support\n",
      "\n",
      "           0       0.34      0.64      0.44     85512\n",
      "           1       0.88      0.68      0.77    332449\n",
      "\n",
      "    accuracy                           0.67    417961\n",
      "   macro avg       0.61      0.66      0.60    417961\n",
      "weighted avg       0.77      0.67      0.70    417961\n",
      "\n"
     ]
    }
   ],
   "source": [
    "print(classification_report(y_test, y_pred))"
   ]
  },
  {
   "cell_type": "code",
   "execution_count": 539,
   "id": "69012ce4",
   "metadata": {},
   "outputs": [],
   "source": [
    "logreg_features = pd.DataFrame()\n",
    "logreg_features['features'] = X_train.columns\n",
    "logreg_features['coef'] = clf.coef_[0]\n",
    "logreg_features = logreg_features.sort_values(by=['coef'], ascending=[False])"
   ]
  },
  {
   "cell_type": "code",
   "execution_count": 540,
   "id": "8f9da9ab",
   "metadata": {},
   "outputs": [
    {
     "data": {
      "application/vnd.jupyter.widget-view+json": {
       "model_id": "cb9a547de5114c18a779bff23aa428b1"
      },
      "text/html": [
       "<div>\n",
       "<style scoped>\n",
       "    .dataframe tbody tr th:only-of-type {\n",
       "        vertical-align: middle;\n",
       "    }\n",
       "\n",
       "    .dataframe tbody tr th {\n",
       "        vertical-align: top;\n",
       "    }\n",
       "\n",
       "    .dataframe thead th {\n",
       "        text-align: right;\n",
       "    }\n",
       "</style>\n",
       "<table border=\"1\" class=\"dataframe\">\n",
       "  <thead>\n",
       "    <tr style=\"text-align: right;\">\n",
       "      <th></th>\n",
       "      <th>features</th>\n",
       "      <th>coef</th>\n",
       "    </tr>\n",
       "  </thead>\n",
       "  <tbody>\n",
       "    <tr>\n",
       "      <th>30</th>\n",
       "      <td>home_ownership_MORTGAGE</td>\n",
       "      <td>2.163174</td>\n",
       "    </tr>\n",
       "    <tr>\n",
       "      <th>33</th>\n",
       "      <td>home_ownership_RENT</td>\n",
       "      <td>1.955560</td>\n",
       "    </tr>\n",
       "    <tr>\n",
       "      <th>35</th>\n",
       "      <td>purpose_consolidation</td>\n",
       "      <td>1.687660</td>\n",
       "    </tr>\n",
       "    <tr>\n",
       "      <th>36</th>\n",
       "      <td>purpose_credit_card</td>\n",
       "      <td>1.196152</td>\n",
       "    </tr>\n",
       "    <tr>\n",
       "      <th>32</th>\n",
       "      <td>home_ownership_OWN</td>\n",
       "      <td>1.133891</td>\n",
       "    </tr>\n",
       "    <tr>\n",
       "      <th>19</th>\n",
       "      <td>emp_length_10+ years</td>\n",
       "      <td>0.911371</td>\n",
       "    </tr>\n",
       "    <tr>\n",
       "      <th>38</th>\n",
       "      <td>purpose_house</td>\n",
       "      <td>0.800544</td>\n",
       "    </tr>\n",
       "    <tr>\n",
       "      <th>42</th>\n",
       "      <td>purpose_other</td>\n",
       "      <td>0.761358</td>\n",
       "    </tr>\n",
       "    <tr>\n",
       "      <th>2</th>\n",
       "      <td>installment</td>\n",
       "      <td>0.561698</td>\n",
       "    </tr>\n",
       "    <tr>\n",
       "      <th>20</th>\n",
       "      <td>emp_length_2 years</td>\n",
       "      <td>0.518953</td>\n",
       "    </tr>\n",
       "    <tr>\n",
       "      <th>21</th>\n",
       "      <td>emp_length_3 years</td>\n",
       "      <td>0.493356</td>\n",
       "    </tr>\n",
       "    <tr>\n",
       "      <th>28</th>\n",
       "      <td>emp_length_&lt; 1 year</td>\n",
       "      <td>0.472045</td>\n",
       "    </tr>\n",
       "    <tr>\n",
       "      <th>39</th>\n",
       "      <td>purpose_major_purchase</td>\n",
       "      <td>0.443705</td>\n",
       "    </tr>\n",
       "    <tr>\n",
       "      <th>23</th>\n",
       "      <td>emp_length_5 years</td>\n",
       "      <td>0.430591</td>\n",
       "    </tr>\n",
       "    <tr>\n",
       "      <th>22</th>\n",
       "      <td>emp_length_4 years</td>\n",
       "      <td>0.421399</td>\n",
       "    </tr>\n",
       "    <tr>\n",
       "      <th>24</th>\n",
       "      <td>emp_length_6 years</td>\n",
       "      <td>0.367800</td>\n",
       "    </tr>\n",
       "    <tr>\n",
       "      <th>26</th>\n",
       "      <td>emp_length_8 years</td>\n",
       "      <td>0.336907</td>\n",
       "    </tr>\n",
       "    <tr>\n",
       "      <th>40</th>\n",
       "      <td>purpose_medical</td>\n",
       "      <td>0.335820</td>\n",
       "    </tr>\n",
       "    <tr>\n",
       "      <th>27</th>\n",
       "      <td>emp_length_9 years</td>\n",
       "      <td>0.330786</td>\n",
       "    </tr>\n",
       "    <tr>\n",
       "      <th>29</th>\n",
       "      <td>emp_length_No Employment</td>\n",
       "      <td>0.324933</td>\n",
       "    </tr>\n",
       "    <tr>\n",
       "      <th>25</th>\n",
       "      <td>emp_length_7 years</td>\n",
       "      <td>0.324892</td>\n",
       "    </tr>\n",
       "    <tr>\n",
       "      <th>34</th>\n",
       "      <td>purpose_car</td>\n",
       "      <td>0.319177</td>\n",
       "    </tr>\n",
       "    <tr>\n",
       "      <th>43</th>\n",
       "      <td>purpose_vacation</td>\n",
       "      <td>0.273702</td>\n",
       "    </tr>\n",
       "    <tr>\n",
       "      <th>41</th>\n",
       "      <td>purpose_moving</td>\n",
       "      <td>0.261538</td>\n",
       "    </tr>\n",
       "    <tr>\n",
       "      <th>14</th>\n",
       "      <td>tot_hi_cred_lim</td>\n",
       "      <td>0.236383</td>\n",
       "    </tr>\n",
       "    <tr>\n",
       "      <th>3</th>\n",
       "      <td>annual_inc</td>\n",
       "      <td>0.226510</td>\n",
       "    </tr>\n",
       "    <tr>\n",
       "      <th>16</th>\n",
       "      <td>fico_avg</td>\n",
       "      <td>0.205655</td>\n",
       "    </tr>\n",
       "    <tr>\n",
       "      <th>4</th>\n",
       "      <td>delinq_2yrs</td>\n",
       "      <td>0.080462</td>\n",
       "    </tr>\n",
       "    <tr>\n",
       "      <th>11</th>\n",
       "      <td>mths_since_recent_inq</td>\n",
       "      <td>0.077357</td>\n",
       "    </tr>\n",
       "    <tr>\n",
       "      <th>37</th>\n",
       "      <td>purpose_energy</td>\n",
       "      <td>0.073348</td>\n",
       "    </tr>\n",
       "    <tr>\n",
       "      <th>15</th>\n",
       "      <td>total_bal_ex_mort</td>\n",
       "      <td>0.067777</td>\n",
       "    </tr>\n",
       "    <tr>\n",
       "      <th>12</th>\n",
       "      <td>pub_rec_bankruptcies</td>\n",
       "      <td>0.062711</td>\n",
       "    </tr>\n",
       "    <tr>\n",
       "      <th>6</th>\n",
       "      <td>mths_since_last_delinq</td>\n",
       "      <td>0.058555</td>\n",
       "    </tr>\n",
       "    <tr>\n",
       "      <th>31</th>\n",
       "      <td>home_ownership_NONE</td>\n",
       "      <td>0.027048</td>\n",
       "    </tr>\n",
       "    <tr>\n",
       "      <th>5</th>\n",
       "      <td>earliest_cr_line</td>\n",
       "      <td>0.025318</td>\n",
       "    </tr>\n",
       "    <tr>\n",
       "      <th>13</th>\n",
       "      <td>tax_liens</td>\n",
       "      <td>0.023981</td>\n",
       "    </tr>\n",
       "    <tr>\n",
       "      <th>8</th>\n",
       "      <td>acc_now_delinq</td>\n",
       "      <td>0.021018</td>\n",
       "    </tr>\n",
       "    <tr>\n",
       "      <th>10</th>\n",
       "      <td>chargeoff_within_12_mths</td>\n",
       "      <td>0.014345</td>\n",
       "    </tr>\n",
       "    <tr>\n",
       "      <th>9</th>\n",
       "      <td>inq_last_12m</td>\n",
       "      <td>0.004079</td>\n",
       "    </tr>\n",
       "    <tr>\n",
       "      <th>17</th>\n",
       "      <td>tot_bal_income_ratio</td>\n",
       "      <td>-0.025023</td>\n",
       "    </tr>\n",
       "    <tr>\n",
       "      <th>18</th>\n",
       "      <td>tot_bal_tot_hi_cred_lim_ratio</td>\n",
       "      <td>-0.152808</td>\n",
       "    </tr>\n",
       "    <tr>\n",
       "      <th>7</th>\n",
       "      <td>last_credit_pull_d</td>\n",
       "      <td>-0.482148</td>\n",
       "    </tr>\n",
       "    <tr>\n",
       "      <th>1</th>\n",
       "      <td>int_rate</td>\n",
       "      <td>-0.620894</td>\n",
       "    </tr>\n",
       "    <tr>\n",
       "      <th>0</th>\n",
       "      <td>loan_amnt</td>\n",
       "      <td>-1.149054</td>\n",
       "    </tr>\n",
       "  </tbody>\n",
       "</table>\n",
       "</div>"
      ],
      "text/plain": [
       "                         features      coef\n",
       "30        home_ownership_MORTGAGE  2.163174\n",
       "33            home_ownership_RENT  1.955560\n",
       "35          purpose_consolidation  1.687660\n",
       "36            purpose_credit_card  1.196152\n",
       "32             home_ownership_OWN  1.133891\n",
       "19           emp_length_10+ years  0.911371\n",
       "38                  purpose_house  0.800544\n",
       "42                  purpose_other  0.761358\n",
       "2                     installment  0.561698\n",
       "20             emp_length_2 years  0.518953\n",
       "21             emp_length_3 years  0.493356\n",
       "28            emp_length_< 1 year  0.472045\n",
       "39         purpose_major_purchase  0.443705\n",
       "23             emp_length_5 years  0.430591\n",
       "22             emp_length_4 years  0.421399\n",
       "24             emp_length_6 years  0.367800\n",
       "26             emp_length_8 years  0.336907\n",
       "40                purpose_medical  0.335820\n",
       "27             emp_length_9 years  0.330786\n",
       "29       emp_length_No Employment  0.324933\n",
       "25             emp_length_7 years  0.324892\n",
       "34                    purpose_car  0.319177\n",
       "43               purpose_vacation  0.273702\n",
       "41                 purpose_moving  0.261538\n",
       "14                tot_hi_cred_lim  0.236383\n",
       "3                      annual_inc  0.226510\n",
       "16                       fico_avg  0.205655\n",
       "4                     delinq_2yrs  0.080462\n",
       "11          mths_since_recent_inq  0.077357\n",
       "37                 purpose_energy  0.073348\n",
       "15              total_bal_ex_mort  0.067777\n",
       "12           pub_rec_bankruptcies  0.062711\n",
       "6          mths_since_last_delinq  0.058555\n",
       "31            home_ownership_NONE  0.027048\n",
       "5                earliest_cr_line  0.025318\n",
       "13                      tax_liens  0.023981\n",
       "8                  acc_now_delinq  0.021018\n",
       "10       chargeoff_within_12_mths  0.014345\n",
       "9                    inq_last_12m  0.004079\n",
       "17           tot_bal_income_ratio -0.025023\n",
       "18  tot_bal_tot_hi_cred_lim_ratio -0.152808\n",
       "7              last_credit_pull_d -0.482148\n",
       "1                        int_rate -0.620894\n",
       "0                       loan_amnt -1.149054"
      ]
     },
     "metadata": {},
     "output_type": "display_data"
    }
   ],
   "source": [
    "logreg_features"
   ]
  },
  {
   "cell_type": "markdown",
   "id": "5869696d",
   "metadata": {},
   "source": [
    "# 5.5 Decision Tree<a id='5.5_Decision_Tree'></a>\n",
    "[Table of Contents](#5.1_Contents)\n",
    "\n",
    "## 5.5.1 Gini Tree<a id='5.5.1_Gini_Tree'></a>"
   ]
  },
  {
   "cell_type": "code",
   "execution_count": 541,
   "id": "d0354154",
   "metadata": {},
   "outputs": [],
   "source": [
    "param_grid = dict(\n",
    "    class_weight = class_weight,\n",
    "    max_depth=list(range(2,11)),\n",
    "    min_samples_leaf=list(range(1,21)),\n",
    "    min_samples_split=list(range(5,51)),\n",
    ")\n",
    "gini_tree = sklearn.tree.DecisionTreeClassifier(random_state=42, criterion = 'gini')\n",
    "gini_tree_cv = RandomizedSearchCV(gini_tree, param_grid, scoring='recall', cv=5).fit(X_train, y_train)"
   ]
  },
  {
   "cell_type": "code",
   "execution_count": 542,
   "id": "9f3ae745",
   "metadata": {
    "scrolled": true
   },
   "outputs": [
    {
     "data": {
      "text/plain": [
       "{'min_samples_split': 28,\n",
       " 'min_samples_leaf': 16,\n",
       " 'max_depth': 8,\n",
       " 'class_weight': {0: 0.6441441441441441, 1: 1}}"
      ]
     },
     "execution_count": 542,
     "metadata": {},
     "output_type": "execute_result"
    }
   ],
   "source": [
    "gini_tree_cv.best_params_"
   ]
  },
  {
   "cell_type": "code",
   "execution_count": 543,
   "id": "1ae5d48a",
   "metadata": {},
   "outputs": [],
   "source": [
    "y_pred = gini_tree_cv.predict(X_train)"
   ]
  },
  {
   "cell_type": "code",
   "execution_count": 544,
   "id": "a18858cd",
   "metadata": {
    "scrolled": false
   },
   "outputs": [
    {
     "name": "stdout",
     "output_type": "stream",
     "text": [
      "              precision    recall  f1-score   support\n",
      "\n",
      "           0       0.87      0.77      0.82    236823\n",
      "           1       0.69      0.82      0.75    149550\n",
      "\n",
      "    accuracy                           0.79    386373\n",
      "   macro avg       0.78      0.79      0.78    386373\n",
      "weighted avg       0.80      0.79      0.79    386373\n",
      "\n"
     ]
    }
   ],
   "source": [
    "print(classification_report(y_train, y_pred))"
   ]
  },
  {
   "cell_type": "code",
   "execution_count": 545,
   "id": "fc165594",
   "metadata": {},
   "outputs": [],
   "source": [
    "y_pred = gini_tree_cv.predict(X_test)"
   ]
  },
  {
   "cell_type": "code",
   "execution_count": 546,
   "id": "0c0e6550",
   "metadata": {
    "scrolled": true
   },
   "outputs": [
    {
     "name": "stdout",
     "output_type": "stream",
     "text": [
      "              precision    recall  f1-score   support\n",
      "\n",
      "           0       0.36      0.47      0.41     85512\n",
      "           1       0.85      0.78      0.82    332449\n",
      "\n",
      "    accuracy                           0.72    417961\n",
      "   macro avg       0.61      0.63      0.61    417961\n",
      "weighted avg       0.75      0.72      0.73    417961\n",
      "\n"
     ]
    }
   ],
   "source": [
    "print(classification_report(y_test, y_pred))"
   ]
  },
  {
   "cell_type": "markdown",
   "id": "21ae1455",
   "metadata": {},
   "source": [
    "### Finalized Gini Decision Tree"
   ]
  },
  {
   "cell_type": "code",
   "execution_count": 547,
   "id": "8c778420",
   "metadata": {},
   "outputs": [],
   "source": [
    "gini_tree = sklearn.tree.DecisionTreeClassifier(random_state=42, criterion = 'gini', min_samples_split = 43,\n",
    "                                                  min_samples_leaf = 6, max_depth = 10, class_weight = {0: 1, 1: 1}\n",
    "                                                  ).fit(X_train, y_train)"
   ]
  },
  {
   "cell_type": "code",
   "execution_count": 548,
   "id": "d1039c67",
   "metadata": {},
   "outputs": [
    {
     "data": {
      "text/plain": [
       "[(0.3733995431107686, 'int_rate'),\n",
       " (0.16671249037823363, 'last_credit_pull_d'),\n",
       " (0.057905361001460744, 'emp_length_10+ years'),\n",
       " (0.04594694987178046, 'loan_amnt'),\n",
       " (0.04031697018097766, 'home_ownership_RENT'),\n",
       " (0.028575147445049964, 'home_ownership_MORTGAGE'),\n",
       " (0.02809765126262878, 'home_ownership_OWN'),\n",
       " (0.022093765877853073, 'emp_length_3 years'),\n",
       " (0.02191687657196602, 'emp_length_2 years'),\n",
       " (0.02135753502081498, 'emp_length_< 1 year'),\n",
       " (0.02134688066093691, 'emp_length_5 years'),\n",
       " (0.021073556871929102, 'emp_length_4 years'),\n",
       " (0.019904305625066256, 'purpose_consolidation'),\n",
       " (0.01846142793266028, 'emp_length_6 years'),\n",
       " (0.018347674519640894, 'purpose_house'),\n",
       " (0.01624463094314602, 'emp_length_7 years'),\n",
       " (0.014515835124504538, 'purpose_credit_card'),\n",
       " (0.013988775506778158, 'purpose_other'),\n",
       " (0.008127011192689469, 'tot_bal_tot_hi_cred_lim_ratio'),\n",
       " (0.007949869134920918, 'annual_inc'),\n",
       " (0.007085985778507067, 'purpose_major_purchase'),\n",
       " (0.006698170185939485, 'tot_hi_cred_lim'),\n",
       " (0.006324984906422069, 'installment'),\n",
       " (0.003732798924679968, 'purpose_car'),\n",
       " (0.0023985468044986926, 'tot_bal_income_ratio'),\n",
       " (0.0022206848014500943, 'fico_avg'),\n",
       " (0.0013928102284863225, 'total_bal_ex_mort'),\n",
       " (0.0013207207532994023, 'earliest_cr_line'),\n",
       " (0.001026177390621008, 'mths_since_last_delinq'),\n",
       " (0.0007445326193259796, 'delinq_2yrs'),\n",
       " (0.0003024885694466802, 'inq_last_12m'),\n",
       " (0.0002952286408371327, 'mths_since_recent_inq'),\n",
       " (0.00013442755168268253, 'emp_length_No Employment'),\n",
       " (4.018461099698443e-05, 'pub_rec_bankruptcies'),\n",
       " (0.0, 'tax_liens'),\n",
       " (0.0, 'purpose_vacation'),\n",
       " (0.0, 'purpose_moving'),\n",
       " (0.0, 'purpose_medical'),\n",
       " (0.0, 'purpose_energy'),\n",
       " (0.0, 'home_ownership_NONE'),\n",
       " (0.0, 'emp_length_9 years'),\n",
       " (0.0, 'emp_length_8 years'),\n",
       " (0.0, 'chargeoff_within_12_mths'),\n",
       " (0.0, 'acc_now_delinq')]"
      ]
     },
     "execution_count": 548,
     "metadata": {},
     "output_type": "execute_result"
    }
   ],
   "source": [
    "sorted(list(zip(gini_tree.feature_importances_, X_train.columns)), reverse = True)"
   ]
  },
  {
   "cell_type": "code",
   "execution_count": 549,
   "id": "6a0c2dcd",
   "metadata": {
    "scrolled": false
   },
   "outputs": [],
   "source": [
    "## Visualize the decision tree\n",
    "# dot_data = sklearn.tree.export_graphviz(gini_tree, out_file=None, \n",
    "#                      feature_names=X_test.columns,  \n",
    "#                      class_names=str(gini_tree.classes_),  \n",
    "#                      filled=True, rounded=True,  \n",
    "#                      special_characters=True)  \n",
    "# graph = graphviz.Source(dot_data)\n",
    "# graph"
   ]
  },
  {
   "cell_type": "markdown",
   "id": "f385e9e0",
   "metadata": {},
   "source": [
    "## 5.5.2 Entropy Tree<a id='5.5.2_Entropy_Tree'></a>\n",
    "[Table of Contents](#5.1_Contents)"
   ]
  },
  {
   "cell_type": "code",
   "execution_count": 550,
   "id": "8f47c31a",
   "metadata": {},
   "outputs": [],
   "source": [
    "param_grid = dict(\n",
    "    class_weight = class_weight,\n",
    "    max_depth=list(range(2,11)),\n",
    "    min_samples_leaf=list(range(1,21)),\n",
    "    min_samples_split=list(range(5,51)),\n",
    ")\n",
    "entropy_tree = sklearn.tree.DecisionTreeClassifier(random_state=42, criterion = 'entropy')\n",
    "entropy_tree_cv = RandomizedSearchCV(entropy_tree, param_grid, scoring='recall', cv=5).fit(X_train, y_train)"
   ]
  },
  {
   "cell_type": "code",
   "execution_count": 551,
   "id": "2849a8fd",
   "metadata": {
    "scrolled": true
   },
   "outputs": [
    {
     "data": {
      "text/plain": [
       "{'min_samples_split': 37,\n",
       " 'min_samples_leaf': 15,\n",
       " 'max_depth': 8,\n",
       " 'class_weight': {0: 1.0225225225225225, 1: 1}}"
      ]
     },
     "execution_count": 551,
     "metadata": {},
     "output_type": "execute_result"
    }
   ],
   "source": [
    "entropy_tree_cv.best_params_"
   ]
  },
  {
   "cell_type": "code",
   "execution_count": 552,
   "id": "d737d652",
   "metadata": {},
   "outputs": [],
   "source": [
    "y_pred = entropy_tree_cv.predict(X_train)"
   ]
  },
  {
   "cell_type": "code",
   "execution_count": 553,
   "id": "484a1f45",
   "metadata": {
    "scrolled": true
   },
   "outputs": [
    {
     "name": "stdout",
     "output_type": "stream",
     "text": [
      "              precision    recall  f1-score   support\n",
      "\n",
      "           0       0.83      0.87      0.85    236823\n",
      "           1       0.77      0.71      0.74    149550\n",
      "\n",
      "    accuracy                           0.81    386373\n",
      "   macro avg       0.80      0.79      0.79    386373\n",
      "weighted avg       0.81      0.81      0.81    386373\n",
      "\n"
     ]
    }
   ],
   "source": [
    "print(classification_report(y_train, y_pred))"
   ]
  },
  {
   "cell_type": "code",
   "execution_count": 554,
   "id": "25fda02d",
   "metadata": {},
   "outputs": [],
   "source": [
    "y_pred = entropy_tree_cv.predict(X_test)"
   ]
  },
  {
   "cell_type": "code",
   "execution_count": 555,
   "id": "df49bc74",
   "metadata": {
    "scrolled": true
   },
   "outputs": [
    {
     "name": "stdout",
     "output_type": "stream",
     "text": [
      "              precision    recall  f1-score   support\n",
      "\n",
      "           0       0.33      0.64      0.44     85512\n",
      "           1       0.88      0.67      0.76    332449\n",
      "\n",
      "    accuracy                           0.66    417961\n",
      "   macro avg       0.61      0.66      0.60    417961\n",
      "weighted avg       0.77      0.66      0.69    417961\n",
      "\n"
     ]
    }
   ],
   "source": [
    "print(classification_report(y_test, y_pred))"
   ]
  },
  {
   "cell_type": "markdown",
   "id": "0bec2eac",
   "metadata": {},
   "source": [
    "### Finalized Entropy Decision Tree"
   ]
  },
  {
   "cell_type": "code",
   "execution_count": 556,
   "id": "2705be99",
   "metadata": {},
   "outputs": [],
   "source": [
    "entropy_tree = sklearn.tree.DecisionTreeClassifier(random_state=42, criterion = 'entropy', min_samples_split = 50,\n",
    "                                                  min_samples_leaf = 14, max_depth = 10, class_weight = {0: 1.5, 1: 1}\n",
    "                                                  ).fit(X_train, y_train)"
   ]
  },
  {
   "cell_type": "code",
   "execution_count": 557,
   "id": "7abc8ba0",
   "metadata": {},
   "outputs": [
    {
     "data": {
      "text/plain": [
       "[(0.33592694198766704, 'int_rate'),\n",
       " (0.1912460430247752, 'last_credit_pull_d'),\n",
       " (0.10548287345742269, 'home_ownership_RENT'),\n",
       " (0.06204282192558589, 'home_ownership_MORTGAGE'),\n",
       " (0.05599932095545769, 'loan_amnt'),\n",
       " (0.05177442816424276, 'home_ownership_OWN'),\n",
       " (0.03640704370439502, 'emp_length_10+ years'),\n",
       " (0.019708381978871658, 'purpose_consolidation'),\n",
       " (0.017734094650693297, 'purpose_house'),\n",
       " (0.01614196964451363, 'purpose_credit_card'),\n",
       " (0.016066350976735373, 'purpose_other'),\n",
       " (0.008513982114467111, 'emp_length_2 years'),\n",
       " (0.008502373017626708, 'annual_inc'),\n",
       " (0.007732130264964924, 'purpose_major_purchase'),\n",
       " (0.007514779764895801, 'emp_length_< 1 year'),\n",
       " (0.006944932916039701, 'emp_length_3 years'),\n",
       " (0.006898196559267116, 'emp_length_4 years'),\n",
       " (0.006257608535780366, 'emp_length_6 years'),\n",
       " (0.006191678373673506, 'tot_hi_cred_lim'),\n",
       " (0.005629762311104431, 'emp_length_5 years'),\n",
       " (0.005490022525640033, 'installment'),\n",
       " (0.0046983422681224, 'tot_bal_tot_hi_cred_lim_ratio'),\n",
       " (0.004464604034187097, 'purpose_medical'),\n",
       " (0.0033818818641558725, 'fico_avg'),\n",
       " (0.0026491548618510197, 'tot_bal_income_ratio'),\n",
       " (0.0020052293196187974, 'purpose_moving'),\n",
       " (0.0013250616226913392, 'earliest_cr_line'),\n",
       " (0.0008630624333950247, 'mths_since_last_delinq'),\n",
       " (0.0008219084195314147, 'mths_since_recent_inq'),\n",
       " (0.0008073313928221566, 'total_bal_ex_mort'),\n",
       " (0.0002611268830760719, 'inq_last_12m'),\n",
       " (0.00017613644191282363, 'pub_rec_bankruptcies'),\n",
       " (0.0001644189004650131, 'emp_length_No Employment'),\n",
       " (0.00012317316185592728, 'delinq_2yrs'),\n",
       " (5.283154249498164e-05, 'emp_length_8 years'),\n",
       " (0.0, 'tax_liens'),\n",
       " (0.0, 'purpose_vacation'),\n",
       " (0.0, 'purpose_energy'),\n",
       " (0.0, 'purpose_car'),\n",
       " (0.0, 'home_ownership_NONE'),\n",
       " (0.0, 'emp_length_9 years'),\n",
       " (0.0, 'emp_length_7 years'),\n",
       " (0.0, 'chargeoff_within_12_mths'),\n",
       " (0.0, 'acc_now_delinq')]"
      ]
     },
     "execution_count": 557,
     "metadata": {},
     "output_type": "execute_result"
    }
   ],
   "source": [
    "sorted(list(zip(entropy_tree.feature_importances_, X_train.columns)), reverse = True)"
   ]
  },
  {
   "cell_type": "code",
   "execution_count": 558,
   "id": "73b6742b",
   "metadata": {
    "scrolled": false
   },
   "outputs": [],
   "source": [
    "## Visualize the decision tree\n",
    "# dot_data = sklearn.tree.export_graphviz(entropy_tree, out_file=None, \n",
    "#                      feature_names=X_test.columns,  \n",
    "#                      class_names=str(entropy_tree.classes_),  \n",
    "#                      filled=True, rounded=True,  \n",
    "#                      special_characters=True)  \n",
    "# graph = graphviz.Source(dot_data)\n",
    "# graph"
   ]
  },
  {
   "cell_type": "markdown",
   "id": "b2bd9b42",
   "metadata": {},
   "source": [
    "# 5.6 Gradient Boosting Trees<a id='5.6_Gradient_Boost'></a>\n",
    "[Table of Contents](#5.1_Contents)"
   ]
  },
  {
   "cell_type": "code",
   "execution_count": 559,
   "id": "1853b1f2",
   "metadata": {
    "scrolled": true
   },
   "outputs": [
    {
     "data": {
      "text/plain": [
       "RandomizedSearchCV(cv=5,\n",
       "                   estimator=GradientBoostingClassifier(max_features=2,\n",
       "                                                        n_estimators=50,\n",
       "                                                        random_state=42),\n",
       "                   param_distributions={'learning_rate': [0.001, 0.05, 0.1, 0.2,\n",
       "                                                          0.5],\n",
       "                                        'max_depth': [2, 3, 4, 5, 6, 7, 8, 9,\n",
       "                                                      10],\n",
       "                                        'min_samples_leaf': [1, 2, 3, 4, 5, 6,\n",
       "                                                             7, 8, 9, 10, 11,\n",
       "                                                             12, 13, 14, 15, 16,\n",
       "                                                             17, 18, 19, 20],\n",
       "                                        'min_samples_split': [5, 6, 7, 8, 9, 10,\n",
       "                                                              11, 12, 13, 14,\n",
       "                                                              15, 16, 17, 18,\n",
       "                                                              19, 20, 21, 22,\n",
       "                                                              23, 24, 25, 26,\n",
       "                                                              27, 28, 29, 30,\n",
       "                                                              31, 32, 33, 34, ...]},\n",
       "                   scoring='recall')"
      ]
     },
     "execution_count": 559,
     "metadata": {},
     "output_type": "execute_result"
    }
   ],
   "source": [
    "param_grid = dict(\n",
    "    learning_rate=[0.001, 0.05, 0.1, 0.2, 0.5],\n",
    "    max_depth=list(range(2,11)),\n",
    "    min_samples_leaf=list(range(1,21)),\n",
    "    min_samples_split=list(range(5,51)),\n",
    ")\n",
    "gb = GradientBoostingClassifier(n_estimators=50, max_features=2, \n",
    "                                random_state = 42)\n",
    "gb_cv = RandomizedSearchCV(gb, param_grid, scoring='recall', cv=5)\n",
    "gb_cv.fit(X_train, y_train)"
   ]
  },
  {
   "cell_type": "code",
   "execution_count": 560,
   "id": "ba11bc74",
   "metadata": {},
   "outputs": [
    {
     "data": {
      "text/plain": [
       "{'min_samples_split': 37,\n",
       " 'min_samples_leaf': 17,\n",
       " 'max_depth': 9,\n",
       " 'learning_rate': 0.5}"
      ]
     },
     "execution_count": 560,
     "metadata": {},
     "output_type": "execute_result"
    }
   ],
   "source": [
    "gb_cv.best_params_"
   ]
  },
  {
   "cell_type": "code",
   "execution_count": 561,
   "id": "0536291a",
   "metadata": {},
   "outputs": [],
   "source": [
    "y_pred = gb_cv.predict(X_train)"
   ]
  },
  {
   "cell_type": "code",
   "execution_count": 562,
   "id": "670a544d",
   "metadata": {
    "scrolled": true
   },
   "outputs": [
    {
     "name": "stdout",
     "output_type": "stream",
     "text": [
      "              precision    recall  f1-score   support\n",
      "\n",
      "           0       0.92      0.89      0.90    236823\n",
      "           1       0.83      0.87      0.85    149550\n",
      "\n",
      "    accuracy                           0.88    386373\n",
      "   macro avg       0.87      0.88      0.88    386373\n",
      "weighted avg       0.88      0.88      0.88    386373\n",
      "\n"
     ]
    }
   ],
   "source": [
    "print(classification_report(y_train, y_pred))"
   ]
  },
  {
   "cell_type": "code",
   "execution_count": 563,
   "id": "aec9a87a",
   "metadata": {},
   "outputs": [],
   "source": [
    "y_pred = gb_cv.predict(X_test)"
   ]
  },
  {
   "cell_type": "code",
   "execution_count": 564,
   "id": "c0a21075",
   "metadata": {
    "scrolled": false
   },
   "outputs": [
    {
     "name": "stdout",
     "output_type": "stream",
     "text": [
      "              precision    recall  f1-score   support\n",
      "\n",
      "           0       0.38      0.47      0.42     85512\n",
      "           1       0.85      0.81      0.83    332449\n",
      "\n",
      "    accuracy                           0.74    417961\n",
      "   macro avg       0.62      0.64      0.63    417961\n",
      "weighted avg       0.76      0.74      0.75    417961\n",
      "\n"
     ]
    }
   ],
   "source": [
    "print(classification_report(y_test, y_pred))"
   ]
  },
  {
   "cell_type": "markdown",
   "id": "d43f0edf",
   "metadata": {},
   "source": [
    "### Finalized Gradient Boosting Classifier"
   ]
  },
  {
   "cell_type": "code",
   "execution_count": 565,
   "id": "f603717e",
   "metadata": {},
   "outputs": [],
   "source": [
    "gb = GradientBoostingClassifier(n_estimators=50, max_features=2, learning_rate = 0.2,\n",
    "                                random_state = 42, min_samples_split = 40, min_samples_leaf = 13, max_depth = 9).fit(X_train, y_train)"
   ]
  },
  {
   "cell_type": "code",
   "execution_count": 566,
   "id": "5ee17f70",
   "metadata": {},
   "outputs": [
    {
     "data": {
      "text/plain": [
       "[(0.11063353569053448, 'last_credit_pull_d'),\n",
       " (0.10416504907933496, 'int_rate'),\n",
       " (0.07471002960490344, 'emp_length_10+ years'),\n",
       " (0.0558204918816493, 'fico_avg'),\n",
       " (0.053887693122558526, 'purpose_credit_card'),\n",
       " (0.04934113674560701, 'loan_amnt'),\n",
       " (0.0433487215975478, 'purpose_consolidation'),\n",
       " (0.039471890095800474, 'installment'),\n",
       " (0.032643287109700284, 'home_ownership_MORTGAGE'),\n",
       " (0.030290062842599955, 'tot_bal_tot_hi_cred_lim_ratio'),\n",
       " (0.02993736494942919, 'emp_length_2 years'),\n",
       " (0.02895105681715478, 'purpose_house'),\n",
       " (0.02773907542907263, 'emp_length_3 years'),\n",
       " (0.023921879741760597, 'emp_length_< 1 year'),\n",
       " (0.021146735207382878, 'purpose_other'),\n",
       " (0.02076715435539602, 'emp_length_4 years'),\n",
       " (0.020693269169617896, 'emp_length_5 years'),\n",
       " (0.020198455469633232, 'delinq_2yrs'),\n",
       " (0.01976697784549462, 'home_ownership_OWN'),\n",
       " (0.019507343686328938, 'annual_inc'),\n",
       " (0.018610775627836848, 'tot_hi_cred_lim'),\n",
       " (0.01557699826199237, 'mths_since_last_delinq'),\n",
       " (0.015193547112045696, 'emp_length_6 years'),\n",
       " (0.014526943593662935, 'emp_length_7 years'),\n",
       " (0.013372591001851133, 'emp_length_8 years'),\n",
       " (0.013151266996648838, 'emp_length_9 years'),\n",
       " (0.01189963759245407, 'pub_rec_bankruptcies'),\n",
       " (0.009188250443095207, 'mths_since_recent_inq'),\n",
       " (0.008941991426549948, 'tot_bal_income_ratio'),\n",
       " (0.008819217892671986, 'home_ownership_RENT'),\n",
       " (0.0073024072190319015, 'purpose_major_purchase'),\n",
       " (0.00725861496747407, 'emp_length_No Employment'),\n",
       " (0.006046980466731128, 'total_bal_ex_mort'),\n",
       " (0.004412385156782319, 'earliest_cr_line'),\n",
       " (0.004330347497671911, 'purpose_medical'),\n",
       " (0.004296679048184106, 'purpose_car'),\n",
       " (0.002982611229522816, 'inq_last_12m'),\n",
       " (0.0029756883271953504, 'purpose_vacation'),\n",
       " (0.002520372128500107, 'purpose_moving'),\n",
       " (0.0006040320264023748, 'tax_liens'),\n",
       " (0.0004969850543983968, 'chargeoff_within_12_mths'),\n",
       " (0.0004031588920797708, 'acc_now_delinq'),\n",
       " (0.00014730759570944198, 'purpose_energy'),\n",
       " (0.0, 'home_ownership_NONE')]"
      ]
     },
     "execution_count": 566,
     "metadata": {},
     "output_type": "execute_result"
    }
   ],
   "source": [
    "sorted(list(zip(gb.feature_importances_, X_train.columns)), reverse = True)"
   ]
  },
  {
   "cell_type": "markdown",
   "id": "fa8fea09",
   "metadata": {},
   "source": [
    "# 5.7 Model Comparison<a id='5.7_Model_Comparison'></a>\n",
    "[Table of Contents](#5.1_Contents)\n",
    "\n",
    "It is important to note that all of these models were optimized for recall score. For this application, the priority is to identify and not accept applicants that are likely to default - accepting these applicants could increase the financial risk of the company. Therefore the recall score of the defaulted class is the most important evaluation metric, followed by the f1 score."
   ]
  },
  {
   "cell_type": "code",
   "execution_count": 567,
   "id": "0620c649",
   "metadata": {},
   "outputs": [],
   "source": [
    "def plot_confusion_matrix(test, pred, title, normalize = False):\n",
    "\n",
    "    cm = confusion_matrix(test, pred)\n",
    "    if normalize:\n",
    "        cm = cm.astype('float') / cm.sum(axis=1)[:, np.newaxis]\n",
    "        print(\"Normalized confusion matrix\")\n",
    "    else:\n",
    "        print('Confusion matrix, without normalization')\n",
    "              \n",
    "    df_cm = pd.DataFrame(cm.round(2))\n",
    "    plt.figure(figsize=(10, 5))\n",
    "    sns.heatmap(df_cm, annot=True, cmap='Blues', fmt='')\n",
    "    plt.xlabel(\"Predicted labels\")\n",
    "    plt.ylabel(\"True labels\")\n",
    "    plt.title(f'{title} Confusion Matrix')\n",
    "\n",
    "    return None"
   ]
  },
  {
   "cell_type": "markdown",
   "id": "2f77d550",
   "metadata": {},
   "source": [
    "# 5.7.1 Dummy Classifier<a id='5.7.1_Dummy_Classifier'></a>\n",
    "[Table of Contents](#5.1_Contents)\n",
    "\n",
    "The dummy classifier performed surprisingly well, correctly catching 61% of defaulted loans in the test set. However, this classifier performs poorly in f1 score and overall accuracy."
   ]
  },
  {
   "cell_type": "code",
   "execution_count": 568,
   "id": "125f8fb4",
   "metadata": {},
   "outputs": [],
   "source": [
    "dummy_y_pred = dummy_clf.predict(X_test)"
   ]
  },
  {
   "cell_type": "markdown",
   "id": "7e8a9f2a",
   "metadata": {},
   "source": [
    "### Testing Classification Report"
   ]
  },
  {
   "cell_type": "code",
   "execution_count": 569,
   "id": "83e5b594",
   "metadata": {
    "scrolled": false
   },
   "outputs": [
    {
     "name": "stdout",
     "output_type": "stream",
     "text": [
      "              precision    recall  f1-score   support\n",
      "\n",
      "           0       0.20      0.61      0.31     85512\n",
      "           1       0.79      0.39      0.52    332449\n",
      "\n",
      "    accuracy                           0.43    417961\n",
      "   macro avg       0.50      0.50      0.41    417961\n",
      "weighted avg       0.67      0.43      0.48    417961\n",
      "\n"
     ]
    }
   ],
   "source": [
    "print(classification_report(y_test, dummy_y_pred))"
   ]
  },
  {
   "cell_type": "markdown",
   "id": "440e6372",
   "metadata": {},
   "source": [
    "### Testing Confusion Matrix"
   ]
  },
  {
   "cell_type": "code",
   "execution_count": 570,
   "id": "70c2cb67",
   "metadata": {
    "scrolled": true
   },
   "outputs": [
    {
     "name": "stdout",
     "output_type": "stream",
     "text": [
      "Normalized confusion matrix\n"
     ]
    },
    {
     "data": {
      "image/png": "[encoded data removed]",
      "text/plain": [
       "<Figure size 720x360 with 2 Axes>"
      ]
     },
     "metadata": {
      "needs_background": "light"
     },
     "output_type": "display_data"
    }
   ],
   "source": [
    "plot_confusion_matrix(y_test, dummy_y_pred, 'Dummy Classifier', normalize = True)"
   ]
  },
  {
   "cell_type": "markdown",
   "id": "6ea2a129",
   "metadata": {},
   "source": [
    "### Testing ROC curve"
   ]
  },
  {
   "cell_type": "code",
   "execution_count": 571,
   "id": "fe81c51b",
   "metadata": {
    "scrolled": false
   },
   "outputs": [
    {
     "data": {
      "text/plain": [
       "<sklearn.metrics._plot.roc_curve.RocCurveDisplay at 0x22536f9e820>"
      ]
     },
     "execution_count": 571,
     "metadata": {},
     "output_type": "execute_result"
    },
    {
     "data": {
      "image/png": "[encoded data removed]",
      "text/plain": [
       "<Figure size 432x288 with 1 Axes>"
      ]
     },
     "metadata": {
      "needs_background": "light"
     },
     "output_type": "display_data"
    }
   ],
   "source": [
    "plot_roc_curve(dummy_clf, X_test, y_test)"
   ]
  },
  {
   "cell_type": "markdown",
   "id": "40b0d96e",
   "metadata": {},
   "source": [
    "### Testing Precision - Recall Curve"
   ]
  },
  {
   "cell_type": "code",
   "execution_count": 572,
   "id": "d8cde672",
   "metadata": {
    "scrolled": true
   },
   "outputs": [
    {
     "data": {
      "text/plain": [
       "<sklearn.metrics._plot.precision_recall_curve.PrecisionRecallDisplay at 0x22536dbdc40>"
      ]
     },
     "execution_count": 572,
     "metadata": {},
     "output_type": "execute_result"
    },
    {
     "data": {
      "image/png": "[encoded data removed]",
      "text/plain": [
       "<Figure size 432x288 with 1 Axes>"
      ]
     },
     "metadata": {
      "needs_background": "light"
     },
     "output_type": "display_data"
    }
   ],
   "source": [
    "plot_precision_recall_curve(dummy_clf, X_test, y_test)"
   ]
  },
  {
   "cell_type": "markdown",
   "id": "2926beff",
   "metadata": {},
   "source": [
    "# 5.7.2 Logistic Regression<a id='5.7.2_Logistic_Regression'></a>\n",
    "[Table of Contents](#5.1_Contents)\n",
    "\n",
    "This model is the most interpretable of all of the advanced models and it performs decently well, catching 64% of defaulted loans on the test set. The overall accuracy and f1 score are also significantly better than the dummy classifier."
   ]
  },
  {
   "cell_type": "code",
   "execution_count": 573,
   "id": "3c256630",
   "metadata": {},
   "outputs": [],
   "source": [
    "clf_y_pred = clf.predict(X_test)"
   ]
  },
  {
   "cell_type": "markdown",
   "id": "362d1ecb",
   "metadata": {},
   "source": [
    "### Testing Classification Report"
   ]
  },
  {
   "cell_type": "code",
   "execution_count": 574,
   "id": "836c615a",
   "metadata": {
    "scrolled": false
   },
   "outputs": [
    {
     "name": "stdout",
     "output_type": "stream",
     "text": [
      "              precision    recall  f1-score   support\n",
      "\n",
      "           0       0.34      0.64      0.44     85512\n",
      "           1       0.88      0.68      0.77    332449\n",
      "\n",
      "    accuracy                           0.67    417961\n",
      "   macro avg       0.61      0.66      0.60    417961\n",
      "weighted avg       0.77      0.67      0.70    417961\n",
      "\n"
     ]
    }
   ],
   "source": [
    "print(classification_report(y_test, clf_y_pred))"
   ]
  },
  {
   "cell_type": "markdown",
   "id": "d8e8d71d",
   "metadata": {},
   "source": [
    "### Testing Confusion Matrix"
   ]
  },
  {
   "cell_type": "code",
   "execution_count": 575,
   "id": "45243813",
   "metadata": {
    "scrolled": false
   },
   "outputs": [
    {
     "name": "stdout",
     "output_type": "stream",
     "text": [
      "Normalized confusion matrix\n"
     ]
    },
    {
     "data": {
      "image/png": "[encoded data removed]",
      "text/plain": [
       "<Figure size 720x360 with 2 Axes>"
      ]
     },
     "metadata": {
      "needs_background": "light"
     },
     "output_type": "display_data"
    }
   ],
   "source": [
    "plot_confusion_matrix(y_test, clf_y_pred, 'Logistic Regression', normalize = True)"
   ]
  },
  {
   "cell_type": "markdown",
   "id": "41c16898",
   "metadata": {},
   "source": [
    "### Testing ROC curve"
   ]
  },
  {
   "cell_type": "code",
   "execution_count": 576,
   "id": "9251639e",
   "metadata": {
    "scrolled": true
   },
   "outputs": [
    {
     "data": {
      "text/plain": [
       "<sklearn.metrics._plot.roc_curve.RocCurveDisplay at 0x224b7f55dc0>"
      ]
     },
     "execution_count": 576,
     "metadata": {},
     "output_type": "execute_result"
    },
    {
     "data": {
      "image/png": "[encoded data removed]",
      "text/plain": [
       "<Figure size 432x288 with 1 Axes>"
      ]
     },
     "metadata": {
      "needs_background": "light"
     },
     "output_type": "display_data"
    }
   ],
   "source": [
    "plot_roc_curve(clf, X_test, y_test)"
   ]
  },
  {
   "cell_type": "markdown",
   "id": "e956390d",
   "metadata": {},
   "source": [
    "### Testing Precision - Recall Curve"
   ]
  },
  {
   "cell_type": "code",
   "execution_count": 577,
   "id": "c0d28c85",
   "metadata": {
    "scrolled": true
   },
   "outputs": [
    {
     "data": {
      "text/plain": [
       "<sklearn.metrics._plot.precision_recall_curve.PrecisionRecallDisplay at 0x22535902e80>"
      ]
     },
     "execution_count": 577,
     "metadata": {},
     "output_type": "execute_result"
    },
    {
     "data": {
      "image/png": "[encoded data removed]",
      "text/plain": [
       "<Figure size 432x288 with 1 Axes>"
      ]
     },
     "metadata": {
      "needs_background": "light"
     },
     "output_type": "display_data"
    }
   ],
   "source": [
    "plot_precision_recall_curve(clf, X_test, y_test)"
   ]
  },
  {
   "cell_type": "markdown",
   "id": "a71479c4",
   "metadata": {},
   "source": [
    "# 5.7.3 Gini Decision Tree<a id='5.7.3_Gini_Decision_Tree'></a>\n",
    "[Table of Contents](#5.1_Contents)\n",
    "\n",
    "This model ranks above the dummy classifier and below the logistic regression. At a depth of 10 levels, it is interpretable but more complex than the logistic regression. It identifed 55% of defaulted loans, but also performs well with the non-defaulted class - a trade off."
   ]
  },
  {
   "cell_type": "code",
   "execution_count": 578,
   "id": "bd8e76ac",
   "metadata": {},
   "outputs": [],
   "source": [
    "gini_y_pred = gini_tree.predict(X_test)"
   ]
  },
  {
   "cell_type": "markdown",
   "id": "8bfdbc42",
   "metadata": {},
   "source": [
    "### Testing Classification Report"
   ]
  },
  {
   "cell_type": "code",
   "execution_count": 579,
   "id": "713e9aa6",
   "metadata": {
    "scrolled": false
   },
   "outputs": [
    {
     "name": "stdout",
     "output_type": "stream",
     "text": [
      "              precision    recall  f1-score   support\n",
      "\n",
      "           0       0.35      0.55      0.43     85512\n",
      "           1       0.86      0.73      0.79    332449\n",
      "\n",
      "    accuracy                           0.70    417961\n",
      "   macro avg       0.61      0.64      0.61    417961\n",
      "weighted avg       0.76      0.70      0.72    417961\n",
      "\n"
     ]
    }
   ],
   "source": [
    "print(classification_report(y_test, gini_y_pred))"
   ]
  },
  {
   "cell_type": "markdown",
   "id": "8a1d1fd3",
   "metadata": {},
   "source": [
    "### Testing Confusion Matrix"
   ]
  },
  {
   "cell_type": "code",
   "execution_count": 580,
   "id": "874f99e6",
   "metadata": {
    "scrolled": true
   },
   "outputs": [
    {
     "name": "stdout",
     "output_type": "stream",
     "text": [
      "Normalized confusion matrix\n"
     ]
    },
    {
     "data": {
      "image/png": "[encoded data removed]",
      "text/plain": [
       "<Figure size 720x360 with 2 Axes>"
      ]
     },
     "metadata": {
      "needs_background": "light"
     },
     "output_type": "display_data"
    }
   ],
   "source": [
    "plot_confusion_matrix(y_test, gini_y_pred, 'Gini Decision Tree', normalize = True)"
   ]
  },
  {
   "cell_type": "markdown",
   "id": "678cfc8f",
   "metadata": {},
   "source": [
    "### Testing ROC curve"
   ]
  },
  {
   "cell_type": "code",
   "execution_count": 581,
   "id": "6201988d",
   "metadata": {
    "scrolled": true
   },
   "outputs": [
    {
     "data": {
      "text/plain": [
       "<sklearn.metrics._plot.roc_curve.RocCurveDisplay at 0x22536b6dc40>"
      ]
     },
     "execution_count": 581,
     "metadata": {},
     "output_type": "execute_result"
    },
    {
     "data": {
      "image/png": "[encoded data removed]",
      "text/plain": [
       "<Figure size 432x288 with 1 Axes>"
      ]
     },
     "metadata": {
      "needs_background": "light"
     },
     "output_type": "display_data"
    }
   ],
   "source": [
    "plot_roc_curve(gini_tree, X_test, y_test)"
   ]
  },
  {
   "cell_type": "markdown",
   "id": "7c9f651b",
   "metadata": {},
   "source": [
    "### Testing Precision - Recall Curve"
   ]
  },
  {
   "cell_type": "code",
   "execution_count": 582,
   "id": "da231950",
   "metadata": {
    "scrolled": false
   },
   "outputs": [
    {
     "data": {
      "text/plain": [
       "<sklearn.metrics._plot.precision_recall_curve.PrecisionRecallDisplay at 0x22535797430>"
      ]
     },
     "execution_count": 582,
     "metadata": {},
     "output_type": "execute_result"
    },
    {
     "data": {
      "image/png": "[encoded data removed]",
      "text/plain": [
       "<Figure size 432x288 with 1 Axes>"
      ]
     },
     "metadata": {
      "needs_background": "light"
     },
     "output_type": "display_data"
    }
   ],
   "source": [
    "plot_precision_recall_curve(gini_tree, X_test, y_test)"
   ]
  },
  {
   "cell_type": "markdown",
   "id": "00b560e6",
   "metadata": {},
   "source": [
    "# 5.7.4 Entropy Decision Tree<a id='5.7.4_Entropy_Decision_Tree'></a>\n",
    "[Table of Contents](#5.1_Contents)\n",
    "\n",
    "This decision tree was better than the Gini tree, but still more complicated than the logistic regression since this model also has 10 levels. However, it produces the highest recall score, identifying 71% of defaulted loans."
   ]
  },
  {
   "cell_type": "code",
   "execution_count": 583,
   "id": "7b06797b",
   "metadata": {},
   "outputs": [],
   "source": [
    "entropy_y_pred = entropy_tree.predict(X_test)"
   ]
  },
  {
   "cell_type": "markdown",
   "id": "a33fe94e",
   "metadata": {},
   "source": [
    "### Testing Classification Report"
   ]
  },
  {
   "cell_type": "code",
   "execution_count": 584,
   "id": "9e697aee",
   "metadata": {
    "scrolled": true
   },
   "outputs": [
    {
     "name": "stdout",
     "output_type": "stream",
     "text": [
      "              precision    recall  f1-score   support\n",
      "\n",
      "           0       0.32      0.71      0.44     85512\n",
      "           1       0.89      0.60      0.72    332449\n",
      "\n",
      "    accuracy                           0.63    417961\n",
      "   macro avg       0.60      0.66      0.58    417961\n",
      "weighted avg       0.77      0.63      0.66    417961\n",
      "\n"
     ]
    }
   ],
   "source": [
    "print(classification_report(y_test, entropy_y_pred))"
   ]
  },
  {
   "cell_type": "markdown",
   "id": "2672280d",
   "metadata": {},
   "source": [
    "### Testing Confusion Matrix"
   ]
  },
  {
   "cell_type": "code",
   "execution_count": 585,
   "id": "fe86aa6f",
   "metadata": {
    "scrolled": true
   },
   "outputs": [
    {
     "name": "stdout",
     "output_type": "stream",
     "text": [
      "Normalized confusion matrix\n"
     ]
    },
    {
     "data": {
      "image/png": "[encoded data removed]",
      "text/plain": [
       "<Figure size 720x360 with 2 Axes>"
      ]
     },
     "metadata": {
      "needs_background": "light"
     },
     "output_type": "display_data"
    }
   ],
   "source": [
    "plot_confusion_matrix(y_test, entropy_y_pred, 'Entropy Decision Tree', normalize = True)"
   ]
  },
  {
   "cell_type": "markdown",
   "id": "935ac2e3",
   "metadata": {},
   "source": [
    "### Testing ROC curve"
   ]
  },
  {
   "cell_type": "code",
   "execution_count": 586,
   "id": "55b81be2",
   "metadata": {
    "scrolled": false
   },
   "outputs": [
    {
     "data": {
      "text/plain": [
       "<sklearn.metrics._plot.roc_curve.RocCurveDisplay at 0x2251142a5e0>"
      ]
     },
     "execution_count": 586,
     "metadata": {},
     "output_type": "execute_result"
    },
    {
     "data": {
      "image/png": "[encoded data removed]",
      "text/plain": [
       "<Figure size 432x288 with 1 Axes>"
      ]
     },
     "metadata": {
      "needs_background": "light"
     },
     "output_type": "display_data"
    }
   ],
   "source": [
    "plot_roc_curve(entropy_tree, X_test, y_test)"
   ]
  },
  {
   "cell_type": "markdown",
   "id": "90d1e632",
   "metadata": {},
   "source": [
    "### Testing Precision - Recall Curve"
   ]
  },
  {
   "cell_type": "code",
   "execution_count": 587,
   "id": "38e3f8dd",
   "metadata": {
    "scrolled": false
   },
   "outputs": [
    {
     "data": {
      "text/plain": [
       "<sklearn.metrics._plot.precision_recall_curve.PrecisionRecallDisplay at 0x2251142a490>"
      ]
     },
     "execution_count": 587,
     "metadata": {},
     "output_type": "execute_result"
    },
    {
     "data": {
      "image/png": "[encoded data removed]",
      "text/plain": [
       "<Figure size 432x288 with 1 Axes>"
      ]
     },
     "metadata": {
      "needs_background": "light"
     },
     "output_type": "display_data"
    }
   ],
   "source": [
    "plot_precision_recall_curve(entropy_tree, X_test, y_test)"
   ]
  },
  {
   "cell_type": "markdown",
   "id": "274500b4",
   "metadata": {},
   "source": [
    "# 5.7.5 Gradient Boosting Classifier<a id='5.7.5_Gradient_Boosting_Classifier'></a>\n",
    "[Table of Contents](#5.1_Contents)\n",
    "\n",
    "This model had the greatest overall accuracy, but the lowest recall score among the advanced models, identifying 50% of defaulted loans."
   ]
  },
  {
   "cell_type": "code",
   "execution_count": 588,
   "id": "d62af1ed",
   "metadata": {},
   "outputs": [],
   "source": [
    "gb_y_pred = gb.predict(X_test)"
   ]
  },
  {
   "cell_type": "markdown",
   "id": "764224af",
   "metadata": {},
   "source": [
    "### Testing Classification Report"
   ]
  },
  {
   "cell_type": "code",
   "execution_count": 589,
   "id": "1061a2c4",
   "metadata": {
    "scrolled": false
   },
   "outputs": [
    {
     "name": "stdout",
     "output_type": "stream",
     "text": [
      "              precision    recall  f1-score   support\n",
      "\n",
      "           0       0.37      0.50      0.43     85512\n",
      "           1       0.86      0.79      0.82    332449\n",
      "\n",
      "    accuracy                           0.73    417961\n",
      "   macro avg       0.62      0.64      0.62    417961\n",
      "weighted avg       0.76      0.73      0.74    417961\n",
      "\n"
     ]
    }
   ],
   "source": [
    "print(classification_report(y_test, gb_y_pred))"
   ]
  },
  {
   "cell_type": "markdown",
   "id": "6261f051",
   "metadata": {},
   "source": [
    "### Testing Confusion Matrix"
   ]
  },
  {
   "cell_type": "code",
   "execution_count": 590,
   "id": "24d3e232",
   "metadata": {
    "scrolled": false
   },
   "outputs": [
    {
     "name": "stdout",
     "output_type": "stream",
     "text": [
      "Normalized confusion matrix\n"
     ]
    },
    {
     "data": {
      "image/png": "[encoded data removed]",
      "text/plain": [
       "<Figure size 720x360 with 2 Axes>"
      ]
     },
     "metadata": {
      "needs_background": "light"
     },
     "output_type": "display_data"
    }
   ],
   "source": [
    "plot_confusion_matrix(y_test, gb_y_pred, 'Gradient Boost Classifier', normalize = True)"
   ]
  },
  {
   "cell_type": "markdown",
   "id": "a99d2d81",
   "metadata": {},
   "source": [
    "### Testing ROC curve"
   ]
  },
  {
   "cell_type": "code",
   "execution_count": 591,
   "id": "50f9dc4f",
   "metadata": {
    "scrolled": false
   },
   "outputs": [
    {
     "data": {
      "text/plain": [
       "<sklearn.metrics._plot.roc_curve.RocCurveDisplay at 0x22536bc54c0>"
      ]
     },
     "execution_count": 591,
     "metadata": {},
     "output_type": "execute_result"
    },
    {
     "data": {
      "image/png": "[encoded data removed]",
      "text/plain": [
       "<Figure size 432x288 with 1 Axes>"
      ]
     },
     "metadata": {
      "needs_background": "light"
     },
     "output_type": "display_data"
    }
   ],
   "source": [
    "plot_roc_curve(gb, X_test, y_test)"
   ]
  },
  {
   "cell_type": "markdown",
   "id": "a9fe32f4",
   "metadata": {},
   "source": [
    "### Testing Precision - Recall Curve"
   ]
  },
  {
   "cell_type": "code",
   "execution_count": 592,
   "id": "2b8190df",
   "metadata": {
    "scrolled": true
   },
   "outputs": [
    {
     "data": {
      "text/plain": [
       "<sklearn.metrics._plot.precision_recall_curve.PrecisionRecallDisplay at 0x22512375550>"
      ]
     },
     "execution_count": 592,
     "metadata": {},
     "output_type": "execute_result"
    },
    {
     "data": {
      "image/png": "[encoded data removed]",
      "text/plain": [
       "<Figure size 432x288 with 1 Axes>"
      ]
     },
     "metadata": {
      "needs_background": "light"
     },
     "output_type": "display_data"
    }
   ],
   "source": [
    "plot_precision_recall_curve(gb, X_test, y_test)"
   ]
  },
  {
   "cell_type": "markdown",
   "id": "25e3b219",
   "metadata": {},
   "source": [
    "# 5.8 Model Selection<a id='5.8_Model_Selection'></a>\n",
    "[Table of Contents](#5.1_Contents)\n",
    "\n",
    "With this application, there are two primary considerations with selecting a model:\n",
    "\n",
    "1) The model must be interpretable for compliance with regulation and audits.\n",
    "2) The model should identify as many applicants that are likely to default as possible (recall score).\n",
    "\n",
    "With these two considerations in mind, I believe that the logistic regression model is the best choice. It can be explained mathematically and the top-contributing features are easily explained. It also strikes a good balance between the recall score of the defaulted class (64% of defaulted loans identified) and the precision score of the non-defaulted class (88% of predicted non-default loans were truly non-default). Among all the advanced classifiers, the ROC and precision-recall curves showed similar performance. The logistic regression model was optimized with Randomized Search cross validation and uses no penalty, a class weight ratio of 2.03:1 (default:non-default), and an inverse regularization stength of 3.5.\n",
    "\n",
    "Naturally, there is room for improvement in the performance of the logistic regression. However, there is a limit to the predictive power of the selected features - more powerful features would need to be obtained from hard credit checks of applicants. The top positive features contributing to the logistic regression (in order) are:\n",
    "\n",
    "1. Home ownership\n",
    "2. Loan Purpose\n",
    "3. Employment Length\n",
    "4. Installment Payments\n",
    "5. Total Credit Limit\n",
    "6. Annual Income\n",
    "7. FICO score\n",
    "\n",
    "Loan amount, interest rate, and months since last credit pull had a negative contribution towards the prediction."
   ]
  },
  {
   "cell_type": "code",
   "execution_count": 593,
   "id": "ff0fa24b",
   "metadata": {
    "scrolled": false
   },
   "outputs": [
    {
     "data": {
      "image/png": "[encoded data removed]",
      "text/plain": [
       "<Figure size 1080x864 with 1 Axes>"
      ]
     },
     "metadata": {
      "needs_background": "light"
     },
     "output_type": "display_data"
    }
   ],
   "source": [
    "ax = sns.catplot(x=\"coef\", y=\"features\", data=logreg_features, palette = 'mako_r', kind = 'bar', aspect = 3)\n",
    "ax.fig.set_figheight(12)"
   ]
  },
  {
   "cell_type": "markdown",
   "id": "17f4bced",
   "metadata": {},
   "source": [
    "# 5.9 Data Quantity Assessment<a id='5.9_Data_Quantity_Assessment'></a>\n",
    "[Table of Contents](#5.1_Contents)\n",
    "\n",
    "The plot below does seem to suggest that increasing the quantity of the training set would only marginally improve the training recall scores. It might be more efficient to allocate resources towards feature engineering instead."
   ]
  },
  {
   "cell_type": "code",
   "execution_count": 594,
   "id": "14ab9e5a",
   "metadata": {},
   "outputs": [],
   "source": [
    "fractions = [.05, .1, .25, .5, .6, .7, .8, .9, .95, .97, 1.0]\n",
    "train_size, train_scores, test_scores = learning_curve(clf, X_train, y_train, train_sizes=fractions, scoring = 'recall',\n",
    "                                                      random_state = 42)\n",
    "train_scores_mean = np.mean(train_scores, axis=1)\n",
    "train_scores_std = np.std(train_scores, axis=1)\n",
    "test_scores_mean = np.mean(test_scores, axis=1)\n",
    "test_scores_std = np.std(test_scores, axis=1)"
   ]
  },
  {
   "cell_type": "code",
   "execution_count": 595,
   "id": "b684c3c0",
   "metadata": {
    "scrolled": true
   },
   "outputs": [
    {
     "data": {
      "image/png": "[encoded data removed]",
      "text/plain": [
       "<Figure size 1080x360 with 1 Axes>"
      ]
     },
     "metadata": {
      "needs_background": "light"
     },
     "output_type": "display_data"
    }
   ],
   "source": [
    "plt.subplots(figsize=(15, 5))\n",
    "plt.errorbar(train_size, test_scores_mean, yerr=test_scores_std)\n",
    "plt.xlabel('Training set size')\n",
    "plt.ylabel('CV scores')\n",
    "plt.xlim(200000, 350000)\n",
    "plt.title('Cross-validation score as training set size increases');"
   ]
  },
  {
   "cell_type": "markdown",
   "id": "2c703841",
   "metadata": {},
   "source": [
    "# 5.10 Export<a id='5.10_Export'></a>\n",
    "[Table of Contents](#5.1_Contents)"
   ]
  },
  {
   "cell_type": "code",
   "execution_count": 596,
   "id": "98a5bc87",
   "metadata": {},
   "outputs": [],
   "source": [
    "best_model = clf\n",
    "best_model.version = '1.0'\n",
    "best_model.pandas_version = pd.__version__\n",
    "best_model.numpy_version = np.__version__\n",
    "best_model.sklearn_version = sklearn_version\n",
    "best_model.X_columns = [col for col in X_train.columns]\n",
    "best_model.build_datetime = datetime.datetime.now()"
   ]
  },
  {
   "cell_type": "code",
   "execution_count": 597,
   "id": "72e46a4a",
   "metadata": {},
   "outputs": [],
   "source": [
    "# save the model\n",
    "\n",
    "# modelpath = \n",
    "# save_file(best_model, 'loan_default_logreg_model.pkl', modelpath)"
   ]
  }
 ],
 "metadata": {
  "kernelspec": {
   "display_name": "Python 3",
   "language": "python",
   "name": "python3"
  },
  "language_info": {
   "codemirror_mode": {
    "name": "ipython",
    "version": 3
   },
   "file_extension": ".py",
   "mimetype": "text/x-python",
   "name": "python",
   "nbconvert_exporter": "python",
   "pygments_lexer": "ipython3",
   "version": "3.8.8"
  }
 },
 "nbformat": 4,
 "nbformat_minor": 5
}
