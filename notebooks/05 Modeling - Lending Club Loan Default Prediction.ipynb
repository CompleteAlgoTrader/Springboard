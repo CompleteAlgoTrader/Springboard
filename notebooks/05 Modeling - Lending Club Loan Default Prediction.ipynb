{
 "cells": [
  {
   "cell_type": "markdown",
   "id": "939be2c4",
   "metadata": {},
   "source": [
    "# 5 Modeling<a id='5_Modeling'></a>\n",
    "Justin Jimenez 1/20/2022\n",
    "\n",
    "The objective of this notebook was to develop various models and evaluate the best model for the application.\n",
    "\n",
    "# 5.1 Contents<a id='5.1_Contents'></a>\n",
    "* [5 Modeling](#5_Modeling)\n",
    "  * [5.1 Contents](#5.1_Contents)\n",
    "  * [5.2 Importing](#5.2_Importing)\n",
    "  * [5.3 Dummy Classifier](#5.3_Dummy_Classifier)\n",
    "  * [5.4 Logistic Regression](#5.4_Logistic_Regression)\n",
    "  * [5.5 Decision Tree](#5.5_Decision_Tree)\n",
    "      * [5.5.1 Gini Tree](#5.5.1_Gini_Tree)\n",
    "      * [5.5.2 Entropy Tree](#5.5.2_Entropy_Tree)\n",
    "  * [5.6 Gradient Boost](#5.6_Gradient_Boost)\n",
    "  * [5.7 Model Comparison](#5.7_Model_Comparison)\n",
    "      * [5.7.1 Dummy Classifier](#5.7.1_Dummy_Classifier)\n",
    "      * [5.7.2 Logistic Regression](#5.7.2_Logistic_Regression)\n",
    "      * [5.7.3 Gini Decision_Tree](#5.7.3_Gini_Decision_Tree)\n",
    "      * [5.7.4 Entropy_Decision_Tree](#5.7.4_Entropy_Decision_Tree)\n",
    "      * [5.7.5 Gradient Boosting Classifier](#5.7.5_Gradient_Boosting_Classifier)\n",
    "  * [5.8 Model Selection](#5.8_Model_Selection)\n",
    "  * [5.9 Data Quantity Assessment](#5.9_Data_Quantity_Assessment)\n",
    "  * [5.10 Retrain and Visualize](#5.10_Retrain)\n",
    "  * [5.11 Export](#5.11_Export)\n",
    "  \n",
    "      \n",
    "# 5.2 Importing<a id='5.2_Importing'></a>"
   ]
  },
  {
   "cell_type": "code",
   "execution_count": 4,
   "id": "206bdfdd",
   "metadata": {},
   "outputs": [],
   "source": [
    "import pandas as pd\n",
    "import numpy as np\n",
    "import bamboolib\n",
    "import seaborn as sns\n",
    "import matplotlib.pyplot as plt\n",
    "from sklearn.linear_model import LogisticRegression\n",
    "from sklearn.metrics import classification_report, confusion_matrix, plot_roc_curve, plot_precision_recall_curve\n",
    "from sklearn.model_selection import RandomizedSearchCV, learning_curve\n",
    "from scipy.stats import uniform\n",
    "from sklearn.dummy import DummyClassifier\n",
    "from sklearn.ensemble import GradientBoostingClassifier\n",
    "import sklearn.tree\n",
    "import graphviz\n",
    "from sklearn import __version__ as sklearn_version\n",
    "import datetime\n",
    "# from library.sb_utils import save_file"
   ]
  },
  {
   "cell_type": "code",
   "execution_count": 5,
   "id": "5db21d37",
   "metadata": {},
   "outputs": [],
   "source": [
    "X_final = pd.read_csv(r'C:\\Users\\jjsun\\OneDrive\\Desktop\\pythonprojects\\LendingClub-Loan_Default-Prediction\\data\\processed\\X_final.csv')"
   ]
  },
  {
   "cell_type": "code",
   "execution_count": 6,
   "id": "073833db",
   "metadata": {},
   "outputs": [],
   "source": [
    "X_train = pd.read_csv(r'C:\\Users\\jjsun\\OneDrive\\Desktop\\pythonprojects\\LendingClub-Loan_Default-Prediction\\data\\processed\\X_train.csv')"
   ]
  },
  {
   "cell_type": "code",
   "execution_count": 7,
   "id": "14071414",
   "metadata": {},
   "outputs": [],
   "source": [
    "X_test = pd.read_csv(r'C:\\Users\\jjsun\\OneDrive\\Desktop\\pythonprojects\\LendingClub-Loan_Default-Prediction\\data\\processed\\X_test.csv')"
   ]
  },
  {
   "cell_type": "code",
   "execution_count": 8,
   "id": "bc718555",
   "metadata": {},
   "outputs": [],
   "source": [
    "y_final = pd.read_csv(r'C:\\Users\\jjsun\\OneDrive\\Desktop\\pythonprojects\\LendingClub-Loan_Default-Prediction\\data\\processed\\y_final.csv')"
   ]
  },
  {
   "cell_type": "code",
   "execution_count": 9,
   "id": "57a72643",
   "metadata": {},
   "outputs": [],
   "source": [
    "y_train = pd.read_csv(r'C:\\Users\\jjsun\\OneDrive\\Desktop\\pythonprojects\\LendingClub-Loan_Default-Prediction\\data\\processed\\y_train.csv')"
   ]
  },
  {
   "cell_type": "code",
   "execution_count": 10,
   "id": "bb335b4f",
   "metadata": {},
   "outputs": [],
   "source": [
    "y_test = pd.read_csv(r'C:\\Users\\jjsun\\OneDrive\\Desktop\\pythonprojects\\LendingClub-Loan_Default-Prediction\\data\\processed\\y_test.csv')"
   ]
  },
  {
   "cell_type": "markdown",
   "id": "5f477e46",
   "metadata": {},
   "source": [
    "# 5.3 Dummy Classifier<a id='5.3_Dummy_Classifier'></a>\n",
    "[Table of Contents](#5.1_Contents)\n",
    "\n",
    "First I created a dummy classifier to use as a baseline comparison for the advanced models. On an imbalanced dataset, using a dummy classifier with the 'most frequent' strategy would provide misleading accuracy and poor recall scores. The training set was balanced with SMOTEENN, so the results would not be as poor as that. Nonetheless I opted to use the 'stratified' strategy.\n",
    "\n",
    "From the sklearn documentation:\n",
    "\n",
    "“stratified”: the predict_proba method randomly samples one-hot vectors from a multinomial distribution parametrized by the empirical class prior probabilities. The predict method returns the class label which got probability one in the one-hot vector of predict_proba. Each sampled row of both methods is therefore independent and identically distributed."
   ]
  },
  {
   "cell_type": "code",
   "execution_count": 11,
   "id": "51e4bc56",
   "metadata": {},
   "outputs": [
    {
     "data": {
      "text/plain": [
       "DummyClassifier(random_state=42, strategy='stratified')"
      ]
     },
     "execution_count": 11,
     "metadata": {},
     "output_type": "execute_result"
    }
   ],
   "source": [
    "dummy_clf = DummyClassifier(strategy=\"stratified\", random_state=42)\n",
    "dummy_clf.fit(X_train, y_train)"
   ]
  },
  {
   "cell_type": "code",
   "execution_count": 12,
   "id": "94efcfbc",
   "metadata": {},
   "outputs": [],
   "source": [
    "y_pred = dummy_clf.predict(X_train)"
   ]
  },
  {
   "cell_type": "code",
   "execution_count": 13,
   "id": "498d6d31",
   "metadata": {
    "scrolled": true
   },
   "outputs": [
    {
     "name": "stdout",
     "output_type": "stream",
     "text": [
      "              precision    recall  f1-score   support\n",
      "\n",
      "           0       0.39      0.39      0.39    238799\n",
      "           1       0.61      0.61      0.61    376815\n",
      "\n",
      "    accuracy                           0.53    615614\n",
      "   macro avg       0.50      0.50      0.50    615614\n",
      "weighted avg       0.53      0.53      0.53    615614\n",
      "\n"
     ]
    }
   ],
   "source": [
    "print(classification_report(y_train, y_pred))"
   ]
  },
  {
   "cell_type": "code",
   "execution_count": 14,
   "id": "330e4cd5",
   "metadata": {},
   "outputs": [],
   "source": [
    "y_pred = dummy_clf.predict(X_test)"
   ]
  },
  {
   "cell_type": "code",
   "execution_count": 15,
   "id": "5640258e",
   "metadata": {
    "scrolled": true
   },
   "outputs": [
    {
     "name": "stdout",
     "output_type": "stream",
     "text": [
      "              precision    recall  f1-score   support\n",
      "\n",
      "           0       0.80      0.39      0.52    133050\n",
      "           1       0.20      0.61      0.31     34135\n",
      "\n",
      "    accuracy                           0.43    167185\n",
      "   macro avg       0.50      0.50      0.41    167185\n",
      "weighted avg       0.67      0.43      0.48    167185\n",
      "\n"
     ]
    }
   ],
   "source": [
    "print(classification_report(y_test, y_pred))"
   ]
  },
  {
   "cell_type": "markdown",
   "id": "2b883fac",
   "metadata": {},
   "source": [
    "# 5.4 Logistic Regression<a id='5.4_Logistic_Regression'></a>\n",
    "[Table of Contents](#5.1_Contents)"
   ]
  },
  {
   "cell_type": "code",
   "execution_count": 16,
   "id": "090823ce",
   "metadata": {},
   "outputs": [],
   "source": [
    "class_weight = []\n",
    "for i in np.linspace(0.5,5,1000):\n",
    "    class_weight.append({0: i, 1: 1}) "
   ]
  },
  {
   "cell_type": "code",
   "execution_count": 17,
   "id": "161e280a",
   "metadata": {
    "scrolled": true
   },
   "outputs": [
    {
     "data": {
      "text/plain": [
       "RandomizedSearchCV(cv=5, estimator=LogisticRegression(random_state=42),\n",
       "                   param_distributions={'C': array([1.00000000e-10, 1.00100101e-02, 2.00200201e-02, 3.00300301e-02,\n",
       "       4.00400401e-02, 5.00500501e-02, 6.00600602e-02, 7.00700702e-02,\n",
       "       8.00800802e-02, 9.00900902e-02, 1.00100100e-01, 1.10110110e-01,\n",
       "       1.20120120e-01, 1.30130130e-01, 1.40140140e-01, 1.50150150e-01,\n",
       "       1.601601...\n",
       "                                                         {0: 0.5855855855855856,\n",
       "                                                          1: 1},\n",
       "                                                         {0: 0.5900900900900901,\n",
       "                                                          1: 1},\n",
       "                                                         {0: 0.5945945945945946,\n",
       "                                                          1: 1},\n",
       "                                                         {0: 0.5990990990990991,\n",
       "                                                          1: 1},\n",
       "                                                         {0: 0.6036036036036037,\n",
       "                                                          1: 1},\n",
       "                                                         {0: 0.6081081081081081,\n",
       "                                                          1: 1},\n",
       "                                                         {0: 0.6126126126126126,\n",
       "                                                          1: 1},\n",
       "                                                         {0: 0.6171171171171171,\n",
       "                                                          1: 1},\n",
       "                                                         {0: 0.6216216216216216,\n",
       "                                                          1: 1},\n",
       "                                                         {0: 0.6261261261261262,\n",
       "                                                          1: 1},\n",
       "                                                         {0: 0.6306306306306306,\n",
       "                                                          1: 1}, ...],\n",
       "                                        'penalty': ['l2', 'l1', 'none',\n",
       "                                                    'elasticnet']},\n",
       "                   scoring='recall')"
      ]
     },
     "execution_count": 17,
     "metadata": {},
     "output_type": "execute_result"
    }
   ],
   "source": [
    "param_grid=dict(C = np.linspace(0.0000000001,10,1000), penalty = ['l2', 'l1', 'none', 'elasticnet'], \n",
    "                class_weight = class_weight)\n",
    "clf = LogisticRegression(random_state = 42)\n",
    "clf_cv = RandomizedSearchCV(clf, param_grid, scoring='recall', cv=5)\n",
    "clf_cv.fit(X_train, y_train)"
   ]
  },
  {
   "cell_type": "code",
   "execution_count": 18,
   "id": "2ee80350",
   "metadata": {},
   "outputs": [
    {
     "data": {
      "text/plain": [
       "{'penalty': 'none', 'class_weight': {0: 1.5, 1: 1}, 'C': 3.053053053122522}"
      ]
     },
     "execution_count": 18,
     "metadata": {},
     "output_type": "execute_result"
    }
   ],
   "source": [
    "clf_cv.best_params_"
   ]
  },
  {
   "cell_type": "code",
   "execution_count": 19,
   "id": "2c603be6",
   "metadata": {},
   "outputs": [],
   "source": [
    "y_pred = clf_cv.predict(X_train)"
   ]
  },
  {
   "cell_type": "code",
   "execution_count": 20,
   "id": "16d22255",
   "metadata": {
    "scrolled": false
   },
   "outputs": [
    {
     "name": "stdout",
     "output_type": "stream",
     "text": [
      "              precision    recall  f1-score   support\n",
      "\n",
      "           0       0.77      0.91      0.83    238799\n",
      "           1       0.93      0.82      0.88    376815\n",
      "\n",
      "    accuracy                           0.86    615614\n",
      "   macro avg       0.85      0.87      0.85    615614\n",
      "weighted avg       0.87      0.86      0.86    615614\n",
      "\n"
     ]
    }
   ],
   "source": [
    "print(classification_report(y_train, y_pred))"
   ]
  },
  {
   "cell_type": "code",
   "execution_count": 21,
   "id": "62435716",
   "metadata": {},
   "outputs": [],
   "source": [
    "y_pred = clf_cv.predict(X_test)"
   ]
  },
  {
   "cell_type": "code",
   "execution_count": 22,
   "id": "004b808c",
   "metadata": {
    "scrolled": true
   },
   "outputs": [
    {
     "name": "stdout",
     "output_type": "stream",
     "text": [
      "              precision    recall  f1-score   support\n",
      "\n",
      "           0       0.83      0.88      0.86    133050\n",
      "           1       0.40      0.31      0.35     34135\n",
      "\n",
      "    accuracy                           0.76    167185\n",
      "   macro avg       0.62      0.60      0.60    167185\n",
      "weighted avg       0.74      0.76      0.75    167185\n",
      "\n"
     ]
    }
   ],
   "source": [
    "print(classification_report(y_test, y_pred))"
   ]
  },
  {
   "cell_type": "markdown",
   "id": "84e4ea4e",
   "metadata": {},
   "source": [
    "### Finalized Logistic Regression Model"
   ]
  },
  {
   "cell_type": "code",
   "execution_count": 23,
   "id": "3ba950a8",
   "metadata": {},
   "outputs": [],
   "source": [
    "clf = LogisticRegression(random_state = 42, penalty = 'none', \n",
    "                         class_weight = {0: 0.9324324324324325, 1: 1}, C = 4.2842842843414415).fit(X_train, y_train)"
   ]
  },
  {
   "cell_type": "code",
   "execution_count": 24,
   "id": "6d52a59b",
   "metadata": {},
   "outputs": [],
   "source": [
    "y_pred = clf.predict(X_test)"
   ]
  },
  {
   "cell_type": "code",
   "execution_count": 25,
   "id": "d60112c9",
   "metadata": {
    "scrolled": false
   },
   "outputs": [
    {
     "name": "stdout",
     "output_type": "stream",
     "text": [
      "              precision    recall  f1-score   support\n",
      "\n",
      "           0       0.85      0.81      0.83    133050\n",
      "           1       0.38      0.44      0.41     34135\n",
      "\n",
      "    accuracy                           0.74    167185\n",
      "   macro avg       0.61      0.63      0.62    167185\n",
      "weighted avg       0.75      0.74      0.74    167185\n",
      "\n"
     ]
    }
   ],
   "source": [
    "print(classification_report(y_test, y_pred))"
   ]
  },
  {
   "cell_type": "code",
   "execution_count": 26,
   "id": "69012ce4",
   "metadata": {},
   "outputs": [],
   "source": [
    "logreg_features = pd.DataFrame()\n",
    "logreg_features['features'] = X_train.columns\n",
    "logreg_features['coef'] = clf.coef_[0]\n",
    "logreg_features = logreg_features.sort_values(by=['coef'], ascending=[False])"
   ]
  },
  {
   "cell_type": "markdown",
   "id": "5869696d",
   "metadata": {},
   "source": [
    "# 5.5 Decision Tree<a id='5.5_Decision_Tree'></a>\n",
    "[Table of Contents](#5.1_Contents)\n",
    "\n",
    "## 5.5.1 Gini Tree<a id='5.5.1_Gini_Tree'></a>"
   ]
  },
  {
   "cell_type": "code",
   "execution_count": 27,
   "id": "d0354154",
   "metadata": {},
   "outputs": [],
   "source": [
    "param_grid = dict(\n",
    "    class_weight = class_weight,\n",
    "    max_depth=list(range(2,11)),\n",
    "    min_samples_leaf=list(range(1,21)),\n",
    "    min_samples_split=list(range(5,51)),\n",
    ")\n",
    "gini_tree = sklearn.tree.DecisionTreeClassifier(random_state=42, criterion = 'gini')\n",
    "gini_tree_cv = RandomizedSearchCV(gini_tree, param_grid, scoring='recall', cv=5).fit(X_train, y_train)"
   ]
  },
  {
   "cell_type": "code",
   "execution_count": 28,
   "id": "9f3ae745",
   "metadata": {
    "scrolled": true
   },
   "outputs": [
    {
     "data": {
      "text/plain": [
       "{'min_samples_split': 13,\n",
       " 'min_samples_leaf': 15,\n",
       " 'max_depth': 3,\n",
       " 'class_weight': {0: 1.5855855855855856, 1: 1}}"
      ]
     },
     "execution_count": 28,
     "metadata": {},
     "output_type": "execute_result"
    }
   ],
   "source": [
    "gini_tree_cv.best_params_"
   ]
  },
  {
   "cell_type": "code",
   "execution_count": 29,
   "id": "1ae5d48a",
   "metadata": {},
   "outputs": [],
   "source": [
    "y_pred = gini_tree_cv.predict(X_train)"
   ]
  },
  {
   "cell_type": "code",
   "execution_count": 30,
   "id": "a18858cd",
   "metadata": {
    "scrolled": false
   },
   "outputs": [
    {
     "name": "stdout",
     "output_type": "stream",
     "text": [
      "              precision    recall  f1-score   support\n",
      "\n",
      "           0       0.66      0.64      0.65    238799\n",
      "           1       0.78      0.79      0.78    376815\n",
      "\n",
      "    accuracy                           0.73    615614\n",
      "   macro avg       0.72      0.71      0.72    615614\n",
      "weighted avg       0.73      0.73      0.73    615614\n",
      "\n"
     ]
    }
   ],
   "source": [
    "print(classification_report(y_train, y_pred))"
   ]
  },
  {
   "cell_type": "code",
   "execution_count": 31,
   "id": "fc165594",
   "metadata": {},
   "outputs": [],
   "source": [
    "y_pred = gini_tree_cv.predict(X_test)"
   ]
  },
  {
   "cell_type": "code",
   "execution_count": 32,
   "id": "0c0e6550",
   "metadata": {
    "scrolled": true
   },
   "outputs": [
    {
     "name": "stdout",
     "output_type": "stream",
     "text": [
      "              precision    recall  f1-score   support\n",
      "\n",
      "           0       0.89      0.59      0.71    133050\n",
      "           1       0.31      0.71      0.43     34135\n",
      "\n",
      "    accuracy                           0.62    167185\n",
      "   macro avg       0.60      0.65      0.57    167185\n",
      "weighted avg       0.77      0.62      0.65    167185\n",
      "\n"
     ]
    }
   ],
   "source": [
    "print(classification_report(y_test, y_pred))"
   ]
  },
  {
   "cell_type": "markdown",
   "id": "21ae1455",
   "metadata": {},
   "source": [
    "### Finalized Gini Decision Tree"
   ]
  },
  {
   "cell_type": "code",
   "execution_count": 33,
   "id": "8c778420",
   "metadata": {},
   "outputs": [],
   "source": [
    "gini_tree = sklearn.tree.DecisionTreeClassifier(random_state=42, criterion = 'gini', min_samples_split = 13,\n",
    "                                                  min_samples_leaf = 15, max_depth = 3, class_weight = {0: 1.5855855855855856, 1: 1}\n",
    "                                                  ).fit(X_train, y_train)"
   ]
  },
  {
   "cell_type": "code",
   "execution_count": 34,
   "id": "d1039c67",
   "metadata": {},
   "outputs": [
    {
     "data": {
      "text/plain": [
       "[(0.5028911291038015, 'int_rate'),\n",
       " (0.18180994260613892, 'last_credit_pull_d'),\n",
       " (0.06948252898096625, 'emp_length_10+ years'),\n",
       " (0.04832202462380496, 'loan_amnt'),\n",
       " (0.04188216699732345, 'home_ownership_RENT'),\n",
       " (0.033775647130370005, 'home_ownership_MORTGAGE'),\n",
       " (0.024747723930501866, 'emp_length_2 years'),\n",
       " (0.02288040396418648, 'emp_length_< 1 year'),\n",
       " (0.022784331552723806, 'emp_length_3 years'),\n",
       " (0.021181829433119026, 'purpose_consolidation'),\n",
       " (0.014483136815838907, 'home_ownership_OWN'),\n",
       " (0.013223453603911079, 'purpose_credit_card'),\n",
       " (0.001172077172258591, 'tot_bal_tot_hi_cred_lim_ratio'),\n",
       " (0.0005761801027727336, 'installment'),\n",
       " (0.0005226753699420868, 'annual_inc'),\n",
       " (0.00015869807204850397, 'fico_avg'),\n",
       " (5.6928774999398574e-05, 'mths_since_recent_inq'),\n",
       " (4.9121765292447536e-05, 'earliest_cr_line'),\n",
       " (0.0, 'total_bal_ex_mort'),\n",
       " (0.0, 'tot_hi_cred_lim'),\n",
       " (0.0, 'tot_bal_income_ratio'),\n",
       " (0.0, 'tax_liens'),\n",
       " (0.0, 'purpose_vacation'),\n",
       " (0.0, 'purpose_other'),\n",
       " (0.0, 'purpose_moving'),\n",
       " (0.0, 'purpose_medical'),\n",
       " (0.0, 'purpose_major_purchase'),\n",
       " (0.0, 'purpose_house'),\n",
       " (0.0, 'purpose_energy'),\n",
       " (0.0, 'purpose_car'),\n",
       " (0.0, 'pub_rec_bankruptcies'),\n",
       " (0.0, 'mths_since_last_delinq'),\n",
       " (0.0, 'inq_last_12m'),\n",
       " (0.0, 'home_ownership_NONE'),\n",
       " (0.0, 'emp_length_No Employment'),\n",
       " (0.0, 'emp_length_9 years'),\n",
       " (0.0, 'emp_length_8 years'),\n",
       " (0.0, 'emp_length_7 years'),\n",
       " (0.0, 'emp_length_6 years'),\n",
       " (0.0, 'emp_length_5 years'),\n",
       " (0.0, 'emp_length_4 years'),\n",
       " (0.0, 'delinq_2yrs'),\n",
       " (0.0, 'chargeoff_within_12_mths'),\n",
       " (0.0, 'acc_now_delinq')]"
      ]
     },
     "execution_count": 34,
     "metadata": {},
     "output_type": "execute_result"
    }
   ],
   "source": [
    "sorted(list(zip(gini_tree.feature_importances_, X_train.columns)), reverse = True)"
   ]
  },
  {
   "cell_type": "code",
   "execution_count": 35,
   "id": "6a0c2dcd",
   "metadata": {
    "scrolled": false
   },
   "outputs": [],
   "source": [
    "## Visualize the decision tree\n",
    "# dot_data = sklearn.tree.export_graphviz(gini_tree, out_file=None, \n",
    "#                      feature_names=X_test.columns,  \n",
    "#                      class_names=str(gini_tree.classes_),  \n",
    "#                      filled=True, rounded=True,  \n",
    "#                      special_characters=True)  \n",
    "# graph = graphviz.Source(dot_data)\n",
    "# graph"
   ]
  },
  {
   "cell_type": "markdown",
   "id": "f385e9e0",
   "metadata": {},
   "source": [
    "## 5.5.2 Entropy Tree<a id='5.5.2_Entropy_Tree'></a>\n",
    "[Table of Contents](#5.1_Contents)"
   ]
  },
  {
   "cell_type": "code",
   "execution_count": 36,
   "id": "8f47c31a",
   "metadata": {},
   "outputs": [],
   "source": [
    "param_grid = dict(\n",
    "    class_weight = class_weight,\n",
    "    max_depth=list(range(2,11)),\n",
    "    min_samples_leaf=list(range(1,21)),\n",
    "    min_samples_split=list(range(5,51)),\n",
    ")\n",
    "entropy_tree = sklearn.tree.DecisionTreeClassifier(random_state=42, criterion = 'entropy')\n",
    "entropy_tree_cv = RandomizedSearchCV(entropy_tree, param_grid, scoring='recall', cv=5).fit(X_train, y_train)"
   ]
  },
  {
   "cell_type": "code",
   "execution_count": 37,
   "id": "2849a8fd",
   "metadata": {
    "scrolled": true
   },
   "outputs": [
    {
     "data": {
      "text/plain": [
       "{'min_samples_split': 49,\n",
       " 'min_samples_leaf': 12,\n",
       " 'max_depth': 4,\n",
       " 'class_weight': {0: 0.7657657657657657, 1: 1}}"
      ]
     },
     "execution_count": 37,
     "metadata": {},
     "output_type": "execute_result"
    }
   ],
   "source": [
    "entropy_tree_cv.best_params_"
   ]
  },
  {
   "cell_type": "code",
   "execution_count": 38,
   "id": "d737d652",
   "metadata": {},
   "outputs": [],
   "source": [
    "y_pred = entropy_tree_cv.predict(X_train)"
   ]
  },
  {
   "cell_type": "code",
   "execution_count": 39,
   "id": "484a1f45",
   "metadata": {
    "scrolled": true
   },
   "outputs": [
    {
     "name": "stdout",
     "output_type": "stream",
     "text": [
      "              precision    recall  f1-score   support\n",
      "\n",
      "           0       0.79      0.47      0.59    238799\n",
      "           1       0.73      0.92      0.82    376815\n",
      "\n",
      "    accuracy                           0.75    615614\n",
      "   macro avg       0.76      0.69      0.70    615614\n",
      "weighted avg       0.75      0.75      0.73    615614\n",
      "\n"
     ]
    }
   ],
   "source": [
    "print(classification_report(y_train, y_pred))"
   ]
  },
  {
   "cell_type": "code",
   "execution_count": 40,
   "id": "25fda02d",
   "metadata": {},
   "outputs": [],
   "source": [
    "y_pred = entropy_tree_cv.predict(X_test)"
   ]
  },
  {
   "cell_type": "code",
   "execution_count": 41,
   "id": "df49bc74",
   "metadata": {
    "scrolled": true
   },
   "outputs": [
    {
     "name": "stdout",
     "output_type": "stream",
     "text": [
      "              precision    recall  f1-score   support\n",
      "\n",
      "           0       0.91      0.42      0.58    133050\n",
      "           1       0.27      0.83      0.41     34135\n",
      "\n",
      "    accuracy                           0.51    167185\n",
      "   macro avg       0.59      0.63      0.49    167185\n",
      "weighted avg       0.78      0.51      0.54    167185\n",
      "\n"
     ]
    }
   ],
   "source": [
    "print(classification_report(y_test, y_pred))"
   ]
  },
  {
   "cell_type": "markdown",
   "id": "0bec2eac",
   "metadata": {},
   "source": [
    "### Finalized Entropy Decision Tree"
   ]
  },
  {
   "cell_type": "code",
   "execution_count": 42,
   "id": "2705be99",
   "metadata": {},
   "outputs": [],
   "source": [
    "entropy_tree = sklearn.tree.DecisionTreeClassifier(random_state=42, criterion = 'entropy', min_samples_split = 46,\n",
    "                                                  min_samples_leaf = 2, max_depth = 3, class_weight = {0: 0.7612612612612613, 1: 1}\n",
    "                                                  ).fit(X_train, y_train)"
   ]
  },
  {
   "cell_type": "code",
   "execution_count": 43,
   "id": "7abc8ba0",
   "metadata": {
    "scrolled": true
   },
   "outputs": [
    {
     "data": {
      "text/plain": [
       "[(0.6617593608502509, 'int_rate'),\n",
       " (0.22521955349859674, 'last_credit_pull_d'),\n",
       " (0.06088230360915024, 'home_ownership_MORTGAGE'),\n",
       " (0.05213878204200208, 'loan_amnt'),\n",
       " (0.0, 'total_bal_ex_mort'),\n",
       " (0.0, 'tot_hi_cred_lim'),\n",
       " (0.0, 'tot_bal_tot_hi_cred_lim_ratio'),\n",
       " (0.0, 'tot_bal_income_ratio'),\n",
       " (0.0, 'tax_liens'),\n",
       " (0.0, 'purpose_vacation'),\n",
       " (0.0, 'purpose_other'),\n",
       " (0.0, 'purpose_moving'),\n",
       " (0.0, 'purpose_medical'),\n",
       " (0.0, 'purpose_major_purchase'),\n",
       " (0.0, 'purpose_house'),\n",
       " (0.0, 'purpose_energy'),\n",
       " (0.0, 'purpose_credit_card'),\n",
       " (0.0, 'purpose_consolidation'),\n",
       " (0.0, 'purpose_car'),\n",
       " (0.0, 'pub_rec_bankruptcies'),\n",
       " (0.0, 'mths_since_recent_inq'),\n",
       " (0.0, 'mths_since_last_delinq'),\n",
       " (0.0, 'installment'),\n",
       " (0.0, 'inq_last_12m'),\n",
       " (0.0, 'home_ownership_RENT'),\n",
       " (0.0, 'home_ownership_OWN'),\n",
       " (0.0, 'home_ownership_NONE'),\n",
       " (0.0, 'fico_avg'),\n",
       " (0.0, 'emp_length_No Employment'),\n",
       " (0.0, 'emp_length_< 1 year'),\n",
       " (0.0, 'emp_length_9 years'),\n",
       " (0.0, 'emp_length_8 years'),\n",
       " (0.0, 'emp_length_7 years'),\n",
       " (0.0, 'emp_length_6 years'),\n",
       " (0.0, 'emp_length_5 years'),\n",
       " (0.0, 'emp_length_4 years'),\n",
       " (0.0, 'emp_length_3 years'),\n",
       " (0.0, 'emp_length_2 years'),\n",
       " (0.0, 'emp_length_10+ years'),\n",
       " (0.0, 'earliest_cr_line'),\n",
       " (0.0, 'delinq_2yrs'),\n",
       " (0.0, 'chargeoff_within_12_mths'),\n",
       " (0.0, 'annual_inc'),\n",
       " (0.0, 'acc_now_delinq')]"
      ]
     },
     "execution_count": 43,
     "metadata": {},
     "output_type": "execute_result"
    }
   ],
   "source": [
    "sorted(list(zip(entropy_tree.feature_importances_, X_train.columns)), reverse = True)"
   ]
  },
  {
   "cell_type": "code",
   "execution_count": 44,
   "id": "73b6742b",
   "metadata": {
    "scrolled": false
   },
   "outputs": [
    {
     "data": {
      "image/svg+xml": [
       "<?xml version=\"1.0\" encoding=\"UTF-8\" standalone=\"no\"?>\r\n",
       "<!DOCTYPE svg PUBLIC \"-//W3C//DTD SVG 1.1//EN\"\r\n",
       " \"http://www.w3.org/Graphics/SVG/1.1/DTD/svg11.dtd\">\r\n",
       "<!-- Generated by graphviz version 2.38.0 (20140413.2041)\r\n",
       " -->\r\n",
       "<!-- Title: Tree Pages: 1 -->\r\n",
       "<svg width=\"1720pt\" height=\"433pt\"\r\n",
       " viewBox=\"0.00 0.00 1719.50 433.00\" xmlns=\"http://www.w3.org/2000/svg\" xmlns:xlink=\"http://www.w3.org/1999/xlink\">\r\n",
       "<g id=\"graph0\" class=\"graph\" transform=\"scale(1 1) rotate(0) translate(4 429)\">\r\n",
       "<title>Tree</title>\r\n",
       "<polygon fill=\"white\" stroke=\"none\" points=\"-4,4 -4,-429 1715.5,-429 1715.5,4 -4,4\"/>\r\n",
       "<!-- 0 -->\r\n",
       "<g id=\"node1\" class=\"node\"><title>0</title>\r\n",
       "<path fill=\"#99ccf2\" stroke=\"black\" d=\"M932,-425C932,-425 736,-425 736,-425 730,-425 724,-419 724,-413 724,-413 724,-354 724,-354 724,-348 730,-342 736,-342 736,-342 932,-342 932,-342 938,-342 944,-348 944,-354 944,-354 944,-413 944,-413 944,-419 938,-425 932,-425\"/>\r\n",
       "<text text-anchor=\"start\" x=\"782.5\" y=\"-409.8\" font-family=\"Helvetica,sans-Serif\" font-size=\"14.00\">int_rate ≤ &#45;0.583</text>\r\n",
       "<text text-anchor=\"start\" x=\"788\" y=\"-394.8\" font-family=\"Helvetica,sans-Serif\" font-size=\"14.00\">entropy = 0.91</text>\r\n",
       "<text text-anchor=\"start\" x=\"774\" y=\"-379.8\" font-family=\"Helvetica,sans-Serif\" font-size=\"14.00\">samples = 615614</text>\r\n",
       "<text text-anchor=\"start\" x=\"732\" y=\"-364.8\" font-family=\"Helvetica,sans-Serif\" font-size=\"14.00\">value = [181788.428, 376815.0]</text>\r\n",
       "<text text-anchor=\"start\" x=\"805\" y=\"-349.8\" font-family=\"Helvetica,sans-Serif\" font-size=\"14.00\">class = 1</text>\r\n",
       "</g>\r\n",
       "<!-- 1 -->\r\n",
       "<g id=\"node2\" class=\"node\"><title>1</title>\r\n",
       "<path fill=\"#f6d4bc\" stroke=\"black\" d=\"M758.5,-306C758.5,-306 579.5,-306 579.5,-306 573.5,-306 567.5,-300 567.5,-294 567.5,-294 567.5,-235 567.5,-235 567.5,-229 573.5,-223 579.5,-223 579.5,-223 758.5,-223 758.5,-223 764.5,-223 770.5,-229 770.5,-235 770.5,-235 770.5,-294 770.5,-294 770.5,-300 764.5,-306 758.5,-306\"/>\r\n",
       "<text text-anchor=\"start\" x=\"617.5\" y=\"-290.8\" font-family=\"Helvetica,sans-Serif\" font-size=\"14.00\">int_rate ≤ &#45;1.212</text>\r\n",
       "<text text-anchor=\"start\" x=\"623\" y=\"-275.8\" font-family=\"Helvetica,sans-Serif\" font-size=\"14.00\">entropy = 0.97</text>\r\n",
       "<text text-anchor=\"start\" x=\"609\" y=\"-260.8\" font-family=\"Helvetica,sans-Serif\" font-size=\"14.00\">samples = 193592</text>\r\n",
       "<text text-anchor=\"start\" x=\"575.5\" y=\"-245.8\" font-family=\"Helvetica,sans-Serif\" font-size=\"14.00\">value = [98049.689, 64793.0]</text>\r\n",
       "<text text-anchor=\"start\" x=\"640\" y=\"-230.8\" font-family=\"Helvetica,sans-Serif\" font-size=\"14.00\">class = 0</text>\r\n",
       "</g>\r\n",
       "<!-- 0&#45;&gt;1 -->\r\n",
       "<g id=\"edge1\" class=\"edge\"><title>0&#45;&gt;1</title>\r\n",
       "<path fill=\"none\" stroke=\"black\" d=\"M776.754,-341.907C763.06,-332.197 748.338,-321.758 734.311,-311.811\"/>\r\n",
       "<polygon fill=\"black\" stroke=\"black\" points=\"736.327,-308.95 726.145,-306.021 732.278,-314.66 736.327,-308.95\"/>\r\n",
       "<text text-anchor=\"middle\" x=\"730.34\" y=\"-326.966\" font-family=\"Helvetica,sans-Serif\" font-size=\"14.00\">True</text>\r\n",
       "</g>\r\n",
       "<!-- 8 -->\r\n",
       "<g id=\"node9\" class=\"node\"><title>8</title>\r\n",
       "<path fill=\"#6eb7ec\" stroke=\"black\" d=\"M1093,-306C1093,-306 905,-306 905,-306 899,-306 893,-300 893,-294 893,-294 893,-235 893,-235 893,-229 899,-223 905,-223 905,-223 1093,-223 1093,-223 1099,-223 1105,-229 1105,-235 1105,-235 1105,-294 1105,-294 1105,-300 1099,-306 1093,-306\"/>\r\n",
       "<text text-anchor=\"start\" x=\"914.5\" y=\"-290.8\" font-family=\"Helvetica,sans-Serif\" font-size=\"14.00\">last_credit_pull_d ≤ &#45;0.571</text>\r\n",
       "<text text-anchor=\"start\" x=\"949\" y=\"-275.8\" font-family=\"Helvetica,sans-Serif\" font-size=\"14.00\">entropy = 0.745</text>\r\n",
       "<text text-anchor=\"start\" x=\"939\" y=\"-260.8\" font-family=\"Helvetica,sans-Serif\" font-size=\"14.00\">samples = 422022</text>\r\n",
       "<text text-anchor=\"start\" x=\"901\" y=\"-245.8\" font-family=\"Helvetica,sans-Serif\" font-size=\"14.00\">value = [83738.739, 312022.0]</text>\r\n",
       "<text text-anchor=\"start\" x=\"970\" y=\"-230.8\" font-family=\"Helvetica,sans-Serif\" font-size=\"14.00\">class = 1</text>\r\n",
       "</g>\r\n",
       "<!-- 0&#45;&gt;8 -->\r\n",
       "<g id=\"edge8\" class=\"edge\"><title>0&#45;&gt;8</title>\r\n",
       "<path fill=\"none\" stroke=\"black\" d=\"M891.246,-341.907C904.94,-332.197 919.662,-321.758 933.689,-311.811\"/>\r\n",
       "<polygon fill=\"black\" stroke=\"black\" points=\"935.722,-314.66 941.855,-306.021 931.673,-308.95 935.722,-314.66\"/>\r\n",
       "<text text-anchor=\"middle\" x=\"937.66\" y=\"-326.966\" font-family=\"Helvetica,sans-Serif\" font-size=\"14.00\">False</text>\r\n",
       "</g>\r\n",
       "<!-- 2 -->\r\n",
       "<g id=\"node3\" class=\"node\"><title>2</title>\r\n",
       "<path fill=\"#eca16c\" stroke=\"black\" d=\"M379.5,-187C379.5,-187 200.5,-187 200.5,-187 194.5,-187 188.5,-181 188.5,-175 188.5,-175 188.5,-116 188.5,-116 188.5,-110 194.5,-104 200.5,-104 200.5,-104 379.5,-104 379.5,-104 385.5,-104 391.5,-110 391.5,-116 391.5,-116 391.5,-175 391.5,-175 391.5,-181 385.5,-187 379.5,-187\"/>\r\n",
       "<text text-anchor=\"start\" x=\"238.5\" y=\"-171.8\" font-family=\"Helvetica,sans-Serif\" font-size=\"14.00\">int_rate ≤ &#45;1.776</text>\r\n",
       "<text text-anchor=\"start\" x=\"240\" y=\"-156.8\" font-family=\"Helvetica,sans-Serif\" font-size=\"14.00\">entropy = 0.729</text>\r\n",
       "<text text-anchor=\"start\" x=\"234\" y=\"-141.8\" font-family=\"Helvetica,sans-Serif\" font-size=\"14.00\">samples = 72676</text>\r\n",
       "<text text-anchor=\"start\" x=\"196.5\" y=\"-126.8\" font-family=\"Helvetica,sans-Serif\" font-size=\"14.00\">value = [46319.703, 11830.0]</text>\r\n",
       "<text text-anchor=\"start\" x=\"261\" y=\"-111.8\" font-family=\"Helvetica,sans-Serif\" font-size=\"14.00\">class = 0</text>\r\n",
       "</g>\r\n",
       "<!-- 1&#45;&gt;2 -->\r\n",
       "<g id=\"edge2\" class=\"edge\"><title>1&#45;&gt;2</title>\r\n",
       "<path fill=\"none\" stroke=\"black\" d=\"M567.435,-232.146C516.14,-216.311 453.8,-197.066 401.216,-180.833\"/>\r\n",
       "<polygon fill=\"black\" stroke=\"black\" points=\"402.104,-177.444 391.516,-177.839 400.039,-184.133 402.104,-177.444\"/>\r\n",
       "</g>\r\n",
       "<!-- 5 -->\r\n",
       "<g id=\"node6\" class=\"node\"><title>5</title>\r\n",
       "<path fill=\"#fafdfe\" stroke=\"black\" d=\"M758.5,-187C758.5,-187 579.5,-187 579.5,-187 573.5,-187 567.5,-181 567.5,-175 567.5,-175 567.5,-116 567.5,-116 567.5,-110 573.5,-104 579.5,-104 579.5,-104 758.5,-104 758.5,-104 764.5,-104 770.5,-110 770.5,-116 770.5,-116 770.5,-175 770.5,-175 770.5,-181 764.5,-187 758.5,-187\"/>\r\n",
       "<text text-anchor=\"start\" x=\"584.5\" y=\"-171.8\" font-family=\"Helvetica,sans-Serif\" font-size=\"14.00\">last_credit_pull_d ≤ &#45;0.976</text>\r\n",
       "<text text-anchor=\"start\" x=\"627\" y=\"-156.8\" font-family=\"Helvetica,sans-Serif\" font-size=\"14.00\">entropy = 1.0</text>\r\n",
       "<text text-anchor=\"start\" x=\"609\" y=\"-141.8\" font-family=\"Helvetica,sans-Serif\" font-size=\"14.00\">samples = 120916</text>\r\n",
       "<text text-anchor=\"start\" x=\"575.5\" y=\"-126.8\" font-family=\"Helvetica,sans-Serif\" font-size=\"14.00\">value = [51729.986, 52963.0]</text>\r\n",
       "<text text-anchor=\"start\" x=\"640\" y=\"-111.8\" font-family=\"Helvetica,sans-Serif\" font-size=\"14.00\">class = 1</text>\r\n",
       "</g>\r\n",
       "<!-- 1&#45;&gt;5 -->\r\n",
       "<g id=\"edge5\" class=\"edge\"><title>1&#45;&gt;5</title>\r\n",
       "<path fill=\"none\" stroke=\"black\" d=\"M669,-222.907C669,-214.649 669,-205.864 669,-197.302\"/>\r\n",
       "<polygon fill=\"black\" stroke=\"black\" points=\"672.5,-197.021 669,-187.021 665.5,-197.021 672.5,-197.021\"/>\r\n",
       "</g>\r\n",
       "<!-- 3 -->\r\n",
       "<g id=\"node4\" class=\"node\"><title>3</title>\r\n",
       "<path fill=\"#e68743\" stroke=\"black\" d=\"M158,-68C158,-68 12,-68 12,-68 6,-68 0,-62 0,-56 0,-56 0,-12 0,-12 0,-6 6,-0 12,-0 12,-0 158,-0 158,-0 164,-0 170,-6 170,-12 170,-12 170,-56 170,-56 170,-62 164,-68 158,-68\"/>\r\n",
       "<text text-anchor=\"start\" x=\"35\" y=\"-52.8\" font-family=\"Helvetica,sans-Serif\" font-size=\"14.00\">entropy = 0.275</text>\r\n",
       "<text text-anchor=\"start\" x=\"29\" y=\"-37.8\" font-family=\"Helvetica,sans-Serif\" font-size=\"14.00\">samples = 12177</text>\r\n",
       "<text text-anchor=\"start\" x=\"8\" y=\"-22.8\" font-family=\"Helvetica,sans-Serif\" font-size=\"14.00\">value = [8932.64, 443.0]</text>\r\n",
       "<text text-anchor=\"start\" x=\"56\" y=\"-7.8\" font-family=\"Helvetica,sans-Serif\" font-size=\"14.00\">class = 0</text>\r\n",
       "</g>\r\n",
       "<!-- 2&#45;&gt;3 -->\r\n",
       "<g id=\"edge3\" class=\"edge\"><title>2&#45;&gt;3</title>\r\n",
       "<path fill=\"none\" stroke=\"black\" d=\"M213.957,-103.882C194.96,-93.7346 174.661,-82.8922 155.923,-72.8832\"/>\r\n",
       "<polygon fill=\"black\" stroke=\"black\" points=\"157.332,-69.6676 146.862,-68.0433 154.033,-75.842 157.332,-69.6676\"/>\r\n",
       "</g>\r\n",
       "<!-- 4 -->\r\n",
       "<g id=\"node5\" class=\"node\"><title>4</title>\r\n",
       "<path fill=\"#eda775\" stroke=\"black\" d=\"M379.5,-68C379.5,-68 200.5,-68 200.5,-68 194.5,-68 188.5,-62 188.5,-56 188.5,-56 188.5,-12 188.5,-12 188.5,-6 194.5,-0 200.5,-0 200.5,-0 379.5,-0 379.5,-0 385.5,-0 391.5,-6 391.5,-12 391.5,-12 391.5,-56 391.5,-56 391.5,-62 385.5,-68 379.5,-68\"/>\r\n",
       "<text text-anchor=\"start\" x=\"240\" y=\"-52.8\" font-family=\"Helvetica,sans-Serif\" font-size=\"14.00\">entropy = 0.784</text>\r\n",
       "<text text-anchor=\"start\" x=\"234\" y=\"-37.8\" font-family=\"Helvetica,sans-Serif\" font-size=\"14.00\">samples = 60499</text>\r\n",
       "<text text-anchor=\"start\" x=\"196.5\" y=\"-22.8\" font-family=\"Helvetica,sans-Serif\" font-size=\"14.00\">value = [37387.063, 11387.0]</text>\r\n",
       "<text text-anchor=\"start\" x=\"261\" y=\"-7.8\" font-family=\"Helvetica,sans-Serif\" font-size=\"14.00\">class = 0</text>\r\n",
       "</g>\r\n",
       "<!-- 2&#45;&gt;4 -->\r\n",
       "<g id=\"edge4\" class=\"edge\"><title>2&#45;&gt;4</title>\r\n",
       "<path fill=\"none\" stroke=\"black\" d=\"M290,-103.726C290,-95.5175 290,-86.8595 290,-78.56\"/>\r\n",
       "<polygon fill=\"black\" stroke=\"black\" points=\"293.5,-78.2996 290,-68.2996 286.5,-78.2996 293.5,-78.2996\"/>\r\n",
       "</g>\r\n",
       "<!-- 6 -->\r\n",
       "<g id=\"node7\" class=\"node\"><title>6</title>\r\n",
       "<path fill=\"#f0b48a\" stroke=\"black\" d=\"M592.5,-68C592.5,-68 421.5,-68 421.5,-68 415.5,-68 409.5,-62 409.5,-56 409.5,-56 409.5,-12 409.5,-12 409.5,-6 415.5,-0 421.5,-0 421.5,-0 592.5,-0 592.5,-0 598.5,-0 604.5,-6 604.5,-12 604.5,-12 604.5,-56 604.5,-56 604.5,-62 598.5,-68 592.5,-68\"/>\r\n",
       "<text text-anchor=\"start\" x=\"457\" y=\"-52.8\" font-family=\"Helvetica,sans-Serif\" font-size=\"14.00\">entropy = 0.868</text>\r\n",
       "<text text-anchor=\"start\" x=\"451\" y=\"-37.8\" font-family=\"Helvetica,sans-Serif\" font-size=\"14.00\">samples = 33962</text>\r\n",
       "<text text-anchor=\"start\" x=\"417.5\" y=\"-22.8\" font-family=\"Helvetica,sans-Serif\" font-size=\"14.00\">value = [19733.414, 8040.0]</text>\r\n",
       "<text text-anchor=\"start\" x=\"478\" y=\"-7.8\" font-family=\"Helvetica,sans-Serif\" font-size=\"14.00\">class = 0</text>\r\n",
       "</g>\r\n",
       "<!-- 5&#45;&gt;6 -->\r\n",
       "<g id=\"edge6\" class=\"edge\"><title>5&#45;&gt;6</title>\r\n",
       "<path fill=\"none\" stroke=\"black\" d=\"M608.677,-103.726C594.164,-93.9161 578.701,-83.4644 564.328,-73.7496\"/>\r\n",
       "<polygon fill=\"black\" stroke=\"black\" points=\"566.252,-70.8255 556.007,-68.1252 562.332,-76.625 566.252,-70.8255\"/>\r\n",
       "</g>\r\n",
       "<!-- 7 -->\r\n",
       "<g id=\"node8\" class=\"node\"><title>7</title>\r\n",
       "<path fill=\"#c6e3f8\" stroke=\"black\" d=\"M813.5,-68C813.5,-68 634.5,-68 634.5,-68 628.5,-68 622.5,-62 622.5,-56 622.5,-56 622.5,-12 622.5,-12 622.5,-6 628.5,-0 634.5,-0 634.5,-0 813.5,-0 813.5,-0 819.5,-0 825.5,-6 825.5,-12 825.5,-12 825.5,-56 825.5,-56 825.5,-62 819.5,-68 813.5,-68\"/>\r\n",
       "<text text-anchor=\"start\" x=\"678\" y=\"-52.8\" font-family=\"Helvetica,sans-Serif\" font-size=\"14.00\">entropy = 0.98</text>\r\n",
       "<text text-anchor=\"start\" x=\"668\" y=\"-37.8\" font-family=\"Helvetica,sans-Serif\" font-size=\"14.00\">samples = 86954</text>\r\n",
       "<text text-anchor=\"start\" x=\"630.5\" y=\"-22.8\" font-family=\"Helvetica,sans-Serif\" font-size=\"14.00\">value = [31996.572, 44923.0]</text>\r\n",
       "<text text-anchor=\"start\" x=\"695\" y=\"-7.8\" font-family=\"Helvetica,sans-Serif\" font-size=\"14.00\">class = 1</text>\r\n",
       "</g>\r\n",
       "<!-- 5&#45;&gt;7 -->\r\n",
       "<g id=\"edge7\" class=\"edge\"><title>5&#45;&gt;7</title>\r\n",
       "<path fill=\"none\" stroke=\"black\" d=\"M689.48,-103.726C693.786,-95.1527 698.339,-86.0891 702.675,-77.4555\"/>\r\n",
       "<polygon fill=\"black\" stroke=\"black\" points=\"705.913,-78.8067 707.274,-68.2996 699.658,-75.6647 705.913,-78.8067\"/>\r\n",
       "</g>\r\n",
       "<!-- 9 -->\r\n",
       "<g id=\"node10\" class=\"node\"><title>9</title>\r\n",
       "<path fill=\"#a6d3f3\" stroke=\"black\" d=\"M1088.5,-187C1088.5,-187 909.5,-187 909.5,-187 903.5,-187 897.5,-181 897.5,-175 897.5,-175 897.5,-116 897.5,-116 897.5,-110 903.5,-104 909.5,-104 909.5,-104 1088.5,-104 1088.5,-104 1094.5,-104 1100.5,-110 1100.5,-116 1100.5,-116 1100.5,-175 1100.5,-175 1100.5,-181 1094.5,-187 1088.5,-187\"/>\r\n",
       "<text text-anchor=\"start\" x=\"938\" y=\"-171.8\" font-family=\"Helvetica,sans-Serif\" font-size=\"14.00\">loan_amnt ≤ &#45;0.764</text>\r\n",
       "<text text-anchor=\"start\" x=\"949\" y=\"-156.8\" font-family=\"Helvetica,sans-Serif\" font-size=\"14.00\">entropy = 0.939</text>\r\n",
       "<text text-anchor=\"start\" x=\"939\" y=\"-141.8\" font-family=\"Helvetica,sans-Serif\" font-size=\"14.00\">samples = 151690</text>\r\n",
       "<text text-anchor=\"start\" x=\"905.5\" y=\"-126.8\" font-family=\"Helvetica,sans-Serif\" font-size=\"14.00\">value = [48585.977, 87867.0]</text>\r\n",
       "<text text-anchor=\"start\" x=\"970\" y=\"-111.8\" font-family=\"Helvetica,sans-Serif\" font-size=\"14.00\">class = 1</text>\r\n",
       "</g>\r\n",
       "<!-- 8&#45;&gt;9 -->\r\n",
       "<g id=\"edge9\" class=\"edge\"><title>8&#45;&gt;9</title>\r\n",
       "<path fill=\"none\" stroke=\"black\" d=\"M999,-222.907C999,-214.649 999,-205.864 999,-197.302\"/>\r\n",
       "<polygon fill=\"black\" stroke=\"black\" points=\"1002.5,-197.021 999,-187.021 995.5,-197.021 1002.5,-197.021\"/>\r\n",
       "</g>\r\n",
       "<!-- 12 -->\r\n",
       "<g id=\"node13\" class=\"node\"><title>12</title>\r\n",
       "<path fill=\"#58ace9\" stroke=\"black\" d=\"M1514.5,-187C1514.5,-187 1269.5,-187 1269.5,-187 1263.5,-187 1257.5,-181 1257.5,-175 1257.5,-175 1257.5,-116 1257.5,-116 1257.5,-110 1263.5,-104 1269.5,-104 1269.5,-104 1514.5,-104 1514.5,-104 1520.5,-104 1526.5,-110 1526.5,-116 1526.5,-116 1526.5,-175 1526.5,-175 1526.5,-181 1520.5,-187 1514.5,-187\"/>\r\n",
       "<text text-anchor=\"start\" x=\"1265.5\" y=\"-171.8\" font-family=\"Helvetica,sans-Serif\" font-size=\"14.00\">home_ownership_MORTGAGE ≤ 0.176</text>\r\n",
       "<text text-anchor=\"start\" x=\"1342\" y=\"-156.8\" font-family=\"Helvetica,sans-Serif\" font-size=\"14.00\">entropy = 0.573</text>\r\n",
       "<text text-anchor=\"start\" x=\"1332\" y=\"-141.8\" font-family=\"Helvetica,sans-Serif\" font-size=\"14.00\">samples = 270332</text>\r\n",
       "<text text-anchor=\"start\" x=\"1294\" y=\"-126.8\" font-family=\"Helvetica,sans-Serif\" font-size=\"14.00\">value = [35152.761, 224155.0]</text>\r\n",
       "<text text-anchor=\"start\" x=\"1363\" y=\"-111.8\" font-family=\"Helvetica,sans-Serif\" font-size=\"14.00\">class = 1</text>\r\n",
       "</g>\r\n",
       "<!-- 8&#45;&gt;12 -->\r\n",
       "<g id=\"edge12\" class=\"edge\"><title>8&#45;&gt;12</title>\r\n",
       "<path fill=\"none\" stroke=\"black\" d=\"M1105.09,-231.915C1148.9,-218.872 1200.38,-203.546 1247.55,-189.503\"/>\r\n",
       "<polygon fill=\"black\" stroke=\"black\" points=\"1248.65,-192.828 1257.24,-186.621 1246.65,-186.119 1248.65,-192.828\"/>\r\n",
       "</g>\r\n",
       "<!-- 10 -->\r\n",
       "<g id=\"node11\" class=\"node\"><title>10</title>\r\n",
       "<path fill=\"#fae5d6\" stroke=\"black\" d=\"M1034.5,-68C1034.5,-68 855.5,-68 855.5,-68 849.5,-68 843.5,-62 843.5,-56 843.5,-56 843.5,-12 843.5,-12 843.5,-6 849.5,-0 855.5,-0 855.5,-0 1034.5,-0 1034.5,-0 1040.5,-0 1046.5,-6 1046.5,-12 1046.5,-12 1046.5,-56 1046.5,-56 1046.5,-62 1040.5,-68 1034.5,-68\"/>\r\n",
       "<text text-anchor=\"start\" x=\"899\" y=\"-52.8\" font-family=\"Helvetica,sans-Serif\" font-size=\"14.00\">entropy = 0.99</text>\r\n",
       "<text text-anchor=\"start\" x=\"889\" y=\"-37.8\" font-family=\"Helvetica,sans-Serif\" font-size=\"14.00\">samples = 38631</text>\r\n",
       "<text text-anchor=\"start\" x=\"851.5\" y=\"-22.8\" font-family=\"Helvetica,sans-Serif\" font-size=\"14.00\">value = [18344.874, 14533.0]</text>\r\n",
       "<text text-anchor=\"start\" x=\"916\" y=\"-7.8\" font-family=\"Helvetica,sans-Serif\" font-size=\"14.00\">class = 0</text>\r\n",
       "</g>\r\n",
       "<!-- 9&#45;&gt;10 -->\r\n",
       "<g id=\"edge10\" class=\"edge\"><title>9&#45;&gt;10</title>\r\n",
       "<path fill=\"none\" stroke=\"black\" d=\"M978.892,-103.726C974.664,-95.1527 970.195,-86.0891 965.937,-77.4555\"/>\r\n",
       "<polygon fill=\"black\" stroke=\"black\" points=\"968.984,-75.7203 961.422,-68.2996 962.706,-78.8164 968.984,-75.7203\"/>\r\n",
       "</g>\r\n",
       "<!-- 11 -->\r\n",
       "<g id=\"node12\" class=\"node\"><title>11</title>\r\n",
       "<path fill=\"#8bc5f0\" stroke=\"black\" d=\"M1255.5,-68C1255.5,-68 1076.5,-68 1076.5,-68 1070.5,-68 1064.5,-62 1064.5,-56 1064.5,-56 1064.5,-12 1064.5,-12 1064.5,-6 1070.5,-0 1076.5,-0 1076.5,-0 1255.5,-0 1255.5,-0 1261.5,-0 1267.5,-6 1267.5,-12 1267.5,-12 1267.5,-56 1267.5,-56 1267.5,-62 1261.5,-68 1255.5,-68\"/>\r\n",
       "<text text-anchor=\"start\" x=\"1116\" y=\"-52.8\" font-family=\"Helvetica,sans-Serif\" font-size=\"14.00\">entropy = 0.871</text>\r\n",
       "<text text-anchor=\"start\" x=\"1106\" y=\"-37.8\" font-family=\"Helvetica,sans-Serif\" font-size=\"14.00\">samples = 113059</text>\r\n",
       "<text text-anchor=\"start\" x=\"1072.5\" y=\"-22.8\" font-family=\"Helvetica,sans-Serif\" font-size=\"14.00\">value = [30241.104, 73334.0]</text>\r\n",
       "<text text-anchor=\"start\" x=\"1137\" y=\"-7.8\" font-family=\"Helvetica,sans-Serif\" font-size=\"14.00\">class = 1</text>\r\n",
       "</g>\r\n",
       "<!-- 9&#45;&gt;11 -->\r\n",
       "<g id=\"edge11\" class=\"edge\"><title>9&#45;&gt;11</title>\r\n",
       "<path fill=\"none\" stroke=\"black\" d=\"M1061.18,-103.726C1076.15,-93.9161 1092.09,-83.4644 1106.9,-73.7496\"/>\r\n",
       "<polygon fill=\"black\" stroke=\"black\" points=\"1109.04,-76.5355 1115.48,-68.1252 1105.2,-70.6816 1109.04,-76.5355\"/>\r\n",
       "</g>\r\n",
       "<!-- 13 -->\r\n",
       "<g id=\"node14\" class=\"node\"><title>13</title>\r\n",
       "<path fill=\"#4da7e8\" stroke=\"black\" d=\"M1486,-68C1486,-68 1298,-68 1298,-68 1292,-68 1286,-62 1286,-56 1286,-56 1286,-12 1286,-12 1286,-6 1292,-0 1298,-0 1298,-0 1486,-0 1486,-0 1492,-0 1498,-6 1498,-12 1498,-12 1498,-56 1498,-56 1498,-62 1492,-68 1486,-68\"/>\r\n",
       "<text text-anchor=\"start\" x=\"1342\" y=\"-52.8\" font-family=\"Helvetica,sans-Serif\" font-size=\"14.00\">entropy = 0.438</text>\r\n",
       "<text text-anchor=\"start\" x=\"1332\" y=\"-37.8\" font-family=\"Helvetica,sans-Serif\" font-size=\"14.00\">samples = 179065</text>\r\n",
       "<text text-anchor=\"start\" x=\"1294\" y=\"-22.8\" font-family=\"Helvetica,sans-Serif\" font-size=\"14.00\">value = [15729.941, 158402.0]</text>\r\n",
       "<text text-anchor=\"start\" x=\"1363\" y=\"-7.8\" font-family=\"Helvetica,sans-Serif\" font-size=\"14.00\">class = 1</text>\r\n",
       "</g>\r\n",
       "<!-- 12&#45;&gt;13 -->\r\n",
       "<g id=\"edge13\" class=\"edge\"><title>12&#45;&gt;13</title>\r\n",
       "<path fill=\"none\" stroke=\"black\" d=\"M1392,-103.726C1392,-95.5175 1392,-86.8595 1392,-78.56\"/>\r\n",
       "<polygon fill=\"black\" stroke=\"black\" points=\"1395.5,-78.2996 1392,-68.2996 1388.5,-78.2996 1395.5,-78.2996\"/>\r\n",
       "</g>\r\n",
       "<!-- 14 -->\r\n",
       "<g id=\"node15\" class=\"node\"><title>14</title>\r\n",
       "<path fill=\"#73baed\" stroke=\"black\" d=\"M1699.5,-68C1699.5,-68 1528.5,-68 1528.5,-68 1522.5,-68 1516.5,-62 1516.5,-56 1516.5,-56 1516.5,-12 1516.5,-12 1516.5,-6 1522.5,-0 1528.5,-0 1528.5,-0 1699.5,-0 1699.5,-0 1705.5,-0 1711.5,-6 1711.5,-12 1711.5,-12 1711.5,-56 1711.5,-56 1711.5,-62 1705.5,-68 1699.5,-68\"/>\r\n",
       "<text text-anchor=\"start\" x=\"1564\" y=\"-52.8\" font-family=\"Helvetica,sans-Serif\" font-size=\"14.00\">entropy = 0.775</text>\r\n",
       "<text text-anchor=\"start\" x=\"1558\" y=\"-37.8\" font-family=\"Helvetica,sans-Serif\" font-size=\"14.00\">samples = 91267</text>\r\n",
       "<text text-anchor=\"start\" x=\"1524.5\" y=\"-22.8\" font-family=\"Helvetica,sans-Serif\" font-size=\"14.00\">value = [19422.82, 65753.0]</text>\r\n",
       "<text text-anchor=\"start\" x=\"1585\" y=\"-7.8\" font-family=\"Helvetica,sans-Serif\" font-size=\"14.00\">class = 1</text>\r\n",
       "</g>\r\n",
       "<!-- 12&#45;&gt;14 -->\r\n",
       "<g id=\"edge14\" class=\"edge\"><title>12&#45;&gt;14</title>\r\n",
       "<path fill=\"none\" stroke=\"black\" d=\"M1474.35,-103.882C1495.2,-93.5962 1517.5,-82.5963 1538.02,-72.4742\"/>\r\n",
       "<polygon fill=\"black\" stroke=\"black\" points=\"1539.59,-75.6059 1547.01,-68.0433 1536.49,-69.328 1539.59,-75.6059\"/>\r\n",
       "</g>\r\n",
       "</g>\r\n",
       "</svg>\r\n"
      ],
      "text/plain": [
       "<graphviz.files.Source at 0x2128c1e2880>"
      ]
     },
     "execution_count": 44,
     "metadata": {},
     "output_type": "execute_result"
    }
   ],
   "source": [
    "# Visualize the decision tree\n",
    "dot_data = sklearn.tree.export_graphviz(entropy_tree, out_file=None, \n",
    "                     feature_names=X_test.columns,  \n",
    "                     class_names=[str(entropy_tree.classes_[0]), str(entropy_tree.classes_[1])],  \n",
    "                     filled=True, rounded=True,  \n",
    "                     special_characters=True)  \n",
    "graph = graphviz.Source(dot_data)\n",
    "graph"
   ]
  },
  {
   "cell_type": "markdown",
   "id": "b2bd9b42",
   "metadata": {},
   "source": [
    "# 5.6 Gradient Boosting Trees<a id='5.6_Gradient_Boost'></a>\n",
    "[Table of Contents](#5.1_Contents)"
   ]
  },
  {
   "cell_type": "code",
   "execution_count": 98,
   "id": "1853b1f2",
   "metadata": {
    "scrolled": true
   },
   "outputs": [
    {
     "data": {
      "text/plain": [
       "RandomizedSearchCV(cv=5,\n",
       "                   estimator=GradientBoostingClassifier(max_features=2,\n",
       "                                                        n_estimators=50,\n",
       "                                                        random_state=42),\n",
       "                   param_distributions={'learning_rate': [0.001, 0.05, 0.1, 0.2,\n",
       "                                                          0.5],\n",
       "                                        'max_depth': [2, 3],\n",
       "                                        'min_samples_leaf': [1, 2, 3, 4, 5, 6,\n",
       "                                                             7, 8, 9, 10, 11,\n",
       "                                                             12, 13, 14, 15, 16,\n",
       "                                                             17, 18, 19, 20],\n",
       "                                        'min_samples_split': [5, 6, 7, 8, 9, 10,\n",
       "                                                              11, 12, 13, 14,\n",
       "                                                              15, 16, 17, 18,\n",
       "                                                              19, 20, 21, 22,\n",
       "                                                              23, 24, 25, 26,\n",
       "                                                              27, 28, 29, 30,\n",
       "                                                              31, 32, 33, 34, ...]},\n",
       "                   scoring='f1')"
      ]
     },
     "execution_count": 98,
     "metadata": {},
     "output_type": "execute_result"
    }
   ],
   "source": [
    "param_grid = dict(\n",
    "    learning_rate=[0.001, 0.05, 0.1, 0.2, 0.5],\n",
    "    max_depth=list(range(2,4)),\n",
    "    min_samples_leaf=list(range(1,21)),\n",
    "    min_samples_split=list(range(5,51)),\n",
    ")\n",
    "gb = GradientBoostingClassifier(n_estimators=50, max_features=2, \n",
    "                                random_state = 42)\n",
    "gb_cv = RandomizedSearchCV(gb, param_grid, scoring='f1', cv=5)\n",
    "gb_cv.fit(X_train, y_train)"
   ]
  },
  {
   "cell_type": "code",
   "execution_count": 99,
   "id": "ba11bc74",
   "metadata": {},
   "outputs": [
    {
     "data": {
      "text/plain": [
       "{'min_samples_split': 43,\n",
       " 'min_samples_leaf': 2,\n",
       " 'max_depth': 2,\n",
       " 'learning_rate': 0.2}"
      ]
     },
     "execution_count": 99,
     "metadata": {},
     "output_type": "execute_result"
    }
   ],
   "source": [
    "gb_cv.best_params_"
   ]
  },
  {
   "cell_type": "code",
   "execution_count": 100,
   "id": "0536291a",
   "metadata": {},
   "outputs": [],
   "source": [
    "y_pred = gb_cv.predict(X_train)"
   ]
  },
  {
   "cell_type": "code",
   "execution_count": 101,
   "id": "670a544d",
   "metadata": {
    "scrolled": true
   },
   "outputs": [
    {
     "name": "stdout",
     "output_type": "stream",
     "text": [
      "              precision    recall  f1-score   support\n",
      "\n",
      "           0       0.82      0.69      0.75    238799\n",
      "           1       0.82      0.90      0.86    376815\n",
      "\n",
      "    accuracy                           0.82    615614\n",
      "   macro avg       0.82      0.80      0.80    615614\n",
      "weighted avg       0.82      0.82      0.82    615614\n",
      "\n"
     ]
    }
   ],
   "source": [
    "print(classification_report(y_train, y_pred))"
   ]
  },
  {
   "cell_type": "code",
   "execution_count": 102,
   "id": "aec9a87a",
   "metadata": {},
   "outputs": [],
   "source": [
    "y_pred = gb_cv.predict(X_test)"
   ]
  },
  {
   "cell_type": "code",
   "execution_count": 103,
   "id": "c0a21075",
   "metadata": {
    "scrolled": false
   },
   "outputs": [
    {
     "name": "stdout",
     "output_type": "stream",
     "text": [
      "              precision    recall  f1-score   support\n",
      "\n",
      "           0       0.87      0.62      0.73    133050\n",
      "           1       0.30      0.64      0.41     34135\n",
      "\n",
      "    accuracy                           0.63    167185\n",
      "   macro avg       0.59      0.63      0.57    167185\n",
      "weighted avg       0.75      0.63      0.66    167185\n",
      "\n"
     ]
    }
   ],
   "source": [
    "print(classification_report(y_test, y_pred))"
   ]
  },
  {
   "cell_type": "markdown",
   "id": "d43f0edf",
   "metadata": {},
   "source": [
    "### Finalized Gradient Boosting Classifier"
   ]
  },
  {
   "cell_type": "code",
   "execution_count": 51,
   "id": "f603717e",
   "metadata": {},
   "outputs": [],
   "source": [
    "gb = GradientBoostingClassifier(n_estimators=50, max_features=2, learning_rate = 0.05,\n",
    "                                random_state = 42, min_samples_split = 23, min_samples_leaf = 9, max_depth = 7).fit(X_train, y_train)"
   ]
  },
  {
   "cell_type": "code",
   "execution_count": 52,
   "id": "5ee17f70",
   "metadata": {},
   "outputs": [
    {
     "data": {
      "text/plain": [
       "[(0.14197066430776628, 'int_rate'),\n",
       " (0.09603702576085026, 'last_credit_pull_d'),\n",
       " (0.08616874671985379, 'emp_length_10+ years'),\n",
       " (0.07366049337080437, 'purpose_credit_card'),\n",
       " (0.06531156203802567, 'home_ownership_MORTGAGE'),\n",
       " (0.04818190318333966, 'loan_amnt'),\n",
       " (0.04595570566092517, 'installment'),\n",
       " (0.04400882309425918, 'fico_avg'),\n",
       " (0.03294844973825036, 'emp_length_2 years'),\n",
       " (0.03231821543778058, 'purpose_house'),\n",
       " (0.02902749659859095, 'purpose_consolidation'),\n",
       " (0.028166356531980626, 'home_ownership_OWN'),\n",
       " (0.027229665359060944, 'purpose_other'),\n",
       " (0.02229637158138949, 'emp_length_< 1 year'),\n",
       " (0.021108373667343663, 'tot_hi_cred_lim'),\n",
       " (0.02068000048007418, 'emp_length_3 years'),\n",
       " (0.01905242656068425, 'emp_length_4 years'),\n",
       " (0.018081113754574833, 'annual_inc'),\n",
       " (0.015439118714478478, 'tot_bal_tot_hi_cred_lim_ratio'),\n",
       " (0.0153391758343658, 'emp_length_5 years'),\n",
       " (0.013926600344146974, 'emp_length_7 years'),\n",
       " (0.012409282594573431, 'pub_rec_bankruptcies'),\n",
       " (0.012207096376801008, 'emp_length_8 years'),\n",
       " (0.011315403595035092, 'emp_length_6 years'),\n",
       " (0.009926212032462708, 'mths_since_last_delinq'),\n",
       " (0.008539744270837913, 'emp_length_9 years'),\n",
       " (0.007629801557474294, 'mths_since_recent_inq'),\n",
       " (0.005894096162436994, 'purpose_major_purchase'),\n",
       " (0.005822719501994565, 'delinq_2yrs'),\n",
       " (0.005510023748500358, 'tot_bal_income_ratio'),\n",
       " (0.0047793282486763705, 'emp_length_No Employment'),\n",
       " (0.004055072077948261, 'purpose_medical'),\n",
       " (0.0030878955301537644, 'purpose_vacation'),\n",
       " (0.002781850779216851, 'purpose_car'),\n",
       " (0.002008372544404303, 'purpose_moving'),\n",
       " (0.0020079685631259315, 'home_ownership_RENT'),\n",
       " (0.0017031373565415877, 'earliest_cr_line'),\n",
       " (0.001191041528756582, 'total_bal_ex_mort'),\n",
       " (0.001142370698131211, 'inq_last_12m'),\n",
       " (0.0005724204150580163, 'tax_liens'),\n",
       " (0.00028039999307181957, 'acc_now_delinq'),\n",
       " (0.00015843768266222724, 'chargeoff_within_12_mths'),\n",
       " (6.903600359140034e-05, 'purpose_energy'),\n",
       " (0.0, 'home_ownership_NONE')]"
      ]
     },
     "execution_count": 52,
     "metadata": {},
     "output_type": "execute_result"
    }
   ],
   "source": [
    "sorted(list(zip(gb.feature_importances_, X_train.columns)), reverse = True)"
   ]
  },
  {
   "cell_type": "markdown",
   "id": "fa8fea09",
   "metadata": {},
   "source": [
    "# 5.7 Model Comparison<a id='5.7_Model_Comparison'></a>\n",
    "[Table of Contents](#5.1_Contents)\n",
    "\n",
    "It is important to note that all of these models were optimized for recall score. For this application, the priority is to identify and not accept applicants that are likely to default - accepting these applicants could increase the financial risk of the company. Therefore the recall score is the most important evaluation metric."
   ]
  },
  {
   "cell_type": "code",
   "execution_count": 53,
   "id": "0620c649",
   "metadata": {},
   "outputs": [],
   "source": [
    "def plot_confusion_matrix(test, pred, title, normalize = False):\n",
    "\n",
    "    cm = confusion_matrix(test, pred)\n",
    "    if normalize:\n",
    "        cm = cm.astype('float') / cm.sum(axis=1)[:, np.newaxis]\n",
    "        print(\"Normalized confusion matrix\")\n",
    "    else:\n",
    "        print('Confusion matrix, without normalization')\n",
    "              \n",
    "    df_cm = pd.DataFrame(cm.round(2))\n",
    "    plt.figure(figsize=(10, 5))\n",
    "    sns.heatmap(df_cm, annot=True, cmap='Blues', fmt='')\n",
    "    plt.xlabel(\"Predicted labels\")\n",
    "    plt.ylabel(\"True labels\")\n",
    "    plt.title(f'{title} Confusion Matrix')\n",
    "\n",
    "    return None"
   ]
  },
  {
   "cell_type": "markdown",
   "id": "2f77d550",
   "metadata": {},
   "source": [
    "# 5.7.1 Dummy Classifier<a id='5.7.1_Dummy_Classifier'></a>\n",
    "[Table of Contents](#5.1_Contents)\n",
    "\n",
    "The dummy classifier performed surprisingly well, correctly catching 61% of defaulted loans in the test set. However, this classifier performs poorly in f1 score and overall accuracy."
   ]
  },
  {
   "cell_type": "code",
   "execution_count": 54,
   "id": "125f8fb4",
   "metadata": {},
   "outputs": [],
   "source": [
    "dummy_y_pred = dummy_clf.predict(X_test)"
   ]
  },
  {
   "cell_type": "markdown",
   "id": "7e8a9f2a",
   "metadata": {},
   "source": [
    "### Testing Classification Report"
   ]
  },
  {
   "cell_type": "code",
   "execution_count": 55,
   "id": "83e5b594",
   "metadata": {
    "scrolled": false
   },
   "outputs": [
    {
     "name": "stdout",
     "output_type": "stream",
     "text": [
      "              precision    recall  f1-score   support\n",
      "\n",
      "           0       0.80      0.39      0.52    133050\n",
      "           1       0.20      0.61      0.31     34135\n",
      "\n",
      "    accuracy                           0.43    167185\n",
      "   macro avg       0.50      0.50      0.41    167185\n",
      "weighted avg       0.67      0.43      0.48    167185\n",
      "\n"
     ]
    }
   ],
   "source": [
    "print(classification_report(y_test, dummy_y_pred))"
   ]
  },
  {
   "cell_type": "markdown",
   "id": "440e6372",
   "metadata": {},
   "source": [
    "### Testing Confusion Matrix"
   ]
  },
  {
   "cell_type": "code",
   "execution_count": 56,
   "id": "70c2cb67",
   "metadata": {
    "scrolled": false
   },
   "outputs": [
    {
     "name": "stdout",
     "output_type": "stream",
     "text": [
      "Normalized confusion matrix\n"
     ]
    },
    {
     "data": {
      "image/png": "[encoded data removed]",
      "text/plain": [
       "<Figure size 720x360 with 2 Axes>"
      ]
     },
     "metadata": {
      "needs_background": "light"
     },
     "output_type": "display_data"
    }
   ],
   "source": [
    "plot_confusion_matrix(y_test, dummy_y_pred, 'Dummy Classifier', normalize = True)"
   ]
  },
  {
   "cell_type": "markdown",
   "id": "6ea2a129",
   "metadata": {},
   "source": [
    "### Testing ROC curve"
   ]
  },
  {
   "cell_type": "code",
   "execution_count": 57,
   "id": "fe81c51b",
   "metadata": {
    "scrolled": false
   },
   "outputs": [
    {
     "data": {
      "text/plain": [
       "<sklearn.metrics._plot.roc_curve.RocCurveDisplay at 0x212aed6bc10>"
      ]
     },
     "execution_count": 57,
     "metadata": {},
     "output_type": "execute_result"
    },
    {
     "data": {
      "image/png": "[encoded data removed]",
      "text/plain": [
       "<Figure size 432x288 with 1 Axes>"
      ]
     },
     "metadata": {
      "needs_background": "light"
     },
     "output_type": "display_data"
    }
   ],
   "source": [
    "plot_roc_curve(dummy_clf, X_test, y_test)"
   ]
  },
  {
   "cell_type": "markdown",
   "id": "40b0d96e",
   "metadata": {},
   "source": [
    "### Testing Precision - Recall Curve"
   ]
  },
  {
   "cell_type": "code",
   "execution_count": 58,
   "id": "d8cde672",
   "metadata": {
    "scrolled": true
   },
   "outputs": [
    {
     "data": {
      "text/plain": [
       "<sklearn.metrics._plot.precision_recall_curve.PrecisionRecallDisplay at 0x212af26c520>"
      ]
     },
     "execution_count": 58,
     "metadata": {},
     "output_type": "execute_result"
    },
    {
     "data": {
      "image/png": "[encoded data removed]",
      "text/plain": [
       "<Figure size 432x288 with 1 Axes>"
      ]
     },
     "metadata": {
      "needs_background": "light"
     },
     "output_type": "display_data"
    }
   ],
   "source": [
    "plot_precision_recall_curve(dummy_clf, X_test, y_test)"
   ]
  },
  {
   "cell_type": "markdown",
   "id": "2926beff",
   "metadata": {},
   "source": [
    "# 5.7.2 Logistic Regression<a id='5.7.2_Logistic_Regression'></a>\n",
    "[Table of Contents](#5.1_Contents)\n",
    "\n",
    "This model is the most interpretable of all of the advanced models and it performs decently well, catching 64% of defaulted loans on the test set. The overall accuracy and f1 score are also significantly better than the dummy classifier."
   ]
  },
  {
   "cell_type": "code",
   "execution_count": 59,
   "id": "3c256630",
   "metadata": {},
   "outputs": [],
   "source": [
    "clf_y_pred = clf.predict(X_test)"
   ]
  },
  {
   "cell_type": "markdown",
   "id": "362d1ecb",
   "metadata": {},
   "source": [
    "### Testing Classification Report"
   ]
  },
  {
   "cell_type": "code",
   "execution_count": 60,
   "id": "836c615a",
   "metadata": {
    "scrolled": false
   },
   "outputs": [
    {
     "name": "stdout",
     "output_type": "stream",
     "text": [
      "              precision    recall  f1-score   support\n",
      "\n",
      "           0       0.85      0.81      0.83    133050\n",
      "           1       0.38      0.44      0.41     34135\n",
      "\n",
      "    accuracy                           0.74    167185\n",
      "   macro avg       0.61      0.63      0.62    167185\n",
      "weighted avg       0.75      0.74      0.74    167185\n",
      "\n"
     ]
    }
   ],
   "source": [
    "print(classification_report(y_test, clf_y_pred))"
   ]
  },
  {
   "cell_type": "markdown",
   "id": "d8e8d71d",
   "metadata": {},
   "source": [
    "### Testing Confusion Matrix"
   ]
  },
  {
   "cell_type": "code",
   "execution_count": 61,
   "id": "45243813",
   "metadata": {
    "scrolled": false
   },
   "outputs": [
    {
     "name": "stdout",
     "output_type": "stream",
     "text": [
      "Normalized confusion matrix\n"
     ]
    },
    {
     "data": {
      "image/png": "[encoded data removed]",
      "text/plain": [
       "<Figure size 720x360 with 2 Axes>"
      ]
     },
     "metadata": {
      "needs_background": "light"
     },
     "output_type": "display_data"
    }
   ],
   "source": [
    "plot_confusion_matrix(y_test, clf_y_pred, 'Logistic Regression', normalize = True)"
   ]
  },
  {
   "cell_type": "markdown",
   "id": "41c16898",
   "metadata": {},
   "source": [
    "### Testing ROC curve"
   ]
  },
  {
   "cell_type": "code",
   "execution_count": 62,
   "id": "9251639e",
   "metadata": {
    "scrolled": true
   },
   "outputs": [
    {
     "data": {
      "text/plain": [
       "<sklearn.metrics._plot.roc_curve.RocCurveDisplay at 0x212af272dc0>"
      ]
     },
     "execution_count": 62,
     "metadata": {},
     "output_type": "execute_result"
    },
    {
     "data": {
      "image/png": "[encoded data removed]",
      "text/plain": [
       "<Figure size 432x288 with 1 Axes>"
      ]
     },
     "metadata": {
      "needs_background": "light"
     },
     "output_type": "display_data"
    }
   ],
   "source": [
    "plot_roc_curve(clf, X_test, y_test)"
   ]
  },
  {
   "cell_type": "markdown",
   "id": "e956390d",
   "metadata": {},
   "source": [
    "### Testing Precision - Recall Curve"
   ]
  },
  {
   "cell_type": "code",
   "execution_count": 63,
   "id": "c0d28c85",
   "metadata": {
    "scrolled": true
   },
   "outputs": [
    {
     "data": {
      "text/plain": [
       "<sklearn.metrics._plot.precision_recall_curve.PrecisionRecallDisplay at 0x212af272940>"
      ]
     },
     "execution_count": 63,
     "metadata": {},
     "output_type": "execute_result"
    },
    {
     "data": {
      "image/png": "[encoded data removed]",
      "text/plain": [
       "<Figure size 432x288 with 1 Axes>"
      ]
     },
     "metadata": {
      "needs_background": "light"
     },
     "output_type": "display_data"
    }
   ],
   "source": [
    "plot_precision_recall_curve(clf, X_test, y_test)"
   ]
  },
  {
   "cell_type": "markdown",
   "id": "a71479c4",
   "metadata": {},
   "source": [
    "# 5.7.3 Gini Decision Tree<a id='5.7.3_Gini_Decision_Tree'></a>\n",
    "[Table of Contents](#5.1_Contents)\n",
    "\n",
    "This model ranks above the dummy classifier and below the logistic regression. At a depth of 10 levels, it is interpretable but more complex than the logistic regression. It identifed 55% of defaulted loans, but also performs well with the non-defaulted class - a trade off."
   ]
  },
  {
   "cell_type": "code",
   "execution_count": 64,
   "id": "bd8e76ac",
   "metadata": {},
   "outputs": [],
   "source": [
    "gini_y_pred = gini_tree.predict(X_test)"
   ]
  },
  {
   "cell_type": "markdown",
   "id": "8bfdbc42",
   "metadata": {},
   "source": [
    "### Testing Classification Report"
   ]
  },
  {
   "cell_type": "code",
   "execution_count": 65,
   "id": "713e9aa6",
   "metadata": {
    "scrolled": false
   },
   "outputs": [
    {
     "name": "stdout",
     "output_type": "stream",
     "text": [
      "              precision    recall  f1-score   support\n",
      "\n",
      "           0       0.89      0.53      0.67    133050\n",
      "           1       0.29      0.75      0.42     34135\n",
      "\n",
      "    accuracy                           0.57    167185\n",
      "   macro avg       0.59      0.64      0.54    167185\n",
      "weighted avg       0.77      0.57      0.61    167185\n",
      "\n"
     ]
    }
   ],
   "source": [
    "print(classification_report(y_test, gini_y_pred))"
   ]
  },
  {
   "cell_type": "markdown",
   "id": "8a1d1fd3",
   "metadata": {},
   "source": [
    "### Testing Confusion Matrix"
   ]
  },
  {
   "cell_type": "code",
   "execution_count": 66,
   "id": "874f99e6",
   "metadata": {
    "scrolled": false
   },
   "outputs": [
    {
     "name": "stdout",
     "output_type": "stream",
     "text": [
      "Normalized confusion matrix\n"
     ]
    },
    {
     "data": {
      "image/png": "[encoded data removed]",
      "text/plain": [
       "<Figure size 720x360 with 2 Axes>"
      ]
     },
     "metadata": {
      "needs_background": "light"
     },
     "output_type": "display_data"
    }
   ],
   "source": [
    "plot_confusion_matrix(y_test, gini_y_pred, 'Gini Decision Tree', normalize = True)"
   ]
  },
  {
   "cell_type": "markdown",
   "id": "678cfc8f",
   "metadata": {},
   "source": [
    "### Testing ROC curve"
   ]
  },
  {
   "cell_type": "code",
   "execution_count": 67,
   "id": "6201988d",
   "metadata": {
    "scrolled": true
   },
   "outputs": [
    {
     "data": {
      "text/plain": [
       "<sklearn.metrics._plot.roc_curve.RocCurveDisplay at 0x212aed47a90>"
      ]
     },
     "execution_count": 67,
     "metadata": {},
     "output_type": "execute_result"
    },
    {
     "data": {
      "image/png": "[encoded data removed]",
      "text/plain": [
       "<Figure size 432x288 with 1 Axes>"
      ]
     },
     "metadata": {
      "needs_background": "light"
     },
     "output_type": "display_data"
    }
   ],
   "source": [
    "plot_roc_curve(gini_tree, X_test, y_test)"
   ]
  },
  {
   "cell_type": "markdown",
   "id": "7c9f651b",
   "metadata": {},
   "source": [
    "### Testing Precision - Recall Curve"
   ]
  },
  {
   "cell_type": "code",
   "execution_count": 68,
   "id": "da231950",
   "metadata": {
    "scrolled": false
   },
   "outputs": [
    {
     "data": {
      "text/plain": [
       "<sklearn.metrics._plot.precision_recall_curve.PrecisionRecallDisplay at 0x212af303250>"
      ]
     },
     "execution_count": 68,
     "metadata": {},
     "output_type": "execute_result"
    },
    {
     "data": {
      "image/png": "[encoded data removed]",
      "text/plain": [
       "<Figure size 432x288 with 1 Axes>"
      ]
     },
     "metadata": {
      "needs_background": "light"
     },
     "output_type": "display_data"
    }
   ],
   "source": [
    "plot_precision_recall_curve(gini_tree, X_test, y_test)"
   ]
  },
  {
   "cell_type": "markdown",
   "id": "00b560e6",
   "metadata": {},
   "source": [
    "# 5.7.4 Entropy Decision Tree<a id='5.7.4_Entropy_Decision_Tree'></a>\n",
    "[Table of Contents](#5.1_Contents)\n",
    "\n",
    "This decision tree was better than the Gini tree, but still more complicated than the logistic regression since this model also has 10 levels. However, it produces the highest recall score, identifying 71% of defaulted loans."
   ]
  },
  {
   "cell_type": "code",
   "execution_count": 69,
   "id": "7b06797b",
   "metadata": {},
   "outputs": [],
   "source": [
    "entropy_y_pred = entropy_tree.predict(X_test)"
   ]
  },
  {
   "cell_type": "markdown",
   "id": "a33fe94e",
   "metadata": {},
   "source": [
    "### Testing Classification Report"
   ]
  },
  {
   "cell_type": "code",
   "execution_count": 70,
   "id": "9e697aee",
   "metadata": {
    "scrolled": true
   },
   "outputs": [
    {
     "name": "stdout",
     "output_type": "stream",
     "text": [
      "              precision    recall  f1-score   support\n",
      "\n",
      "           0       0.91      0.42      0.57    133050\n",
      "           1       0.27      0.83      0.41     34135\n",
      "\n",
      "    accuracy                           0.50    167185\n",
      "   macro avg       0.59      0.62      0.49    167185\n",
      "weighted avg       0.78      0.50      0.54    167185\n",
      "\n"
     ]
    }
   ],
   "source": [
    "print(classification_report(y_test, entropy_y_pred))"
   ]
  },
  {
   "cell_type": "markdown",
   "id": "2672280d",
   "metadata": {},
   "source": [
    "### Testing Confusion Matrix"
   ]
  },
  {
   "cell_type": "code",
   "execution_count": 71,
   "id": "fe86aa6f",
   "metadata": {
    "scrolled": true
   },
   "outputs": [
    {
     "name": "stdout",
     "output_type": "stream",
     "text": [
      "Normalized confusion matrix\n"
     ]
    },
    {
     "data": {
      "image/png": "[encoded data removed]",
      "text/plain": [
       "<Figure size 720x360 with 2 Axes>"
      ]
     },
     "metadata": {
      "needs_background": "light"
     },
     "output_type": "display_data"
    }
   ],
   "source": [
    "plot_confusion_matrix(y_test, entropy_y_pred, 'Entropy Decision Tree', normalize = True)"
   ]
  },
  {
   "cell_type": "markdown",
   "id": "935ac2e3",
   "metadata": {},
   "source": [
    "### Testing ROC curve"
   ]
  },
  {
   "cell_type": "code",
   "execution_count": 72,
   "id": "55b81be2",
   "metadata": {
    "scrolled": false
   },
   "outputs": [
    {
     "data": {
      "text/plain": [
       "<sklearn.metrics._plot.roc_curve.RocCurveDisplay at 0x2128c103df0>"
      ]
     },
     "execution_count": 72,
     "metadata": {},
     "output_type": "execute_result"
    },
    {
     "data": {
      "image/png": "[encoded data removed]",
      "text/plain": [
       "<Figure size 432x288 with 1 Axes>"
      ]
     },
     "metadata": {
      "needs_background": "light"
     },
     "output_type": "display_data"
    }
   ],
   "source": [
    "plot_roc_curve(entropy_tree, X_test, y_test)"
   ]
  },
  {
   "cell_type": "markdown",
   "id": "90d1e632",
   "metadata": {},
   "source": [
    "### Testing Precision - Recall Curve"
   ]
  },
  {
   "cell_type": "code",
   "execution_count": 73,
   "id": "38e3f8dd",
   "metadata": {
    "scrolled": false
   },
   "outputs": [
    {
     "data": {
      "text/plain": [
       "<sklearn.metrics._plot.precision_recall_curve.PrecisionRecallDisplay at 0x2128c11bb50>"
      ]
     },
     "execution_count": 73,
     "metadata": {},
     "output_type": "execute_result"
    },
    {
     "data": {
      "image/png": "[encoded data removed]",
      "text/plain": [
       "<Figure size 432x288 with 1 Axes>"
      ]
     },
     "metadata": {
      "needs_background": "light"
     },
     "output_type": "display_data"
    }
   ],
   "source": [
    "plot_precision_recall_curve(entropy_tree, X_test, y_test)"
   ]
  },
  {
   "cell_type": "markdown",
   "id": "274500b4",
   "metadata": {},
   "source": [
    "# 5.7.5 Gradient Boosting Classifier<a id='5.7.5_Gradient_Boosting_Classifier'></a>\n",
    "[Table of Contents](#5.1_Contents)\n",
    "\n",
    "This model had the greatest overall accuracy, but the lowest recall score among the advanced models, identifying 50% of defaulted loans."
   ]
  },
  {
   "cell_type": "code",
   "execution_count": 74,
   "id": "d62af1ed",
   "metadata": {},
   "outputs": [],
   "source": [
    "gb_y_pred = gb.predict(X_test)"
   ]
  },
  {
   "cell_type": "markdown",
   "id": "764224af",
   "metadata": {},
   "source": [
    "### Testing Classification Report"
   ]
  },
  {
   "cell_type": "code",
   "execution_count": 75,
   "id": "1061a2c4",
   "metadata": {
    "scrolled": false
   },
   "outputs": [
    {
     "name": "stdout",
     "output_type": "stream",
     "text": [
      "              precision    recall  f1-score   support\n",
      "\n",
      "           0       0.88      0.62      0.73    133050\n",
      "           1       0.31      0.67      0.42     34135\n",
      "\n",
      "    accuracy                           0.63    167185\n",
      "   macro avg       0.59      0.64      0.57    167185\n",
      "weighted avg       0.76      0.63      0.66    167185\n",
      "\n"
     ]
    }
   ],
   "source": [
    "print(classification_report(y_test, gb_y_pred))"
   ]
  },
  {
   "cell_type": "markdown",
   "id": "6261f051",
   "metadata": {},
   "source": [
    "### Testing Confusion Matrix"
   ]
  },
  {
   "cell_type": "code",
   "execution_count": 76,
   "id": "24d3e232",
   "metadata": {
    "scrolled": false
   },
   "outputs": [
    {
     "name": "stdout",
     "output_type": "stream",
     "text": [
      "Normalized confusion matrix\n"
     ]
    },
    {
     "data": {
      "image/png": "[encoded data removed]",
      "text/plain": [
       "<Figure size 720x360 with 2 Axes>"
      ]
     },
     "metadata": {
      "needs_background": "light"
     },
     "output_type": "display_data"
    }
   ],
   "source": [
    "plot_confusion_matrix(y_test, gb_y_pred, 'Gradient Boost Classifier', normalize = True)"
   ]
  },
  {
   "cell_type": "markdown",
   "id": "a99d2d81",
   "metadata": {},
   "source": [
    "### Testing ROC curve"
   ]
  },
  {
   "cell_type": "code",
   "execution_count": 77,
   "id": "50f9dc4f",
   "metadata": {
    "scrolled": false
   },
   "outputs": [
    {
     "data": {
      "text/plain": [
       "<sklearn.metrics._plot.roc_curve.RocCurveDisplay at 0x212afc823a0>"
      ]
     },
     "execution_count": 77,
     "metadata": {},
     "output_type": "execute_result"
    },
    {
     "data": {
      "image/png": "[encoded data removed]",
      "text/plain": [
       "<Figure size 432x288 with 1 Axes>"
      ]
     },
     "metadata": {
      "needs_background": "light"
     },
     "output_type": "display_data"
    }
   ],
   "source": [
    "plot_roc_curve(gb, X_test, y_test)"
   ]
  },
  {
   "cell_type": "markdown",
   "id": "a9fe32f4",
   "metadata": {},
   "source": [
    "### Testing Precision - Recall Curve"
   ]
  },
  {
   "cell_type": "code",
   "execution_count": 78,
   "id": "2b8190df",
   "metadata": {
    "scrolled": true
   },
   "outputs": [
    {
     "data": {
      "text/plain": [
       "<sklearn.metrics._plot.precision_recall_curve.PrecisionRecallDisplay at 0x212afc82460>"
      ]
     },
     "execution_count": 78,
     "metadata": {},
     "output_type": "execute_result"
    },
    {
     "data": {
      "image/png": "[encoded data removed]",
      "text/plain": [
       "<Figure size 432x288 with 1 Axes>"
      ]
     },
     "metadata": {
      "needs_background": "light"
     },
     "output_type": "display_data"
    }
   ],
   "source": [
    "plot_precision_recall_curve(gb, X_test, y_test)"
   ]
  },
  {
   "cell_type": "markdown",
   "id": "25e3b219",
   "metadata": {},
   "source": [
    "# 5.8 Model Selection<a id='5.8_Model_Selection'></a>\n",
    "[Table of Contents](#5.1_Contents)\n",
    "\n",
    "With this application, there are two primary considerations with selecting a model:\n",
    "\n",
    "1) The model must be interpretable for compliance with regulation and audits.\n",
    "2) The model should identify as many applicants that are likely to default as possible (recall score).\n",
    "\n",
    "With these two considerations in mind, I believe that the entropy decision tree model is the best choice. It can be simply since the maximum depth is only three branches, and the top-contributing features are easily explained. It achieved the highest testing recall score among all the tested models as 83% (total percentage of correctly classified defaulted loans). Among all the advanced classifiers, the ROC and precision-recall curves showed similar performance. The entropy decision tree model was optimized with Randomized Search cross validation and has the following hyperparameter:\n",
    "\n",
    "* Max Depth of 3 Branches\n",
    "* 0.76:1 Class Weight (Non-Default:Default)\n",
    "* Min Samples Split = 46\n",
    "* Min Samples Leaf = 2\n",
    "\n",
    "Naturally, there is room for improvement in the performance of the model. However, there is a limit to the predictive power of the selected features - more powerful features would need to be obtained from hard credit checks of applicants. The top positive features contributing to the entropy decision tree are:\n",
    "\n",
    "1. Interest Rate\n",
    "2. Time Since Last Credit Pull (Months)\n",
    "3. Mortgage or No Mortgage\n",
    "4. Loan Amount"
   ]
  },
  {
   "cell_type": "markdown",
   "id": "17f4bced",
   "metadata": {},
   "source": [
    "# 5.9 Data Quantity Assessment<a id='5.9_Data_Quantity_Assessment'></a>\n",
    "[Table of Contents](#5.1_Contents)\n",
    "\n",
    "The plot below does seem to suggest that increasing the quantity of the training set would only marginally improve the training recall scores. It might be more efficient to allocate resources towards feature engineering instead."
   ]
  },
  {
   "cell_type": "code",
   "execution_count": 79,
   "id": "14ab9e5a",
   "metadata": {},
   "outputs": [],
   "source": [
    "fractions = [.05, .1, .25, .5, .6, .7, .8, .9, .95, .97, 1.0]\n",
    "train_size, train_scores, test_scores = learning_curve(entropy_tree, X_train, y_train, train_sizes=fractions, scoring = 'recall',\n",
    "                                                      random_state = 42)\n",
    "train_scores_mean = np.mean(train_scores, axis=1)\n",
    "train_scores_std = np.std(train_scores, axis=1)\n",
    "test_scores_mean = np.mean(test_scores, axis=1)\n",
    "test_scores_std = np.std(test_scores, axis=1)"
   ]
  },
  {
   "cell_type": "code",
   "execution_count": 80,
   "id": "b684c3c0",
   "metadata": {
    "scrolled": false
   },
   "outputs": [
    {
     "data": {
      "image/png": "[encoded data removed]",
      "text/plain": [
       "<Figure size 1080x360 with 1 Axes>"
      ]
     },
     "metadata": {
      "needs_background": "light"
     },
     "output_type": "display_data"
    }
   ],
   "source": [
    "plt.subplots(figsize=(15, 5))\n",
    "plt.errorbar(train_size, test_scores_mean, yerr=test_scores_std)\n",
    "plt.xlabel('Training set size')\n",
    "plt.ylabel('CV scores')\n",
    "plt.title('Cross-validation score as training set size increases');"
   ]
  },
  {
   "cell_type": "markdown",
   "id": "f89a2011",
   "metadata": {},
   "source": [
    "# 5.10 Retrain And Visualize<a id='5.10_Retrain'></a>\n",
    "[Table of Contents](#5.1_Contents)"
   ]
  },
  {
   "cell_type": "code",
   "execution_count": 81,
   "id": "ae8b40aa",
   "metadata": {},
   "outputs": [],
   "source": [
    "entropy_tree = sklearn.tree.DecisionTreeClassifier(random_state=42, criterion = 'entropy', min_samples_split = 46,\n",
    "                                                  min_samples_leaf = 2, max_depth = 3, class_weight = {0: 0.7612612612612613, 1: 1}\n",
    "                                                  ).fit(X_final, y_final)"
   ]
  },
  {
   "cell_type": "code",
   "execution_count": 82,
   "id": "b0d24436",
   "metadata": {
    "scrolled": false
   },
   "outputs": [
    {
     "data": {
      "text/plain": [
       "[(0.6329591441896658, 'int_rate'),\n",
       " (0.3670408558103342, 'last_credit_pull_d'),\n",
       " (0.0, 'total_bal_ex_mort'),\n",
       " (0.0, 'tot_hi_cred_lim'),\n",
       " (0.0, 'tot_bal_tot_hi_cred_lim_ratio'),\n",
       " (0.0, 'tot_bal_income_ratio'),\n",
       " (0.0, 'tax_liens'),\n",
       " (0.0, 'purpose_vacation'),\n",
       " (0.0, 'purpose_other'),\n",
       " (0.0, 'purpose_moving'),\n",
       " (0.0, 'purpose_medical'),\n",
       " (0.0, 'purpose_major_purchase'),\n",
       " (0.0, 'purpose_house'),\n",
       " (0.0, 'purpose_energy'),\n",
       " (0.0, 'purpose_credit_card'),\n",
       " (0.0, 'purpose_consolidation'),\n",
       " (0.0, 'purpose_car'),\n",
       " (0.0, 'pub_rec_bankruptcies'),\n",
       " (0.0, 'mths_since_recent_inq'),\n",
       " (0.0, 'mths_since_last_delinq'),\n",
       " (0.0, 'loan_amnt'),\n",
       " (0.0, 'installment'),\n",
       " (0.0, 'inq_last_12m'),\n",
       " (0.0, 'home_ownership_RENT'),\n",
       " (0.0, 'home_ownership_OWN'),\n",
       " (0.0, 'home_ownership_NONE'),\n",
       " (0.0, 'home_ownership_MORTGAGE'),\n",
       " (0.0, 'fico_avg'),\n",
       " (0.0, 'emp_length_No Employment'),\n",
       " (0.0, 'emp_length_< 1 year'),\n",
       " (0.0, 'emp_length_9 years'),\n",
       " (0.0, 'emp_length_8 years'),\n",
       " (0.0, 'emp_length_7 years'),\n",
       " (0.0, 'emp_length_6 years'),\n",
       " (0.0, 'emp_length_5 years'),\n",
       " (0.0, 'emp_length_4 years'),\n",
       " (0.0, 'emp_length_3 years'),\n",
       " (0.0, 'emp_length_2 years'),\n",
       " (0.0, 'emp_length_10+ years'),\n",
       " (0.0, 'earliest_cr_line'),\n",
       " (0.0, 'delinq_2yrs'),\n",
       " (0.0, 'chargeoff_within_12_mths'),\n",
       " (0.0, 'annual_inc'),\n",
       " (0.0, 'acc_now_delinq')]"
      ]
     },
     "execution_count": 82,
     "metadata": {},
     "output_type": "execute_result"
    }
   ],
   "source": [
    "sorted(list(zip(entropy_tree.feature_importances_, X_train.columns)), reverse = True)"
   ]
  },
  {
   "cell_type": "code",
   "execution_count": 91,
   "id": "c9d42ee4",
   "metadata": {
    "scrolled": false
   },
   "outputs": [
    {
     "data": {
      "text/plain": [
       "'entropy_tree_fully_trained.pdf'"
      ]
     },
     "execution_count": 91,
     "metadata": {},
     "output_type": "execute_result"
    }
   ],
   "source": [
    "# Visualize the decision tree\n",
    "dot_data = sklearn.tree.export_graphviz(entropy_tree, out_file=None, \n",
    "                     feature_names=X_test.columns,  \n",
    "                     class_names=[str(entropy_tree.classes_[0]), str(entropy_tree.classes_[1])],  \n",
    "                     filled=True, rounded=True,  \n",
    "                     special_characters=True)  \n",
    "graph = graphviz.Source(dot_data)\n",
    "graph.render('entropy_tree_fully_trained')"
   ]
  },
  {
   "cell_type": "markdown",
   "id": "2c703841",
   "metadata": {},
   "source": [
    "# 5.11 Export<a id='5.11_Export'></a>\n",
    "[Table of Contents](#5.1_Contents)"
   ]
  },
  {
   "cell_type": "code",
   "execution_count": 84,
   "id": "98a5bc87",
   "metadata": {},
   "outputs": [],
   "source": [
    "best_model = entropy_tree\n",
    "best_model.version = '1.0'\n",
    "best_model.pandas_version = pd.__version__\n",
    "best_model.numpy_version = np.__version__\n",
    "best_model.sklearn_version = sklearn_version\n",
    "best_model.X_columns = [col for col in X_train.columns]\n",
    "best_model.build_datetime = datetime.datetime.now()"
   ]
  },
  {
   "cell_type": "code",
   "execution_count": 85,
   "id": "72e46a4a",
   "metadata": {},
   "outputs": [],
   "source": [
    "# save the model\n",
    "\n",
    "# modelpath = \n",
    "# save_file(best_model, 'loan_default_logreg_model.pkl', modelpath)"
   ]
  }
 ],
 "metadata": {
  "kernelspec": {
   "display_name": "Python 3",
   "language": "python",
   "name": "python3"
  },
  "language_info": {
   "codemirror_mode": {
    "name": "ipython",
    "version": 3
   },
   "file_extension": ".py",
   "mimetype": "text/x-python",
   "name": "python",
   "nbconvert_exporter": "python",
   "pygments_lexer": "ipython3",
   "version": "3.8.8"
  }
 },
 "nbformat": 4,
 "nbformat_minor": 5
}
